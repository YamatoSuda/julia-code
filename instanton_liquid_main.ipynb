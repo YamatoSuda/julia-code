{
 "cells": [
  {
   "cell_type": "code",
   "execution_count": 166,
   "source": [
    "using Plots\n",
    "using StatsBase\n",
    "using Distributions\n",
    "using Random\n",
    "using QuadGK\n",
    "using LinearAlgebra\n",
    "using Combinatorics\n",
    "using BenchmarkTools\n",
    "using Printf\n",
    "using Parameters\n",
    "\n",
    "#include(\"MyModuleILM.jl\")\n",
    "#import .MyModuleILM\n",
    "\n",
    "include(\"../matrices/matrix.jl\")\n",
    "include(\"../density/instanton_density.jl\")\n",
    "include(\"../action/action.jl\")\n",
    "include(\"../fermion/fermion.jl\")\n",
    "include(\"../HMC/hmc.jl\")\n",
    "include(\"../HMC/simple_mp.jl\")\n",
    "include(\"../plot/plot.jl\")\n",
    "\n",
    "\n",
    "#versioninfo()"
   ],
   "outputs": [],
   "metadata": {}
  },
  {
   "cell_type": "markdown",
   "source": [
    "0. 表記に関して\n",
    "\n",
    "struct              -> キャメルケース\n",
    "\n",
    "structの構造を持つ引数 -> 大文字で始まる文字列\n",
    "\n",
    "関数                 -> 小文字\n",
    "\n",
    "１．メインのILMの計算コード\n",
    "\n",
    "1.A 計算のセットアップ \n",
    "\n",
    "    (a) Modelparams = ModelParams() でモデル内のパラメータを設定する：\n",
    "    Nc, Nf, Λ, nI, nA, N, mag, A, g, gauge\n",
    "\n",
    "    (b) choose_gauge_field!() でインスタントンの数，ゲージ，フレーバーを決める\n",
    "\n",
    "    (c) ColorWorkSpace, ParamsofILM で計算に必要な変数とワークスペースを確保する．\n",
    "\n",
    "1.B 配位の生成\n",
    "\n",
    "\n",
    "\n",
    "\n",
    "    \n"
   ],
   "metadata": {}
  },
  {
   "cell_type": "code",
   "execution_count": 187,
   "source": [
    "#-----------------------------------------------------------------------------------------------------------------------#\n",
    "#= HMC法の計算を実行する． =#\n",
    "\n",
    "using Plots\n",
    "using Parameters\n",
    "using Distributions\n",
    "using Random\n",
    "using LinearAlgebra\n",
    "using Combinatorics\n",
    "using QuadGK\n",
    "\n",
    "include(\"../matrices/matrix.jl\")\n",
    "include(\"../density/instanton_density.jl\")\n",
    "include(\"../action/action.jl\")\n",
    "include(\"../fermion/fermion.jl\")\n",
    "include(\"../HMC/hmc.jl\")\n",
    "include(\"../HMC/simple_mp.jl\")\n",
    "include(\"../plot/plot.jl\")\n",
    "\n",
    "# model parameters -----------------------------------------------------------------------------------------------------#\n",
    "Modelparams = ModelParams(0,0,0,  0,0,0,  0,0,0, \"gauge\")                   #struct呼び出し\n",
    "choose_gauge_field!(Modelparams,3,3,gauge=\"SU(2)\",flavor=1)  #インスタントン数，ゲージ場のカラー，フレーバー数の選択\n",
    "\n",
    "\n",
    "#カラー空間での計算を行うワークスペースの確保，初期化\n",
    "@with_kw mutable struct ColorWorkSpace\n",
    "    u::Array{ComplexF64,1}   = zeros(ComplexF64,4)\n",
    "    sigma::Array{Any,1}      = make_sigma()\n",
    "    lambda::Array{Any,1}     = make_lambda()\n",
    "    tem::Array{ComplexF64,2} = zeros(ComplexF64,2,2)\n",
    "    res::Array{ComplexF64,2} = zeros(ComplexF64,2,2)\n",
    "end\n",
    "\n",
    "#初期配位，共役運動量の初期化 -----------------------------------------------------------------------------------------------#\n",
    "@with_kw mutable struct ParamsofILM\n",
    "    ρ::Array{Float64,1}     = (1/Modelparams.Λ)* Modelparams.mag * ones(Float64, Modelparams.nI + Modelparams.nA)\n",
    "    θ::Array{Float64,2}     = rand(Float64, Modelparams.nI + Modelparams.nA, Modelparams.Nc)\n",
    "    z::Array{Float64,2}     = rand(Float64,  Modelparams.nI + Modelparams.nA, 4) \n",
    "    conjρ::Array{Float64,1} = rand(Normal(0,1), Modelparams.nI + Modelparams.nA)\n",
    "    conjθ::Array{Float64,2} = rand(Normal(0,1), Modelparams.nI + Modelparams.nA, Modelparams.Nc)\n",
    "    conjz::Array{Float64,2} = rand(Normal(0,1), Modelparams.nI + Modelparams.nA, 4)\n",
    "end\n",
    "\n",
    "ParamsofHMC    = ParamsofILM()\n",
    "BackupofHMC    = ParamsofILM()\n",
    "Colorworkspace = ColorWorkSpace()\n",
    "# Sigma  :OK\n",
    "# u      :OK\n",
    "# lambda :OK\n",
    "# tem    :OK\n",
    "# res    :OK\n",
    "# lambda :OK\n",
    "# theta  :OK\n",
    "\n",
    "\n",
    "\n",
    "#conjρの出力確認\n",
    "#=\n",
    "@show ParamsofHMC.conjρ[1]\n",
    "@show ParamsofHMC.conjρ[2]\n",
    "@show ParamsofHMC.conjρ[3]\n",
    "@show ParamsofHMC.conjρ[4]\n",
    "=#\n",
    "\n",
    "#conjθの出力確認\n",
    "#=\n",
    "@show ParamsofHMC.conjθ[1, 1]\n",
    "@show ParamsofHMC.conjθ[1, 2]\n",
    "@show ParamsofHMC.conjθ[1, 3]\n",
    "@show ParamsofHMC.conjθ[2, 1]\n",
    "@show ParamsofHMC.conjθ[2, 2]\n",
    "@show ParamsofHMC.conjθ[2, 3]\n",
    "@show ParamsofHMC.conjθ[3, 1]\n",
    "@show ParamsofHMC.conjθ[3, 2]\n",
    "@show ParamsofHMC.conjθ[3, 3]\n",
    "=#\n",
    "\n",
    "#=\n",
    "@show ParamsofHMC.conjθ[4,1:3]\n",
    "@show dot(ParamsofHMC.conjθ[4,1:3],ParamsofHMC.conjθ[4,1:3])\n",
    "@show dot(ParamsofHMC.conjθ[4,1:3],ParamsofHMC.conjθ[4,1:3]) == ParamsofHMC.conjθ[4,1]*ParamsofHMC.conjθ[4,1] + ParamsofHMC.conjθ[4,2]*ParamsofHMC.conjθ[4,2] + ParamsofHMC.conjθ[4,3]*ParamsofHMC.conjθ[4,3]\n",
    "\n",
    "@show ParamsofHMC.conjθ\n",
    "=#\n",
    "#=\n",
    "@show ParamsofHMC.conjz[1]\n",
    "@show ParamsofHMC.conjz\n",
    "=#\n",
    "\n",
    "#初期時刻 tau = 0.0 でのハミルトニアンを計算 ----------------------------------------------------------------------------------#\n",
    "Hini = 0.0\n",
    "Hfin = 0.0\n",
    "@time Hini = hamiltonian(ParamsofHMC,Modelparams,Colorworkspace)\n",
    "#-------------------------------------------------------------------------------------------------------------------------#\n",
    "\n",
    "#分子軌道法により，パラメータの時間発展を計算 -----------------------------------------------------------------------------------#\n",
    "#BackupofHMC = deepcopy(ParamsofHMC) #中身をそのままコピーしたバックアップを作成\n",
    "# 2021-10-4 HMCでの変数更新のテスト\n",
    "#ParamsofHMC.conjρ[1] = -0.2\n",
    "#ParamsofHMC.ρ[1]     = 0.0025\n",
    "#@show ParamsofHMC.conjρ[1]\n",
    "#@show ParamsofHMC.ρ[1]\n",
    "#molecular_dynamics_rho!(1,ParamsofHMC,Modelparams,Colorworkspace)\n",
    "\n",
    "\n",
    "#@show ParamsofHMC.ρ[1]\n",
    "#@time mp_update!(1, ParamsofHMC, Modelparams)\n",
    "#@show ParamsofHMC.ρ[1]\n",
    "\n",
    "\n",
    "\n",
    "#mp_check()\n",
    "\n",
    "# molecular_dynamics_theta!(N, k, ParamsofHMC,Modelparams,Colorworkspace)\n",
    "#mp_check()\n",
    "\n",
    "# molecular_dynamics_z!(N, k, ParamsofHMC,Modelparams,Colorworkspace)\n",
    "#mp_check()\n",
    "\n",
    "#-------------------------------------------\n",
    "#@time Hfin = hamiltonian(ParamsofHMC,Modelparams,Colorworkspace)\n",
    "\n",
    "\n",
    "#cal_force_rho(0.0025, 2, ParamsofHMC, Modelparams, Colorworkspace)\n",
    "\n",
    "\n",
    "#===========================test========================================#\n",
    "\n",
    "#=======================================================================#\n",
    "#=\n",
    "@show ParamsofHMC.θ[1]\n",
    "@show ParamsofHMC.θ[1,1:3]\n",
    "@show ParamsofHMC.z[1,1:4]\n",
    "ParamsofHMC.z[1,1:4] .= 1.0\n",
    "@show ParamsofHMC.z[1,1:4]\n",
    "ParamsofHMC.θ\n",
    "ParamsofHMC.z\n",
    "=#\n",
    "#===========================plot=======================================#\n",
    "#@show ParamsofHMC.ρ[1] \n",
    "#@show ParamsofHMC.ρ[2]  \n",
    "\n",
    "# overlap elements plot用コード\n",
    "#=\n",
    "set_rho1 = 1.0\n",
    "set_rho2 = 2.0\n",
    "\n",
    "plot_overlap_emlements(10e-4, 5.0, set_rho1, set_rho2, ParamsofHMC, Modelparams, Colorworkspace, type=\"sl1\", re=0,sample=1000)\n",
    "plot_overlap_emlements(10e-4, 5.0, set_rho1, set_rho2, ParamsofHMC, Modelparams, Colorworkspace, type=\"sl2\", re=1)\n",
    "plot_overlap_emlements(10e-4, 5.0, set_rho1, set_rho2, ParamsofHMC, Modelparams, Colorworkspace, type=\"sl3\", re=2)\n",
    "plot_overlap_emlements(10e-4, 5.0, set_rho1, set_rho2, ParamsofHMC, Modelparams, Colorworkspace, type=\"sum\", re=3)\n",
    "=#\n",
    "#savefig(\"../FIGS/overlap_elements_rho_1.png\")\n",
    "#savefig(\"../FIGS/overlap_elements_rho_2.png\")\n",
    "#savefig(\"../FIGS/overlap_elements_rho_1-2.png\")\n",
    "\n",
    "#=======================================================================#\n",
    "# fermion det の確認\n",
    "#=\n",
    "@time mass_matrix(4,Modelparams)\n",
    "@time dirac_ope_matrix(ParamsofHMC,Modelparams,Colorworkspace)\n",
    "@time det_total_product(3,ParamsofHMC,Modelparams,Colorworkspace)\n",
    "\n",
    "@time tr_log_fermion(3,ParamsofHMC,Modelparams,Colorworkspace)\n",
    "=#\n",
    "\n",
    "#=\n",
    "display(ParamsofHMC.θ)\n",
    "ParamsofHMC.θ[1,2]\n",
    "=#\n",
    "#=======================================================================#\n",
    "\n",
    "\n",
    "\n",
    "#@show dudθ(3, 1, 4, 1, 1, ParamsofHMC, Modelparams, Colorworkspace)\n",
    "#@show action_stream_dtheta(1,2,1,2, ParamsofHMC, Modelparams, Colorworkspace)\n",
    "\n",
    "#@show ParamsofHMC.z\n",
    "#@show action_core_dz(1, 2, 4, 2, ParamsofHMC, Modelparams, Colorworkspace)\n",
    "#@show action_stream_dz(1, 2, 4, 2, ParamsofHMC, Modelparams, Colorworkspace)\n",
    "\n"
   ],
   "outputs": [
    {
     "output_type": "stream",
     "name": "stdout",
     "text": [
      "----- hamiltonian Calc. --------------------------------------------------------------------\n",
      "test(1) : [correct gauge?] passed!\n",
      "sum_momentum = 21.332582043096004\n",
      "test(2) : [finish calculating momenta?] passed!\n",
      "sum_action = -188.77352656438217\n",
      "density part passed!\n",
      "action_int part passed!\n",
      "sum_action = -188.7735265561046 + 0.0im\n",
      "test(3) : [finish calculating action?] passed!\n",
      "----- hamiltonian Calc. End ----------------------------------------------------------------\n",
      "hamiltonian : -167.4409445130086 + 0.0im\n",
      "  0.325245 seconds (947.93 k allocations: 55.596 MiB, 4.68% gc time, 98.61% compilation time)\n"
     ]
    },
    {
     "output_type": "execute_result",
     "data": {
      "text/plain": [
       "-167.4409445130086 + 0.0im"
      ]
     },
     "metadata": {},
     "execution_count": 187
    }
   ],
   "metadata": {}
  },
  {
   "cell_type": "code",
   "execution_count": 91,
   "source": [
    "#行列とトレース，行列式に関する公式の確認\n",
    "\n",
    "TestA = [\n",
    "    1 2\n",
    "    3 4\n",
    "]\n",
    "\n",
    "TestB = [\n",
    "    0 3+2im\n",
    "    3-2im 0\n",
    "]\n",
    "\n",
    "TestC = exp(TestB)\n",
    "\n",
    "@show det(TestB)\n",
    "@show tr(log(TestB))\n",
    "@show log(abs(det(TestB)))\n",
    "@show exp(log(abs(det(TestB))))\n",
    "@show exp(tr(log(TestB)))\n",
    "\n",
    "\n",
    "@show log(im) == pi * im/2"
   ],
   "outputs": [
    {
     "output_type": "stream",
     "name": "stdout",
     "text": [
      "det(TestB) = -13.0 - 0.0im\n",
      "tr(log(TestB)) = 2.5649493574615363 + 3.1415926535897927im\n",
      "log(abs(det(TestB))) = 2.5649493574615367\n",
      "exp(log(abs(det(TestB)))) = 13.0\n",
      "exp(tr(log(TestB))) = -12.999999999999995 + 7.365200566942371e-15im\n",
      "log(im) == (pi * im) / 2 = true\n"
     ]
    },
    {
     "output_type": "execute_result",
     "data": {
      "text/plain": [
       "true"
      ]
     },
     "metadata": {},
     "execution_count": 91
    }
   ],
   "metadata": {}
  },
  {
   "cell_type": "code",
   "execution_count": 96,
   "source": [
    "z_complex = Complex(2,2)\n",
    "real(z_complex)"
   ],
   "outputs": [
    {
     "output_type": "execute_result",
     "data": {
      "text/plain": [
       "2"
      ]
     },
     "metadata": {},
     "execution_count": 96
    }
   ],
   "metadata": {}
  },
  {
   "cell_type": "code",
   "execution_count": 155,
   "source": [
    "using Random\n",
    "using Distributions\n",
    "\n",
    "rand_num = [0.0]\n",
    "rand!(Uniform(-1,1),rand_num)\n"
   ],
   "outputs": [
    {
     "output_type": "execute_result",
     "data": {
      "text/plain": [
       "1-element Vector{Float64}:\n",
       " -0.6344981111124479"
      ]
     },
     "metadata": {},
     "execution_count": 155
    }
   ],
   "metadata": {}
  },
  {
   "cell_type": "markdown",
   "source": [
    "$$\n",
    "\\det (e^A) = e^{\\textrm{tr} A} \\\\\n",
    "\\det (A) = e^{\\textrm{tr}(\\log A)} \\\\\n",
    "\\textrm{tr}(\\log A) = \\log (\\det (A))\n",
    "$$\n",
    "$$\n",
    "6 \\int_0^{\\infty} \\frac{x^{3/2}}{(x+1/\\lambda)^{3/2}(x+\\lambda)^{5/2}}dx \n",
    "= \\frac{3 \\pi}{8} \\frac{\\lambda^{3/2}}{[1+\\frac{5}{4}(\\lambda^2-1) + (3\\pi/32)^{4/3}(\\lambda^2-1)^2]^{3/4}}\n",
    "$$"
   ],
   "metadata": {}
  },
  {
   "cell_type": "markdown",
   "source": [
    "論文の図と合致するのはNo2の方．"
   ],
   "metadata": {}
  },
  {
   "cell_type": "markdown",
   "source": [
    "マークダウンにメモを残します．\n",
    "\n",
    "\n",
    "log(xLambda) < 0\n",
    "の制限により，cal_force_rhoの計算が大きく制限される．\n",
    "\n",
    "また，cal_forceの返り値が実数であるという条件を課すと，計算が進まなくなる．\n",
    "（全てのステップで log(xLambda)<0を満たす必要があるため．）\n",
    "\n",
    "これを解決するためには，\n",
    "\n",
    "(a) インスタント密度（およびその微分）の表式の確認\n",
    "\n",
    "    'tHooftの論文を参照しているが，まだ確認できていない．\n",
    "\n",
    "(b) HMC法を用いるのではなく，純粋なメトロポリス法を用いる\n",
    "\n",
    "    （変数の提案の方法がリープフロッグ方程式を用いるか，一様乱数を用いるかの違い）\n",
    "    これにより，作用の微分計算を行わずに計算を実行できる．\n",
    "    しかし，計算コストが大きくなる．これは，自己相関が小さくなるまでに配位の更新回数が必要になるため．\n",
    "\n",
    "(c) 平均場近似の方法による計算の確認も必要．\n",
    "\n",
    "(d) 線形シグマ模型，NJL模型における，エータの質量計算，その問題点を把握しておく必要がある．\n",
    "\n",
    "\n",
    "2021-10-8 追記\n",
    "\n",
    "計算するもの\n",
    "    HMC\n",
    "\n",
    "    ρ,θ,z の更新アルゴリズム（MP法）\n",
    "\n",
    "    ただし，ρの更新方法は単純なMP法になる可能性あり．\n",
    "\n",
    "    それぞれがHMC法を用いる場合に計算する必要があるもの．\n",
    "\n",
    "ρ：微分\n",
    "    density\n",
    "\n",
    "    S_core      手計算：済      実装：済\n",
    "\n",
    "    S_stream    手計算：済      実装：済\n",
    "\n",
    "    det(iD-m)   手計算：未      実装：未\n",
    "\n",
    "θ：微分\n",
    "\n",
    "    S_core      手計算：済      実装：未\n",
    "\n",
    "    S_stream    手計算：済      実装：未\n",
    "\n",
    "    det(iD-m)   手計算：未      実装：未\n",
    "\n",
    "z：微分\n",
    "\n",
    "    S_core      手計算：済      実装：未\n",
    "\n",
    "    S_stream    手計算：済      実装：未\n",
    "    \n",
    "    det(iD-m)   手計算：未      実装：未\n",
    "\n",
    "フェルミオン行列式の計算をトレースしておきたい．\n",
    "ゲージ場の経路積分についても見ておく必要がある．\n",
    "\n",
    "\n",
    "\n",
    "\n",
    "    \n"
   ],
   "metadata": {}
  },
  {
   "cell_type": "markdown",
   "source": [],
   "metadata": {}
  },
  {
   "cell_type": "code",
   "execution_count": 171,
   "source": [
    "\n",
    "#運動エネルギー\n",
    "\n",
    "T = 10  # s\n",
    "L = 30  # m\n",
    "V = L/T # m/s\n",
    "M = 10  # kg\n",
    "E = 0.5M*V^2 # kg m/s^2\n",
    "\n",
    "tau = 2   # スケール因子\n",
    "println(\"=========Before scaling=======\")\n",
    "println(\"T = $T    [s]\")\n",
    "println(\"L = $L    [m]\")\n",
    "println(\"V = $V   [m/s]\")\n",
    "println(\"M = $M    [kg]\")\n",
    "println(\"E = $E  [kg m^2/s^2]\")\n",
    "\n",
    "println(\"==============================\")\n",
    "println(\"scale factor tau = $tau [s]\")\n",
    "println(\"scaling : t=T/tau\")\n",
    "println(\"=========After scaling========\")\n",
    "t = T/tau   # 無次元：tを基準とした単位系\n",
    "l = L\n",
    "v = l/t # 無次元の時間で測った速度．\n",
    "m = M\n",
    "e = 0.5*m*v^2\n",
    "println(\"t = $t   [1]\")\n",
    "println(\"l = $l    [m]\")\n",
    "println(\"v = $v   [m]\")\n",
    "println(\"m = $m    [kg]\")\n",
    "println(\"e = $e [kg m^2]\")\n",
    "println(\"==============================\")"
   ],
   "outputs": [
    {
     "output_type": "stream",
     "name": "stdout",
     "text": [
      "=========Before scaling=======\n",
      "T = 10    [s]\n",
      "L = 30    [m]\n",
      "V = 3.0   [m/s]\n",
      "M = 10    [kg]\n",
      "E = 45.0  [kg m^2/s^2]\n",
      "==============================\n",
      "scale factor tau = 2 [s]\n",
      "scaling : t=T/tau\n",
      "=========After scaling========\n",
      "t = 5.0   [1]\n",
      "l = 30    [m]\n",
      "v = 6.0   [m]\n",
      "m = 10    [kg]\n",
      "e = 180.0 [kg m^2]\n",
      "==============================\n"
     ]
    }
   ],
   "metadata": {}
  },
  {
   "cell_type": "code",
   "execution_count": 219,
   "source": [
    "\n",
    "using StaticArrays\n",
    "\n",
    "test_overlap  = SMatrix{2,3}(1,2,3,4,5,6)\n",
    "test_overlap2 = @SMatrix [1 2 3 ; 4 5 6] \n",
    "test_overlap3 = @MMatrix [1 2 3 ; 4 5 6] \n",
    "\n",
    "test_overlap4 = test_overlap2'\n",
    "\n",
    "display(test_overlap3)\n",
    "display(test_overlap4)\n",
    "\n",
    "test_overlap3[1,2] = 7.0\n",
    "\n",
    "display(test_overlap3)\n",
    "\n",
    "embed = @MMatrix zeros(5,5)\n",
    "\n",
    "embed[1:2, 3:5] = test_overlap3\n",
    "\n",
    "display(embed)\n",
    "\n",
    "embed[3:5, 1:2] = test_overlap4\n",
    "\n",
    "display(embed)\n",
    "\n",
    "@show det(embed)\n",
    "\n",
    "@time mass_matrix = diagm([1,1,1,1,1])\n",
    "\n",
    "embed += mass_matrix\n",
    "\n",
    "display(embed)\n",
    "\n",
    "@show det(embed)"
   ],
   "outputs": [
    {
     "output_type": "display_data",
     "data": {
      "text/plain": [
       "2×3 MMatrix{2, 3, Int64, 6} with indices SOneTo(2)×SOneTo(3):\n",
       " 1  2  3\n",
       " 4  5  6"
      ]
     },
     "metadata": {}
    },
    {
     "output_type": "display_data",
     "data": {
      "text/plain": [
       "3×2 SMatrix{3, 2, Int64, 6} with indices SOneTo(3)×SOneTo(2):\n",
       " 1  4\n",
       " 2  5\n",
       " 3  6"
      ]
     },
     "metadata": {}
    },
    {
     "output_type": "display_data",
     "data": {
      "text/plain": [
       "2×3 MMatrix{2, 3, Int64, 6} with indices SOneTo(2)×SOneTo(3):\n",
       " 1  7  3\n",
       " 4  5  6"
      ]
     },
     "metadata": {}
    },
    {
     "output_type": "display_data",
     "data": {
      "text/plain": [
       "5×5 MMatrix{5, 5, Float64, 25} with indices SOneTo(5)×SOneTo(5):\n",
       " 0.0  0.0  1.0  7.0  3.0\n",
       " 0.0  0.0  4.0  5.0  6.0\n",
       " 0.0  0.0  0.0  0.0  0.0\n",
       " 0.0  0.0  0.0  0.0  0.0\n",
       " 0.0  0.0  0.0  0.0  0.0"
      ]
     },
     "metadata": {}
    },
    {
     "output_type": "display_data",
     "data": {
      "text/plain": [
       "5×5 MMatrix{5, 5, Float64, 25} with indices SOneTo(5)×SOneTo(5):\n",
       " 0.0  0.0  1.0  7.0  3.0\n",
       " 0.0  0.0  4.0  5.0  6.0\n",
       " 1.0  4.0  0.0  0.0  0.0\n",
       " 2.0  5.0  0.0  0.0  0.0\n",
       " 3.0  6.0  0.0  0.0  0.0"
      ]
     },
     "metadata": {}
    },
    {
     "output_type": "display_data",
     "data": {
      "text/plain": [
       "5×5 MMatrix{5, 5, Float64, 25} with indices SOneTo(5)×SOneTo(5):\n",
       " 1.0  0.0  1.0  7.0  3.0\n",
       " 0.0  1.0  4.0  5.0  6.0\n",
       " 1.0  4.0  1.0  0.0  0.0\n",
       " 2.0  5.0  0.0  1.0  0.0\n",
       " 3.0  6.0  0.0  0.0  1.0"
      ]
     },
     "metadata": {}
    },
    {
     "output_type": "stream",
     "name": "stdout",
     "text": [
      "det(embed) = -0.0\n",
      "  0.000008 seconds (2 allocations: 416 bytes)\n",
      "det(embed) = -76.00000000000001\n"
     ]
    },
    {
     "output_type": "execute_result",
     "data": {
      "text/plain": [
       "-76.00000000000001"
      ]
     },
     "metadata": {},
     "execution_count": 219
    }
   ],
   "metadata": {}
  },
  {
   "cell_type": "code",
   "execution_count": 350,
   "source": [
    "R = 1.0\n",
    "\n",
    "p1=[1.0,1.0]\n",
    "p_ave1=sqrt(p1[1]*p1[2])\n",
    "p2=[2.0,2.0]\n",
    "p_ave2=sqrt(p2[1]*p2[2])\n",
    "\n",
    "@show p1\n",
    "@show p2\n",
    "\n",
    "@show p_ave1\n",
    "@show p_ave2\n",
    "\n",
    "ratio1 = (R^2 + p1[1]^2 + p1[2]^2)/(p1[1]*p1[2])\n",
    "ratio2 = (R^2 + p2[1]^2 + p2[2]^2)/(p2[1]*p2[2])\n",
    "\n",
    "res1 = 0.5*ratio1 + 0.5*sqrt(ratio1^2-4)\n",
    "res2 = 0.5*ratio2 + 0.5*sqrt(ratio2^2-4)\n",
    "\n",
    "@show ratio1\n",
    "@show ratio2\n",
    "\n",
    "println(\"====before scaing====\")\n",
    "@show res1\n",
    "@show res2\n",
    "println(\"=====================\")\n",
    "r1 = R/p_ave1\n",
    "r2 = R/p_ave2\n",
    "@. p1 = p1/p_ave1\n",
    "@. p2 = p2/p_ave2\n",
    "\n",
    "@show r1 \n",
    "@show r2 \n",
    "@show p1\n",
    "@show p2\n",
    "\n",
    "ratio1 = (r1^2 + p1[1]^2 + p1[2]^2)/(p1[1]*p1[2])\n",
    "ratio2 = (r2^2 + p2[1]^2 + p2[2]^2)/(p2[1]*p2[2])\n",
    "\n",
    "res1 = 0.5*ratio1 + 0.5*sqrt(ratio1^2-4)\n",
    "res2 = 0.5*ratio2 + 0.5*sqrt(ratio2^2-4)\n",
    "\n",
    "@show ratio1\n",
    "@show ratio2\n",
    "\n",
    "println(\"====after scaing=====\")\n",
    "@show res1\n",
    "@show res2\n",
    "println(\"=====================\")\n",
    "#=\n",
    "プライム付きの変数とプライム無しの変数のどちらで計算しても結果が同じということ．\n",
    "異なるrhoに対しては異なる値を与える．\n",
    "\n",
    "=#"
   ],
   "outputs": [
    {
     "output_type": "stream",
     "name": "stdout",
     "text": [
      "p1 = [1.0, 1.0]\n",
      "p2 = [2.0, 2.0]\n",
      "p_ave1 = 1.0\n",
      "p_ave2 = 2.0\n",
      "ratio1 = 3.0\n",
      "ratio2 = 2.25\n",
      "====before scaing====\n",
      "res1 = 2.618033988749895\n",
      "res2 = 1.6403882032022077\n",
      "=====================\n",
      "r1 = 1.0\n",
      "r2 = 0.5\n",
      "p1 = [1.0, 1.0]\n",
      "p2 = [1.0, 1.0]\n",
      "ratio1 = 3.0\n",
      "ratio2 = 2.25\n",
      "====after scaing=====\n",
      "res1 = 2.618033988749895\n",
      "res2 = 1.6403882032022077\n",
      "=====================\n"
     ]
    }
   ],
   "metadata": {}
  },
  {
   "cell_type": "markdown",
   "source": [],
   "metadata": {}
  },
  {
   "cell_type": "code",
   "execution_count": 485,
   "source": [
    "using Plots\n",
    "\n",
    "ratio_part(R,i,a)          = R^2/(i*a) + i/a + a/i\n",
    "conformal_parameter(R,i,a) = 0.5*ratio_part(R,i,a) + 0.5*sqrt(ratio_part(R,i,a)-4)\n",
    " \n",
    "#スケールにlambdaが依存するか？\n",
    "#異なるinputに対して，値が変化するかどうか\n",
    "\n",
    "input1=[1,1.5]\n",
    "R1 = 0.5\n",
    "input2=[1,6.0]\n",
    "R2 = 0.5\n",
    "\n",
    "#before scaling\n",
    "ratio1_bef = ratio_part(R1,input1[1],input1[2])\n",
    "ratio2_bef = ratio_part(R1,input2[1],input2[2])\n",
    "\n",
    "#scale factor \n",
    "scale1 = sqrt(input1[1]*input1[2])\n",
    "scale2 = sqrt(input2[1]*input2[2])\n",
    "@show scale1\n",
    "@show scale2\n",
    "\n",
    "\n",
    "#scaling \n",
    "scaled1 = input1 / scale1\n",
    "scaled2 = input2 / scale2\n",
    "R1_scaled = R1 / scale1\n",
    "R2_scaled = R2 / scale2\n",
    "\n",
    "# results\n",
    "ratio1 = ratio_part(R1,scaled1[1],scaled1[2])\n",
    "ratio2 = ratio_part(R2,scaled2[1],scaled2[2])\n",
    "\n",
    "ratio1_scl = ratio_part(R1_scaled,scaled1[1],scaled1[2])\n",
    "ratio2_scl = ratio_part(R2_scaled,scaled2[1],scaled2[2])\n",
    "\n",
    "@show ratio1_bef\n",
    "@show ratio2_bef\n",
    "\n",
    "@show ratio1\n",
    "@show ratio2\n",
    "\n",
    "@show ratio1_scl\n",
    "@show ratio2_scl\n",
    "\n",
    "plot_r = range(0,5,length=1000)\n",
    "plot_ratio1 = similar(plot_r)\n",
    "plot_ratio2 = similar(plot_r)\n",
    "\n",
    "@. plot_ratio1 = ratio_part(plot_r,scaled1[1],scaled1[2])\n",
    "@. plot_ratio2 = ratio_part(plot_r,scaled2[1],scaled2[2])\n",
    "\n",
    "plot(plot_r,plot_ratio1,\n",
    "    xlabel=\"R\"\n",
    ")\n",
    "plot!(plot_r,plot_ratio2,\n",
    "    xlabel=\"R\", ylabel=\"ratio\"\n",
    ")\n"
   ],
   "outputs": [
    {
     "output_type": "stream",
     "name": "stdout",
     "text": [
      "scale1 = 1.224744871391589\n",
      "scale2 = 2.449489742783178\n",
      "ratio1_bef = 2.333333333333333\n",
      "ratio2_bef = 6.208333333333333\n",
      "ratio1 = 2.416666666666667\n",
      "ratio2 = 6.416666666666667\n",
      "ratio1_scl = 2.3333333333333335\n",
      "ratio2_scl = 6.208333333333333\n"
     ]
    },
    {
     "output_type": "execute_result",
     "data": {
      "image/svg+xml": "<?xml version=\"1.0\" encoding=\"utf-8\"?>\n<svg xmlns=\"http://www.w3.org/2000/svg\" xmlns:xlink=\"http://www.w3.org/1999/xlink\" width=\"600\" height=\"400\" viewBox=\"0 0 2400 1600\">\n<defs>\n  <clipPath id=\"clip630\">\n    <rect x=\"0\" y=\"0\" width=\"2400\" height=\"1600\"/>\n  </clipPath>\n</defs>\n<path clip-path=\"url(#clip630)\" d=\"\nM0 1600 L2400 1600 L2400 0 L0 0  Z\n  \" fill=\"#ffffff\" fill-rule=\"evenodd\" fill-opacity=\"1\"/>\n<defs>\n  <clipPath id=\"clip631\">\n    <rect x=\"480\" y=\"0\" width=\"1681\" height=\"1600\"/>\n  </clipPath>\n</defs>\n<path clip-path=\"url(#clip630)\" d=\"\nM203.964 1423.18 L2352.76 1423.18 L2352.76 47.2441 L203.964 47.2441  Z\n  \" fill=\"#ffffff\" fill-rule=\"evenodd\" fill-opacity=\"1\"/>\n<defs>\n  <clipPath id=\"clip632\">\n    <rect x=\"203\" y=\"47\" width=\"2150\" height=\"1377\"/>\n  </clipPath>\n</defs>\n<polyline clip-path=\"url(#clip632)\" style=\"stroke:#000000; stroke-linecap:butt; stroke-linejoin:round; stroke-width:2; stroke-opacity:0.1; fill:none\" points=\"\n  264.778,1423.18 264.778,47.2441 \n  \"/>\n<polyline clip-path=\"url(#clip632)\" style=\"stroke:#000000; stroke-linecap:butt; stroke-linejoin:round; stroke-width:2; stroke-opacity:0.1; fill:none\" points=\"\n  670.211,1423.18 670.211,47.2441 \n  \"/>\n<polyline clip-path=\"url(#clip632)\" style=\"stroke:#000000; stroke-linecap:butt; stroke-linejoin:round; stroke-width:2; stroke-opacity:0.1; fill:none\" points=\"\n  1075.64,1423.18 1075.64,47.2441 \n  \"/>\n<polyline clip-path=\"url(#clip632)\" style=\"stroke:#000000; stroke-linecap:butt; stroke-linejoin:round; stroke-width:2; stroke-opacity:0.1; fill:none\" points=\"\n  1481.08,1423.18 1481.08,47.2441 \n  \"/>\n<polyline clip-path=\"url(#clip632)\" style=\"stroke:#000000; stroke-linecap:butt; stroke-linejoin:round; stroke-width:2; stroke-opacity:0.1; fill:none\" points=\"\n  1886.51,1423.18 1886.51,47.2441 \n  \"/>\n<polyline clip-path=\"url(#clip632)\" style=\"stroke:#000000; stroke-linecap:butt; stroke-linejoin:round; stroke-width:2; stroke-opacity:0.1; fill:none\" points=\"\n  2291.94,1423.18 2291.94,47.2441 \n  \"/>\n<polyline clip-path=\"url(#clip630)\" style=\"stroke:#000000; stroke-linecap:butt; stroke-linejoin:round; stroke-width:4; stroke-opacity:1; fill:none\" points=\"\n  203.964,1423.18 2352.76,1423.18 \n  \"/>\n<polyline clip-path=\"url(#clip630)\" style=\"stroke:#000000; stroke-linecap:butt; stroke-linejoin:round; stroke-width:4; stroke-opacity:1; fill:none\" points=\"\n  264.778,1423.18 264.778,1404.28 \n  \"/>\n<polyline clip-path=\"url(#clip630)\" style=\"stroke:#000000; stroke-linecap:butt; stroke-linejoin:round; stroke-width:4; stroke-opacity:1; fill:none\" points=\"\n  670.211,1423.18 670.211,1404.28 \n  \"/>\n<polyline clip-path=\"url(#clip630)\" style=\"stroke:#000000; stroke-linecap:butt; stroke-linejoin:round; stroke-width:4; stroke-opacity:1; fill:none\" points=\"\n  1075.64,1423.18 1075.64,1404.28 \n  \"/>\n<polyline clip-path=\"url(#clip630)\" style=\"stroke:#000000; stroke-linecap:butt; stroke-linejoin:round; stroke-width:4; stroke-opacity:1; fill:none\" points=\"\n  1481.08,1423.18 1481.08,1404.28 \n  \"/>\n<polyline clip-path=\"url(#clip630)\" style=\"stroke:#000000; stroke-linecap:butt; stroke-linejoin:round; stroke-width:4; stroke-opacity:1; fill:none\" points=\"\n  1886.51,1423.18 1886.51,1404.28 \n  \"/>\n<polyline clip-path=\"url(#clip630)\" style=\"stroke:#000000; stroke-linecap:butt; stroke-linejoin:round; stroke-width:4; stroke-opacity:1; fill:none\" points=\"\n  2291.94,1423.18 2291.94,1404.28 \n  \"/>\n<path clip-path=\"url(#clip630)\" d=\"M264.778 1452.37 Q261.167 1452.37 259.339 1455.94 Q257.533 1459.48 257.533 1466.61 Q257.533 1473.71 259.339 1477.28 Q261.167 1480.82 264.778 1480.82 Q268.413 1480.82 270.218 1477.28 Q272.047 1473.71 272.047 1466.61 Q272.047 1459.48 270.218 1455.94 Q268.413 1452.37 264.778 1452.37 M264.778 1448.67 Q270.589 1448.67 273.644 1453.27 Q276.723 1457.86 276.723 1466.61 Q276.723 1475.33 273.644 1479.94 Q270.589 1484.52 264.778 1484.52 Q258.968 1484.52 255.89 1479.94 Q252.834 1475.33 252.834 1466.61 Q252.834 1457.86 255.89 1453.27 Q258.968 1448.67 264.778 1448.67 Z\" fill=\"#000000\" fill-rule=\"evenodd\" fill-opacity=\"1\" /><path clip-path=\"url(#clip630)\" d=\"M660.593 1479.92 L668.232 1479.92 L668.232 1453.55 L659.922 1455.22 L659.922 1450.96 L668.186 1449.29 L672.861 1449.29 L672.861 1479.92 L680.5 1479.92 L680.5 1483.85 L660.593 1483.85 L660.593 1479.92 Z\" fill=\"#000000\" fill-rule=\"evenodd\" fill-opacity=\"1\" /><path clip-path=\"url(#clip630)\" d=\"M1070.3 1479.92 L1086.62 1479.92 L1086.62 1483.85 L1064.67 1483.85 L1064.67 1479.92 Q1067.33 1477.16 1071.92 1472.53 Q1076.52 1467.88 1077.7 1466.54 Q1079.95 1464.01 1080.83 1462.28 Q1081.73 1460.52 1081.73 1458.83 Q1081.73 1456.07 1079.79 1454.34 Q1077.87 1452.6 1074.76 1452.6 Q1072.56 1452.6 1070.11 1453.37 Q1067.68 1454.13 1064.9 1455.68 L1064.9 1450.96 Q1067.73 1449.82 1070.18 1449.25 Q1072.63 1448.67 1074.67 1448.67 Q1080.04 1448.67 1083.24 1451.35 Q1086.43 1454.04 1086.43 1458.53 Q1086.43 1460.66 1085.62 1462.58 Q1084.83 1464.48 1082.73 1467.07 Q1082.15 1467.74 1079.05 1470.96 Q1075.94 1474.15 1070.3 1479.92 Z\" fill=\"#000000\" fill-rule=\"evenodd\" fill-opacity=\"1\" /><path clip-path=\"url(#clip630)\" d=\"M1485.32 1465.22 Q1488.68 1465.94 1490.56 1468.2 Q1492.45 1470.47 1492.45 1473.81 Q1492.45 1478.92 1488.93 1481.72 Q1485.42 1484.52 1478.93 1484.52 Q1476.76 1484.52 1474.44 1484.08 Q1472.15 1483.67 1469.7 1482.81 L1469.7 1478.3 Q1471.64 1479.43 1473.96 1480.01 Q1476.27 1480.59 1478.8 1480.59 Q1483.19 1480.59 1485.49 1478.85 Q1487.8 1477.12 1487.8 1473.81 Q1487.8 1470.75 1485.65 1469.04 Q1483.52 1467.3 1479.7 1467.3 L1475.67 1467.3 L1475.67 1463.46 L1479.88 1463.46 Q1483.33 1463.46 1485.16 1462.09 Q1486.99 1460.7 1486.99 1458.11 Q1486.99 1455.45 1485.09 1454.04 Q1483.22 1452.6 1479.7 1452.6 Q1477.78 1452.6 1475.58 1453.02 Q1473.38 1453.44 1470.74 1454.31 L1470.74 1450.15 Q1473.4 1449.41 1475.72 1449.04 Q1478.06 1448.67 1480.12 1448.67 Q1485.44 1448.67 1488.54 1451.1 Q1491.64 1453.5 1491.64 1457.63 Q1491.64 1460.5 1490 1462.49 Q1488.36 1464.45 1485.32 1465.22 Z\" fill=\"#000000\" fill-rule=\"evenodd\" fill-opacity=\"1\" /><path clip-path=\"url(#clip630)\" d=\"M1889.52 1453.37 L1877.71 1471.81 L1889.52 1471.81 L1889.52 1453.37 M1888.29 1449.29 L1894.17 1449.29 L1894.17 1471.81 L1899.1 1471.81 L1899.1 1475.7 L1894.17 1475.7 L1894.17 1483.85 L1889.52 1483.85 L1889.52 1475.7 L1873.92 1475.7 L1873.92 1471.19 L1888.29 1449.29 Z\" fill=\"#000000\" fill-rule=\"evenodd\" fill-opacity=\"1\" /><path clip-path=\"url(#clip630)\" d=\"M2282.22 1449.29 L2300.58 1449.29 L2300.58 1453.23 L2286.5 1453.23 L2286.5 1461.7 Q2287.52 1461.35 2288.54 1461.19 Q2289.56 1461 2290.58 1461 Q2296.36 1461 2299.74 1464.18 Q2303.12 1467.35 2303.12 1472.76 Q2303.12 1478.34 2299.65 1481.44 Q2296.18 1484.52 2289.86 1484.52 Q2287.68 1484.52 2285.41 1484.15 Q2283.17 1483.78 2280.76 1483.04 L2280.76 1478.34 Q2282.84 1479.48 2285.07 1480.03 Q2287.29 1480.59 2289.77 1480.59 Q2293.77 1480.59 2296.11 1478.48 Q2298.45 1476.38 2298.45 1472.76 Q2298.45 1469.15 2296.11 1467.05 Q2293.77 1464.94 2289.77 1464.94 Q2287.89 1464.94 2286.02 1465.36 Q2284.16 1465.77 2282.22 1466.65 L2282.22 1449.29 Z\" fill=\"#000000\" fill-rule=\"evenodd\" fill-opacity=\"1\" /><path clip-path=\"url(#clip630)\" d=\"M1282.39 1545.76 Q1284.45 1546.46 1286.4 1548.76 Q1288.37 1551.05 1290.34 1555.06 L1296.87 1568.04 L1289.96 1568.04 L1283.88 1555.85 Q1281.53 1551.08 1279.3 1549.52 Q1277.1 1547.96 1273.28 1547.96 L1266.28 1547.96 L1266.28 1568.04 L1259.85 1568.04 L1259.85 1520.52 L1274.37 1520.52 Q1282.51 1520.52 1286.52 1523.93 Q1290.53 1527.34 1290.53 1534.21 Q1290.53 1538.7 1288.43 1541.66 Q1286.36 1544.62 1282.39 1545.76 M1266.28 1525.81 L1266.28 1542.68 L1274.37 1542.68 Q1279.01 1542.68 1281.37 1540.54 Q1283.75 1538.38 1283.75 1534.21 Q1283.75 1530.04 1281.37 1527.94 Q1279.01 1525.81 1274.37 1525.81 L1266.28 1525.81 Z\" fill=\"#000000\" fill-rule=\"evenodd\" fill-opacity=\"1\" /><polyline clip-path=\"url(#clip632)\" style=\"stroke:#000000; stroke-linecap:butt; stroke-linejoin:round; stroke-width:2; stroke-opacity:0.1; fill:none\" points=\"\n  203.964,1257.42 2352.76,1257.42 \n  \"/>\n<polyline clip-path=\"url(#clip632)\" style=\"stroke:#000000; stroke-linecap:butt; stroke-linejoin:round; stroke-width:2; stroke-opacity:0.1; fill:none\" points=\"\n  203.964,1033.61 2352.76,1033.61 \n  \"/>\n<polyline clip-path=\"url(#clip632)\" style=\"stroke:#000000; stroke-linecap:butt; stroke-linejoin:round; stroke-width:2; stroke-opacity:0.1; fill:none\" points=\"\n  203.964,809.813 2352.76,809.813 \n  \"/>\n<polyline clip-path=\"url(#clip632)\" style=\"stroke:#000000; stroke-linecap:butt; stroke-linejoin:round; stroke-width:2; stroke-opacity:0.1; fill:none\" points=\"\n  203.964,586.011 2352.76,586.011 \n  \"/>\n<polyline clip-path=\"url(#clip632)\" style=\"stroke:#000000; stroke-linecap:butt; stroke-linejoin:round; stroke-width:2; stroke-opacity:0.1; fill:none\" points=\"\n  203.964,362.208 2352.76,362.208 \n  \"/>\n<polyline clip-path=\"url(#clip632)\" style=\"stroke:#000000; stroke-linecap:butt; stroke-linejoin:round; stroke-width:2; stroke-opacity:0.1; fill:none\" points=\"\n  203.964,138.406 2352.76,138.406 \n  \"/>\n<polyline clip-path=\"url(#clip630)\" style=\"stroke:#000000; stroke-linecap:butt; stroke-linejoin:round; stroke-width:4; stroke-opacity:1; fill:none\" points=\"\n  203.964,1423.18 203.964,47.2441 \n  \"/>\n<polyline clip-path=\"url(#clip630)\" style=\"stroke:#000000; stroke-linecap:butt; stroke-linejoin:round; stroke-width:4; stroke-opacity:1; fill:none\" points=\"\n  203.964,1257.42 222.861,1257.42 \n  \"/>\n<polyline clip-path=\"url(#clip630)\" style=\"stroke:#000000; stroke-linecap:butt; stroke-linejoin:round; stroke-width:4; stroke-opacity:1; fill:none\" points=\"\n  203.964,1033.61 222.861,1033.61 \n  \"/>\n<polyline clip-path=\"url(#clip630)\" style=\"stroke:#000000; stroke-linecap:butt; stroke-linejoin:round; stroke-width:4; stroke-opacity:1; fill:none\" points=\"\n  203.964,809.813 222.861,809.813 \n  \"/>\n<polyline clip-path=\"url(#clip630)\" style=\"stroke:#000000; stroke-linecap:butt; stroke-linejoin:round; stroke-width:4; stroke-opacity:1; fill:none\" points=\"\n  203.964,586.011 222.861,586.011 \n  \"/>\n<polyline clip-path=\"url(#clip630)\" style=\"stroke:#000000; stroke-linecap:butt; stroke-linejoin:round; stroke-width:4; stroke-opacity:1; fill:none\" points=\"\n  203.964,362.208 222.861,362.208 \n  \"/>\n<polyline clip-path=\"url(#clip630)\" style=\"stroke:#000000; stroke-linecap:butt; stroke-linejoin:round; stroke-width:4; stroke-opacity:1; fill:none\" points=\"\n  203.964,138.406 222.861,138.406 \n  \"/>\n<path clip-path=\"url(#clip630)\" d=\"M147.061 1240.14 L165.417 1240.14 L165.417 1244.07 L151.343 1244.07 L151.343 1252.54 Q152.362 1252.2 153.38 1252.04 Q154.399 1251.85 155.417 1251.85 Q161.204 1251.85 164.584 1255.02 Q167.964 1258.19 167.964 1263.61 Q167.964 1269.19 164.491 1272.29 Q161.019 1275.37 154.7 1275.37 Q152.524 1275.37 150.255 1275 Q148.01 1274.63 145.603 1273.89 L145.603 1269.19 Q147.686 1270.32 149.908 1270.88 Q152.13 1271.43 154.607 1271.43 Q158.612 1271.43 160.95 1269.33 Q163.288 1267.22 163.288 1263.61 Q163.288 1260 160.95 1257.89 Q158.612 1255.79 154.607 1255.79 Q152.732 1255.79 150.857 1256.2 Q149.005 1256.62 147.061 1257.5 L147.061 1240.14 Z\" fill=\"#000000\" fill-rule=\"evenodd\" fill-opacity=\"1\" /><path clip-path=\"url(#clip630)\" d=\"M116.668 1046.96 L124.306 1046.96 L124.306 1020.59 L115.996 1022.26 L115.996 1018 L124.26 1016.33 L128.936 1016.33 L128.936 1046.96 L136.575 1046.96 L136.575 1050.89 L116.668 1050.89 L116.668 1046.96 Z\" fill=\"#000000\" fill-rule=\"evenodd\" fill-opacity=\"1\" /><path clip-path=\"url(#clip630)\" d=\"M156.019 1019.41 Q152.408 1019.41 150.579 1022.98 Q148.774 1026.52 148.774 1033.65 Q148.774 1040.76 150.579 1044.32 Q152.408 1047.86 156.019 1047.86 Q159.653 1047.86 161.459 1044.32 Q163.288 1040.76 163.288 1033.65 Q163.288 1026.52 161.459 1022.98 Q159.653 1019.41 156.019 1019.41 M156.019 1015.71 Q161.829 1015.71 164.885 1020.32 Q167.964 1024.9 167.964 1033.65 Q167.964 1042.38 164.885 1046.98 Q161.829 1051.57 156.019 1051.57 Q150.209 1051.57 147.13 1046.98 Q144.075 1042.38 144.075 1033.65 Q144.075 1024.9 147.13 1020.32 Q150.209 1015.71 156.019 1015.71 Z\" fill=\"#000000\" fill-rule=\"evenodd\" fill-opacity=\"1\" /><path clip-path=\"url(#clip630)\" d=\"M117.663 823.158 L125.302 823.158 L125.302 796.792 L116.992 798.459 L116.992 794.199 L125.255 792.533 L129.931 792.533 L129.931 823.158 L137.57 823.158 L137.57 827.093 L117.663 827.093 L117.663 823.158 Z\" fill=\"#000000\" fill-rule=\"evenodd\" fill-opacity=\"1\" /><path clip-path=\"url(#clip630)\" d=\"M147.061 792.533 L165.417 792.533 L165.417 796.468 L151.343 796.468 L151.343 804.94 Q152.362 804.593 153.38 804.431 Q154.399 804.246 155.417 804.246 Q161.204 804.246 164.584 807.417 Q167.964 810.588 167.964 816.005 Q167.964 821.583 164.491 824.685 Q161.019 827.764 154.7 827.764 Q152.524 827.764 150.255 827.394 Q148.01 827.023 145.603 826.283 L145.603 821.583 Q147.686 822.718 149.908 823.273 Q152.13 823.829 154.607 823.829 Q158.612 823.829 160.95 821.722 Q163.288 819.616 163.288 816.005 Q163.288 812.394 160.95 810.287 Q158.612 808.181 154.607 808.181 Q152.732 808.181 150.857 808.597 Q149.005 809.014 147.061 809.894 L147.061 792.533 Z\" fill=\"#000000\" fill-rule=\"evenodd\" fill-opacity=\"1\" /><path clip-path=\"url(#clip630)\" d=\"M119.885 599.355 L136.204 599.355 L136.204 603.291 L114.26 603.291 L114.26 599.355 Q116.922 596.601 121.505 591.971 Q126.112 587.318 127.292 585.976 Q129.538 583.453 130.417 581.717 Q131.32 579.957 131.32 578.268 Q131.32 575.513 129.376 573.777 Q127.455 572.041 124.353 572.041 Q122.154 572.041 119.7 572.805 Q117.269 573.568 114.492 575.119 L114.492 570.397 Q117.316 569.263 119.769 568.684 Q122.223 568.106 124.26 568.106 Q129.63 568.106 132.825 570.791 Q136.019 573.476 136.019 577.967 Q136.019 580.096 135.209 582.017 Q134.422 583.916 132.316 586.508 Q131.737 587.179 128.635 590.397 Q125.533 593.591 119.885 599.355 Z\" fill=\"#000000\" fill-rule=\"evenodd\" fill-opacity=\"1\" /><path clip-path=\"url(#clip630)\" d=\"M156.019 571.809 Q152.408 571.809 150.579 575.374 Q148.774 578.916 148.774 586.045 Q148.774 593.152 150.579 596.716 Q152.408 600.258 156.019 600.258 Q159.653 600.258 161.459 596.716 Q163.288 593.152 163.288 586.045 Q163.288 578.916 161.459 575.374 Q159.653 571.809 156.019 571.809 M156.019 568.106 Q161.829 568.106 164.885 572.712 Q167.964 577.295 167.964 586.045 Q167.964 594.772 164.885 599.379 Q161.829 603.962 156.019 603.962 Q150.209 603.962 147.13 599.379 Q144.075 594.772 144.075 586.045 Q144.075 577.295 147.13 572.712 Q150.209 568.106 156.019 568.106 Z\" fill=\"#000000\" fill-rule=\"evenodd\" fill-opacity=\"1\" /><path clip-path=\"url(#clip630)\" d=\"M120.88 375.553 L137.2 375.553 L137.2 379.488 L115.256 379.488 L115.256 375.553 Q117.918 372.799 122.501 368.169 Q127.107 363.516 128.288 362.174 Q130.533 359.65 131.413 357.914 Q132.316 356.155 132.316 354.465 Q132.316 351.711 130.371 349.975 Q128.45 348.239 125.348 348.239 Q123.149 348.239 120.695 349.002 Q118.265 349.766 115.487 351.317 L115.487 346.595 Q118.311 345.461 120.765 344.882 Q123.218 344.303 125.255 344.303 Q130.626 344.303 133.82 346.989 Q137.015 349.674 137.015 354.164 Q137.015 356.294 136.204 358.215 Q135.417 360.113 133.311 362.706 Q132.732 363.377 129.63 366.595 Q126.529 369.789 120.88 375.553 Z\" fill=\"#000000\" fill-rule=\"evenodd\" fill-opacity=\"1\" /><path clip-path=\"url(#clip630)\" d=\"M147.061 344.928 L165.417 344.928 L165.417 348.864 L151.343 348.864 L151.343 357.336 Q152.362 356.988 153.38 356.826 Q154.399 356.641 155.417 356.641 Q161.204 356.641 164.584 359.813 Q167.964 362.984 167.964 368.4 Q167.964 373.979 164.491 377.081 Q161.019 380.16 154.7 380.16 Q152.524 380.16 150.255 379.789 Q148.01 379.419 145.603 378.678 L145.603 373.979 Q147.686 375.113 149.908 375.669 Q152.13 376.224 154.607 376.224 Q158.612 376.224 160.95 374.118 Q163.288 372.012 163.288 368.4 Q163.288 364.789 160.95 362.683 Q158.612 360.576 154.607 360.576 Q152.732 360.576 150.857 360.993 Q149.005 361.41 147.061 362.289 L147.061 344.928 Z\" fill=\"#000000\" fill-rule=\"evenodd\" fill-opacity=\"1\" /><path clip-path=\"url(#clip630)\" d=\"M130.024 137.052 Q133.38 137.77 135.255 140.038 Q137.154 142.307 137.154 145.64 Q137.154 150.756 133.635 153.557 Q130.117 156.357 123.635 156.357 Q121.459 156.357 119.144 155.918 Q116.853 155.501 114.399 154.645 L114.399 150.131 Q116.343 151.265 118.658 151.844 Q120.973 152.422 123.496 152.422 Q127.894 152.422 130.186 150.686 Q132.501 148.95 132.501 145.64 Q132.501 142.584 130.348 140.871 Q128.218 139.135 124.399 139.135 L120.371 139.135 L120.371 135.293 L124.584 135.293 Q128.033 135.293 129.862 133.927 Q131.691 132.538 131.691 129.946 Q131.691 127.284 129.792 125.872 Q127.917 124.436 124.399 124.436 Q122.478 124.436 120.279 124.853 Q118.08 125.27 115.441 126.149 L115.441 121.983 Q118.103 121.242 120.418 120.872 Q122.755 120.501 124.816 120.501 Q130.14 120.501 133.242 122.932 Q136.343 125.339 136.343 129.459 Q136.343 132.33 134.7 134.321 Q133.056 136.288 130.024 137.052 Z\" fill=\"#000000\" fill-rule=\"evenodd\" fill-opacity=\"1\" /><path clip-path=\"url(#clip630)\" d=\"M156.019 124.205 Q152.408 124.205 150.579 127.77 Q148.774 131.311 148.774 138.441 Q148.774 145.547 150.579 149.112 Q152.408 152.654 156.019 152.654 Q159.653 152.654 161.459 149.112 Q163.288 145.547 163.288 138.441 Q163.288 131.311 161.459 127.77 Q159.653 124.205 156.019 124.205 M156.019 120.501 Q161.829 120.501 164.885 125.108 Q167.964 129.691 167.964 138.441 Q167.964 147.168 164.885 151.774 Q161.829 156.357 156.019 156.357 Q150.209 156.357 147.13 151.774 Q144.075 147.168 144.075 138.441 Q144.075 129.691 147.13 125.108 Q150.209 120.501 156.019 120.501 Z\" fill=\"#000000\" fill-rule=\"evenodd\" fill-opacity=\"1\" /><path clip-path=\"url(#clip630)\" d=\"M33.8307 784.737 Q33.2578 785.724 33.0032 786.902 Q32.7167 788.047 32.7167 789.448 Q32.7167 794.413 35.9632 797.087 Q39.1779 799.728 45.2253 799.728 L64.0042 799.728 L64.0042 805.617 L28.3562 805.617 L28.3562 799.728 L33.8944 799.728 Q30.6479 797.882 29.0883 794.922 Q27.4968 791.962 27.4968 787.729 Q27.4968 787.124 27.5923 786.392 Q27.656 785.66 27.8151 784.769 L33.8307 784.737 Z\" fill=\"#000000\" fill-rule=\"evenodd\" fill-opacity=\"1\" /><path clip-path=\"url(#clip630)\" d=\"M46.0847 762.394 Q46.0847 769.491 47.7079 772.229 Q49.3312 774.966 53.2461 774.966 Q56.3653 774.966 58.2114 772.929 Q60.0256 770.86 60.0256 767.327 Q60.0256 762.457 56.5881 759.529 Q53.1188 756.569 47.3897 756.569 L46.0847 756.569 L46.0847 762.394 M43.6657 750.712 L64.0042 750.712 L64.0042 756.569 L58.5933 756.569 Q61.8398 758.574 63.3994 761.566 Q64.9272 764.558 64.9272 768.887 Q64.9272 774.361 61.8716 777.608 Q58.7843 780.822 53.6281 780.822 Q47.6125 780.822 44.5569 776.812 Q41.5014 772.77 41.5014 764.781 L41.5014 756.569 L40.9285 756.569 Q36.8862 756.569 34.6901 759.243 Q32.4621 761.884 32.4621 766.69 Q32.4621 769.746 33.1941 772.642 Q33.9262 775.539 35.3903 778.212 L29.9795 778.212 Q28.7381 774.998 28.1334 771.974 Q27.4968 768.95 27.4968 766.086 Q27.4968 758.351 31.5072 754.532 Q35.5176 750.712 43.6657 750.712 Z\" fill=\"#000000\" fill-rule=\"evenodd\" fill-opacity=\"1\" /><path clip-path=\"url(#clip630)\" d=\"M18.2347 732.857 L28.3562 732.857 L28.3562 720.794 L32.9077 720.794 L32.9077 732.857 L52.2594 732.857 Q56.6199 732.857 57.8613 731.679 Q59.1026 730.47 59.1026 726.809 L59.1026 720.794 L64.0042 720.794 L64.0042 726.809 Q64.0042 733.589 61.4897 736.167 Q58.9434 738.745 52.2594 738.745 L32.9077 738.745 L32.9077 743.042 L28.3562 743.042 L28.3562 738.745 L18.2347 738.745 L18.2347 732.857 Z\" fill=\"#000000\" fill-rule=\"evenodd\" fill-opacity=\"1\" /><path clip-path=\"url(#clip630)\" d=\"M28.3562 713.091 L28.3562 707.235 L64.0042 707.235 L64.0042 713.091 L28.3562 713.091 M14.479 713.091 L14.479 707.235 L21.895 707.235 L21.895 713.091 L14.479 713.091 Z\" fill=\"#000000\" fill-rule=\"evenodd\" fill-opacity=\"1\" /><path clip-path=\"url(#clip630)\" d=\"M32.4621 681.167 Q32.4621 685.878 36.1542 688.615 Q39.8145 691.352 46.212 691.352 Q52.6095 691.352 56.3017 688.647 Q59.9619 685.91 59.9619 681.167 Q59.9619 676.488 56.2698 673.751 Q52.5777 671.014 46.212 671.014 Q39.8781 671.014 36.186 673.751 Q32.4621 676.488 32.4621 681.167 M27.4968 681.167 Q27.4968 673.528 32.4621 669.168 Q37.4273 664.807 46.212 664.807 Q54.9649 664.807 59.9619 669.168 Q64.9272 673.528 64.9272 681.167 Q64.9272 688.838 59.9619 693.198 Q54.9649 697.527 46.212 697.527 Q37.4273 697.527 32.4621 693.198 Q27.4968 688.838 27.4968 681.167 Z\" fill=\"#000000\" fill-rule=\"evenodd\" fill-opacity=\"1\" /><polyline clip-path=\"url(#clip632)\" style=\"stroke:#009af9; stroke-linecap:butt; stroke-linejoin:round; stroke-width:4; stroke-opacity:1; fill:none\" points=\"\n  264.778,1384.24 266.808,1384.24 268.837,1384.23 270.866,1384.23 272.895,1384.22 274.924,1384.21 276.954,1384.2 278.983,1384.18 281.012,1384.17 283.041,1384.15 \n  285.07,1384.13 287.1,1384.1 289.129,1384.08 291.158,1384.05 293.187,1384.02 295.216,1383.99 297.246,1383.95 299.275,1383.91 301.304,1383.87 303.333,1383.83 \n  305.362,1383.79 307.391,1383.74 309.421,1383.7 311.45,1383.65 313.479,1383.59 315.508,1383.54 317.537,1383.48 319.567,1383.42 321.596,1383.36 323.625,1383.3 \n  325.654,1383.23 327.683,1383.16 329.713,1383.09 331.742,1383.02 333.771,1382.94 335.8,1382.86 337.829,1382.79 339.859,1382.7 341.888,1382.62 343.917,1382.53 \n  345.946,1382.44 347.975,1382.35 350.005,1382.26 352.034,1382.17 354.063,1382.07 356.092,1381.97 358.121,1381.87 360.15,1381.76 362.18,1381.65 364.209,1381.55 \n  366.238,1381.44 368.267,1381.32 370.296,1381.21 372.326,1381.09 374.355,1380.97 376.384,1380.85 378.413,1380.72 380.442,1380.6 382.472,1380.47 384.501,1380.34 \n  386.53,1380.2 388.559,1380.07 390.588,1379.93 392.618,1379.79 394.647,1379.65 396.676,1379.5 398.705,1379.35 400.734,1379.2 402.763,1379.05 404.793,1378.9 \n  406.822,1378.74 408.851,1378.59 410.88,1378.43 412.909,1378.26 414.939,1378.1 416.968,1377.93 418.997,1377.76 421.026,1377.59 423.055,1377.42 425.085,1377.24 \n  427.114,1377.06 429.143,1376.88 431.172,1376.7 433.201,1376.51 435.231,1376.33 437.26,1376.14 439.289,1375.95 441.318,1375.75 443.347,1375.56 445.377,1375.36 \n  447.406,1375.16 449.435,1374.95 451.464,1374.75 453.493,1374.54 455.522,1374.33 457.552,1374.12 459.581,1373.9 461.61,1373.69 463.639,1373.47 465.668,1373.25 \n  467.698,1373.03 469.727,1372.8 471.756,1372.57 473.785,1372.34 475.814,1372.11 477.844,1371.88 479.873,1371.64 481.902,1371.4 483.931,1371.16 485.96,1370.92 \n  487.99,1370.67 490.019,1370.42 492.048,1370.17 494.077,1369.92 496.106,1369.67 498.136,1369.41 500.165,1369.15 502.194,1368.89 504.223,1368.63 506.252,1368.36 \n  508.281,1368.09 510.311,1367.82 512.34,1367.55 514.369,1367.27 516.398,1367 518.427,1366.72 520.457,1366.44 522.486,1366.15 524.515,1365.87 526.544,1365.58 \n  528.573,1365.29 530.603,1365 532.632,1364.7 534.661,1364.4 536.69,1364.11 538.719,1363.8 540.749,1363.5 542.778,1363.19 544.807,1362.89 546.836,1362.57 \n  548.865,1362.26 550.894,1361.95 552.924,1361.63 554.953,1361.31 556.982,1360.99 559.011,1360.66 561.04,1360.34 563.07,1360.01 565.099,1359.68 567.128,1359.35 \n  569.157,1359.01 571.186,1358.67 573.216,1358.33 575.245,1357.99 577.274,1357.65 579.303,1357.3 581.332,1356.95 583.362,1356.6 585.391,1356.25 587.42,1355.89 \n  589.449,1355.53 591.478,1355.17 593.508,1354.81 595.537,1354.45 597.566,1354.08 599.595,1353.71 601.624,1353.34 603.653,1352.97 605.683,1352.59 607.712,1352.21 \n  609.741,1351.83 611.77,1351.45 613.799,1351.07 615.829,1350.68 617.858,1350.29 619.887,1349.9 621.916,1349.51 623.945,1349.11 625.975,1348.71 628.004,1348.31 \n  630.033,1347.91 632.062,1347.5 634.091,1347.1 636.121,1346.69 638.15,1346.28 640.179,1345.86 642.208,1345.45 644.237,1345.03 646.267,1344.61 648.296,1344.19 \n  650.325,1343.76 652.354,1343.33 654.383,1342.9 656.412,1342.47 658.442,1342.04 660.471,1341.6 662.5,1341.16 664.529,1340.72 666.558,1340.28 668.588,1339.84 \n  670.617,1339.39 672.646,1338.94 674.675,1338.49 676.704,1338.03 678.734,1337.58 680.763,1337.12 682.792,1336.66 684.821,1336.19 686.85,1335.73 688.88,1335.26 \n  690.909,1334.79 692.938,1334.32 694.967,1333.84 696.996,1333.37 699.025,1332.89 701.055,1332.41 703.084,1331.93 705.113,1331.44 707.142,1330.95 709.171,1330.46 \n  711.201,1329.97 713.23,1329.48 715.259,1328.98 717.288,1328.48 719.317,1327.98 721.347,1327.47 723.376,1326.97 725.405,1326.46 727.434,1325.95 729.463,1325.44 \n  731.493,1324.92 733.522,1324.41 735.551,1323.89 737.58,1323.37 739.609,1322.84 741.639,1322.32 743.668,1321.79 745.697,1321.26 747.726,1320.73 749.755,1320.19 \n  751.784,1319.65 753.814,1319.11 755.843,1318.57 757.872,1318.03 759.901,1317.48 761.93,1316.94 763.96,1316.38 765.989,1315.83 768.018,1315.28 770.047,1314.72 \n  772.076,1314.16 774.106,1313.6 776.135,1313.03 778.164,1312.47 780.193,1311.9 782.222,1311.33 784.252,1310.76 786.281,1310.18 788.31,1309.6 790.339,1309.02 \n  792.368,1308.44 794.398,1307.86 796.427,1307.27 798.456,1306.68 800.485,1306.09 802.514,1305.5 804.543,1304.9 806.573,1304.31 808.602,1303.71 810.631,1303.1 \n  812.66,1302.5 814.689,1301.89 816.719,1301.28 818.748,1300.67 820.777,1300.06 822.806,1299.44 824.835,1298.83 826.865,1298.21 828.894,1297.58 830.923,1296.96 \n  832.952,1296.33 834.981,1295.7 837.011,1295.07 839.04,1294.44 841.069,1293.8 843.098,1293.16 845.127,1292.52 847.156,1291.88 849.186,1291.24 851.215,1290.59 \n  853.244,1289.94 855.273,1289.29 857.302,1288.64 859.332,1287.98 861.361,1287.32 863.39,1286.66 865.419,1286 867.448,1285.33 869.478,1284.67 871.507,1284 \n  873.536,1283.33 875.565,1282.65 877.594,1281.98 879.624,1281.3 881.653,1280.62 883.682,1279.93 885.711,1279.25 887.74,1278.56 889.77,1277.87 891.799,1277.18 \n  893.828,1276.49 895.857,1275.79 897.886,1275.09 899.915,1274.39 901.945,1273.69 903.974,1272.98 906.003,1272.27 908.032,1271.56 910.061,1270.85 912.091,1270.14 \n  914.12,1269.42 916.149,1268.7 918.178,1267.98 920.207,1267.26 922.237,1266.53 924.266,1265.81 926.295,1265.08 928.324,1264.34 930.353,1263.61 932.383,1262.87 \n  934.412,1262.13 936.441,1261.39 938.47,1260.65 940.499,1259.9 942.529,1259.16 944.558,1258.41 946.587,1257.65 948.616,1256.9 950.645,1256.14 952.674,1255.38 \n  954.704,1254.62 956.733,1253.86 958.762,1253.09 960.791,1252.32 962.82,1251.55 964.85,1250.78 966.879,1250.01 968.908,1249.23 970.937,1248.45 972.966,1247.67 \n  974.996,1246.88 977.025,1246.1 979.054,1245.31 981.083,1244.52 983.112,1243.73 985.142,1242.93 987.171,1242.14 989.2,1241.34 991.229,1240.53 993.258,1239.73 \n  995.287,1238.92 997.317,1238.12 999.346,1237.3 1001.38,1236.49 1003.4,1235.68 1005.43,1234.86 1007.46,1234.04 1009.49,1233.22 1011.52,1232.39 1013.55,1231.57 \n  1015.58,1230.74 1017.61,1229.91 1019.64,1229.07 1021.67,1228.24 1023.7,1227.4 1025.73,1226.56 1027.75,1225.72 1029.78,1224.88 1031.81,1224.03 1033.84,1223.18 \n  1035.87,1222.33 1037.9,1221.48 1039.93,1220.62 1041.96,1219.76 1043.99,1218.9 1046.02,1218.04 1048.05,1217.18 1050.08,1216.31 1052.1,1215.44 1054.13,1214.57 \n  1056.16,1213.7 1058.19,1212.82 1060.22,1211.94 1062.25,1211.06 1064.28,1210.18 1066.31,1209.29 1068.34,1208.41 1070.37,1207.52 1072.4,1206.63 1074.43,1205.73 \n  1076.46,1204.84 1078.48,1203.94 1080.51,1203.04 1082.54,1202.14 1084.57,1201.23 1086.6,1200.32 1088.63,1199.42 1090.66,1198.5 1092.69,1197.59 1094.72,1196.67 \n  1096.75,1195.76 1098.78,1194.84 1100.81,1193.91 1102.83,1192.99 1104.86,1192.06 1106.89,1191.13 1108.92,1190.2 1110.95,1189.26 1112.98,1188.33 1115.01,1187.39 \n  1117.04,1186.45 1119.07,1185.51 1121.1,1184.56 1123.13,1183.61 1125.16,1182.66 1127.18,1181.71 1129.21,1180.76 1131.24,1179.8 1133.27,1178.84 1135.3,1177.88 \n  1137.33,1176.92 1139.36,1175.95 1141.39,1174.99 1143.42,1174.02 1145.45,1173.04 1147.48,1172.07 1149.51,1171.09 1151.54,1170.11 1153.56,1169.13 1155.59,1168.15 \n  1157.62,1167.16 1159.65,1166.18 1161.68,1165.19 1163.71,1164.19 1165.74,1163.2 1167.77,1162.2 1169.8,1161.2 1171.83,1160.2 1173.86,1159.2 1175.89,1158.19 \n  1177.91,1157.18 1179.94,1156.17 1181.97,1155.16 1184,1154.15 1186.03,1153.13 1188.06,1152.11 1190.09,1151.09 1192.12,1150.07 1194.15,1149.04 1196.18,1148.01 \n  1198.21,1146.98 1200.24,1145.95 1202.27,1144.91 1204.29,1143.88 1206.32,1142.84 1208.35,1141.8 1210.38,1140.75 1212.41,1139.71 1214.44,1138.66 1216.47,1137.61 \n  1218.5,1136.55 1220.53,1135.5 1222.56,1134.44 1224.59,1133.38 1226.62,1132.32 1228.64,1131.26 1230.67,1130.19 1232.7,1129.12 1234.73,1128.05 1236.76,1126.98 \n  1238.79,1125.9 1240.82,1124.82 1242.85,1123.74 1244.88,1122.66 1246.91,1121.58 1248.94,1120.49 1250.97,1119.4 1252.99,1118.31 1255.02,1117.22 1257.05,1116.12 \n  1259.08,1115.03 1261.11,1113.93 1263.14,1112.82 1265.17,1111.72 1267.2,1110.61 1269.23,1109.5 1271.26,1108.39 1273.29,1107.28 1275.32,1106.16 1277.35,1105.05 \n  1279.37,1103.93 1281.4,1102.8 1283.43,1101.68 1285.46,1100.55 1287.49,1099.42 1289.52,1098.29 1291.55,1097.16 1293.58,1096.02 1295.61,1094.88 1297.64,1093.74 \n  1299.67,1092.6 1301.7,1091.46 1303.72,1090.31 1305.75,1089.16 1307.78,1088.01 1309.81,1086.85 1311.84,1085.7 1313.87,1084.54 1315.9,1083.38 1317.93,1082.22 \n  1319.96,1081.05 1321.99,1079.88 1324.02,1078.71 1326.05,1077.54 1328.07,1076.37 1330.1,1075.19 1332.13,1074.01 1334.16,1072.83 1336.19,1071.65 1338.22,1070.47 \n  1340.25,1069.28 1342.28,1068.09 1344.31,1066.9 1346.34,1065.7 1348.37,1064.51 1350.4,1063.31 1352.43,1062.11 1354.45,1060.9 1356.48,1059.7 1358.51,1058.49 \n  1360.54,1057.28 1362.57,1056.07 1364.6,1054.85 1366.63,1053.64 1368.66,1052.42 1370.69,1051.2 1372.72,1049.98 1374.75,1048.75 1376.78,1047.52 1378.8,1046.29 \n  1380.83,1045.06 1382.86,1043.82 1384.89,1042.59 1386.92,1041.35 1388.95,1040.11 1390.98,1038.86 1393.01,1037.62 1395.04,1036.37 1397.07,1035.12 1399.1,1033.87 \n  1401.13,1032.61 1403.16,1031.36 1405.18,1030.1 1407.21,1028.84 1409.24,1027.57 1411.27,1026.31 1413.3,1025.04 1415.33,1023.77 1417.36,1022.5 1419.39,1021.22 \n  1421.42,1019.94 1423.45,1018.66 1425.48,1017.38 1427.51,1016.1 1429.53,1014.81 1431.56,1013.52 1433.59,1012.23 1435.62,1010.94 1437.65,1009.65 1439.68,1008.35 \n  1441.71,1007.05 1443.74,1005.75 1445.77,1004.44 1447.8,1003.14 1449.83,1001.83 1451.86,1000.52 1453.88,999.205 1455.91,997.89 1457.94,996.572 1459.97,995.252 \n  1462,993.93 1464.03,992.606 1466.06,991.28 1468.09,989.951 1470.12,988.62 1472.15,987.287 1474.18,985.952 1476.21,984.614 1478.24,983.274 1480.26,981.932 \n  1482.29,980.587 1484.32,979.241 1486.35,977.892 1488.38,976.541 1490.41,975.188 1492.44,973.832 1494.47,972.474 1496.5,971.114 1498.53,969.752 1500.56,968.387 \n  1502.59,967.02 1504.61,965.651 1506.64,964.28 1508.67,962.906 1510.7,961.531 1512.73,960.153 1514.76,958.772 1516.79,957.39 1518.82,956.005 1520.85,954.618 \n  1522.88,953.229 1524.91,951.837 1526.94,950.444 1528.96,949.048 1530.99,947.65 1533.02,946.249 1535.05,944.846 1537.08,943.441 1539.11,942.034 1541.14,940.625 \n  1543.17,939.213 1545.2,937.799 1547.23,936.383 1549.26,934.965 1551.29,933.544 1553.32,932.121 1555.34,930.696 1557.37,929.269 1559.4,927.839 1561.43,926.407 \n  1563.46,924.973 1565.49,923.537 1567.52,922.098 1569.55,920.658 1571.58,919.215 1573.61,917.769 1575.64,916.322 1577.67,914.872 1579.69,913.42 1581.72,911.966 \n  1583.75,910.509 1585.78,909.05 1587.81,907.589 1589.84,906.126 1591.87,904.661 1593.9,903.193 1595.93,901.723 1597.96,900.251 1599.99,898.776 1602.02,897.3 \n  1604.05,895.821 1606.07,894.34 1608.1,892.856 1610.13,891.371 1612.16,889.883 1614.19,888.392 1616.22,886.9 1618.25,885.405 1620.28,883.909 1622.31,882.409 \n  1624.34,880.908 1626.37,879.405 1628.4,877.899 1630.42,876.391 1632.45,874.88 1634.48,873.368 1636.51,871.853 1638.54,870.336 1640.57,868.817 1642.6,867.295 \n  1644.63,865.771 1646.66,864.245 1648.69,862.717 1650.72,861.186 1652.75,859.654 1654.77,858.119 1656.8,856.581 1658.83,855.042 1660.86,853.5 1662.89,851.956 \n  1664.92,850.41 1666.95,848.862 1668.98,847.311 1671.01,845.758 1673.04,844.203 1675.07,842.645 1677.1,841.086 1679.13,839.524 1681.15,837.96 1683.18,836.393 \n  1685.21,834.825 1687.24,833.254 1689.27,831.681 1691.3,830.105 1693.33,828.528 1695.36,826.948 1697.39,825.366 1699.42,823.781 1701.45,822.195 1703.48,820.606 \n  1705.5,819.015 1707.53,817.422 1709.56,815.826 1711.59,814.228 1713.62,812.628 1715.65,811.026 1717.68,809.422 1719.71,807.815 1721.74,806.206 1723.77,804.595 \n  1725.8,802.981 1727.83,801.365 1729.85,799.747 1731.88,798.127 1733.91,796.505 1735.94,794.88 1737.97,793.253 1740,791.624 1742.03,789.993 1744.06,788.359 \n  1746.09,786.723 1748.12,785.085 1750.15,783.444 1752.18,781.802 1754.21,780.157 1756.23,778.51 1758.26,776.86 1760.29,775.209 1762.32,773.555 1764.35,771.899 \n  1766.38,770.241 1768.41,768.58 1770.44,766.917 1772.47,765.252 1774.5,763.585 1776.53,761.915 1778.56,760.243 1780.58,758.569 1782.61,756.893 1784.64,755.215 \n  1786.67,753.534 1788.7,751.851 1790.73,750.166 1792.76,748.478 1794.79,746.788 1796.82,745.096 1798.85,743.402 1800.88,741.706 1802.91,740.007 1804.94,738.306 \n  1806.96,736.603 1808.99,734.898 1811.02,733.19 1813.05,731.48 1815.08,729.768 1817.11,728.053 1819.14,726.337 1821.17,724.618 1823.2,722.897 1825.23,721.173 \n  1827.26,719.448 1829.29,717.72 1831.31,715.99 1833.34,714.258 1835.37,712.523 1837.4,710.786 1839.43,709.047 1841.46,707.306 1843.49,705.562 1845.52,703.816 \n  1847.55,702.068 1849.58,700.318 1851.61,698.566 1853.64,696.811 1855.66,695.054 1857.69,693.295 1859.72,691.533 1861.75,689.769 1863.78,688.003 1865.81,686.235 \n  1867.84,684.465 1869.87,682.692 1871.9,680.917 1873.93,679.14 1875.96,677.36 1877.99,675.579 1880.02,673.795 1882.04,672.009 1884.07,670.22 1886.1,668.43 \n  1888.13,666.637 1890.16,664.842 1892.19,663.044 1894.22,661.245 1896.25,659.443 1898.28,657.639 1900.31,655.832 1902.34,654.024 1904.37,652.213 1906.39,650.4 \n  1908.42,648.585 1910.45,646.767 1912.48,644.947 1914.51,643.125 1916.54,641.301 1918.57,639.474 1920.6,637.646 1922.63,635.815 1924.66,633.981 1926.69,632.146 \n  1928.72,630.308 1930.74,628.468 1932.77,626.626 1934.8,624.782 1936.83,622.935 1938.86,621.086 1940.89,619.235 1942.92,617.381 1944.95,615.526 1946.98,613.668 \n  1949.01,611.808 1951.04,609.945 1953.07,608.081 1955.1,606.214 1957.12,604.345 1959.15,602.473 1961.18,600.6 1963.21,598.724 1965.24,596.846 1967.27,594.965 \n  1969.3,593.083 1971.33,591.198 1973.36,589.311 1975.39,587.421 1977.42,585.53 1979.45,583.636 1981.47,581.74 1983.5,579.842 1985.53,577.941 1987.56,576.039 \n  1989.59,574.134 1991.62,572.226 1993.65,570.317 1995.68,568.405 1997.71,566.491 1999.74,564.575 2001.77,562.656 2003.8,560.736 2005.82,558.813 2007.85,556.888 \n  2009.88,554.96 2011.91,553.03 2013.94,551.099 2015.97,549.164 2018,547.228 2020.03,545.289 2022.06,543.348 2024.09,541.405 2026.12,539.46 2028.15,537.512 \n  2030.18,535.562 2032.2,533.61 2034.23,531.656 2036.26,529.699 2038.29,527.741 2040.32,525.78 2042.35,523.816 2044.38,521.851 2046.41,519.883 2048.44,517.913 \n  2050.47,515.941 2052.5,513.966 2054.53,511.989 2056.55,510.01 2058.58,508.029 2060.61,506.045 2062.64,504.06 2064.67,502.072 2066.7,500.082 2068.73,498.089 \n  2070.76,496.094 2072.79,494.097 2074.82,492.098 2076.85,490.097 2078.88,488.093 2080.91,486.087 2082.93,484.079 2084.96,482.069 2086.99,480.056 2089.02,478.041 \n  2091.05,476.024 2093.08,474.005 2095.11,471.983 2097.14,469.959 2099.17,467.933 2101.2,465.905 2103.23,463.874 2105.26,461.841 2107.28,459.806 2109.31,457.769 \n  2111.34,455.729 2113.37,453.687 2115.4,451.643 2117.43,449.597 2119.46,447.549 2121.49,445.498 2123.52,443.445 2125.55,441.39 2127.58,439.332 2129.61,437.272 \n  2131.63,435.21 2133.66,433.146 2135.69,431.08 2137.72,429.011 2139.75,426.94 2141.78,424.867 2143.81,422.791 2145.84,420.714 2147.87,418.634 2149.9,416.552 \n  2151.93,414.467 2153.96,412.381 2155.99,410.292 2158.01,408.201 2160.04,406.107 2162.07,404.012 2164.1,401.914 2166.13,399.814 2168.16,397.711 2170.19,395.607 \n  2172.22,393.5 2174.25,391.391 2176.28,389.279 2178.31,387.166 2180.34,385.05 2182.36,382.932 2184.39,380.812 2186.42,378.689 2188.45,376.564 2190.48,374.437 \n  2192.51,372.308 2194.54,370.177 2196.57,368.043 2198.6,365.907 2200.63,363.769 2202.66,361.628 2204.69,359.485 2206.71,357.341 2208.74,355.193 2210.77,353.044 \n  2212.8,350.892 2214.83,348.738 2216.86,346.582 2218.89,344.424 2220.92,342.263 2222.95,340.1 2224.98,337.935 2227.01,335.768 2229.04,333.598 2231.07,331.426 \n  2233.09,329.252 2235.12,327.076 2237.15,324.897 2239.18,322.716 2241.21,320.533 2243.24,318.348 2245.27,316.16 2247.3,313.97 2249.33,311.778 2251.36,309.584 \n  2253.39,307.388 2255.42,305.189 2257.44,302.988 2259.47,300.785 2261.5,298.579 2263.53,296.371 2265.56,294.161 2267.59,291.949 2269.62,289.735 2271.65,287.518 \n  2273.68,285.299 2275.71,283.078 2277.74,280.854 2279.77,278.629 2281.8,276.401 2283.82,274.171 2285.85,271.938 2287.88,269.703 2289.91,267.467 2291.94,265.227 \n  \n  \"/>\n<polyline clip-path=\"url(#clip632)\" style=\"stroke:#e26f46; stroke-linecap:butt; stroke-linejoin:round; stroke-width:4; stroke-opacity:1; fill:none\" points=\"\n  264.778,1205.2 266.808,1205.2 268.837,1205.19 270.866,1205.19 272.895,1205.18 274.924,1205.17 276.954,1205.16 278.983,1205.14 281.012,1205.12 283.041,1205.11 \n  285.07,1205.08 287.1,1205.06 289.129,1205.04 291.158,1205.01 293.187,1204.98 295.216,1204.94 297.246,1204.91 299.275,1204.87 301.304,1204.83 303.333,1204.79 \n  305.362,1204.75 307.391,1204.7 309.421,1204.65 311.45,1204.6 313.479,1204.55 315.508,1204.5 317.537,1204.44 319.567,1204.38 321.596,1204.32 323.625,1204.25 \n  325.654,1204.19 327.683,1204.12 329.713,1204.05 331.742,1203.98 333.771,1203.9 335.8,1203.82 337.829,1203.74 339.859,1203.66 341.888,1203.58 343.917,1203.49 \n  345.946,1203.4 347.975,1203.31 350.005,1203.22 352.034,1203.12 354.063,1203.03 356.092,1202.93 358.121,1202.82 360.15,1202.72 362.18,1202.61 364.209,1202.5 \n  366.238,1202.39 368.267,1202.28 370.296,1202.16 372.326,1202.05 374.355,1201.93 376.384,1201.8 378.413,1201.68 380.442,1201.55 382.472,1201.42 384.501,1201.29 \n  386.53,1201.16 388.559,1201.02 390.588,1200.89 392.618,1200.75 394.647,1200.6 396.676,1200.46 398.705,1200.31 400.734,1200.16 402.763,1200.01 404.793,1199.86 \n  406.822,1199.7 408.851,1199.54 410.88,1199.38 412.909,1199.22 414.939,1199.06 416.968,1198.89 418.997,1198.72 421.026,1198.55 423.055,1198.37 425.085,1198.2 \n  427.114,1198.02 429.143,1197.84 431.172,1197.66 433.201,1197.47 435.231,1197.28 437.26,1197.1 439.289,1196.9 441.318,1196.71 443.347,1196.51 445.377,1196.32 \n  447.406,1196.11 449.435,1195.91 451.464,1195.71 453.493,1195.5 455.522,1195.29 457.552,1195.08 459.581,1194.86 461.61,1194.65 463.639,1194.43 465.668,1194.21 \n  467.698,1193.98 469.727,1193.76 471.756,1193.53 473.785,1193.3 475.814,1193.07 477.844,1192.83 479.873,1192.6 481.902,1192.36 483.931,1192.12 485.96,1191.87 \n  487.99,1191.63 490.019,1191.38 492.048,1191.13 494.077,1190.88 496.106,1190.62 498.136,1190.37 500.165,1190.11 502.194,1189.85 504.223,1189.58 506.252,1189.32 \n  508.281,1189.05 510.311,1188.78 512.34,1188.51 514.369,1188.23 516.398,1187.96 518.427,1187.68 520.457,1187.4 522.486,1187.11 524.515,1186.83 526.544,1186.54 \n  528.573,1186.25 530.603,1185.95 532.632,1185.66 534.661,1185.36 536.69,1185.06 538.719,1184.76 540.749,1184.46 542.778,1184.15 544.807,1183.84 546.836,1183.53 \n  548.865,1183.22 550.894,1182.9 552.924,1182.59 554.953,1182.27 556.982,1181.95 559.011,1181.62 561.04,1181.3 563.07,1180.97 565.099,1180.64 567.128,1180.3 \n  569.157,1179.97 571.186,1179.63 573.216,1179.29 575.245,1178.95 577.274,1178.6 579.303,1178.26 581.332,1177.91 583.362,1177.56 585.391,1177.21 587.42,1176.85 \n  589.449,1176.49 591.478,1176.13 593.508,1175.77 595.537,1175.41 597.566,1175.04 599.595,1174.67 601.624,1174.3 603.653,1173.93 605.683,1173.55 607.712,1173.17 \n  609.741,1172.79 611.77,1172.41 613.799,1172.03 615.829,1171.64 617.858,1171.25 619.887,1170.86 621.916,1170.46 623.945,1170.07 625.975,1169.67 628.004,1169.27 \n  630.033,1168.87 632.062,1168.46 634.091,1168.06 636.121,1167.65 638.15,1167.24 640.179,1166.82 642.208,1166.41 644.237,1165.99 646.267,1165.57 648.296,1165.14 \n  650.325,1164.72 652.354,1164.29 654.383,1163.86 656.412,1163.43 658.442,1163 660.471,1162.56 662.5,1162.12 664.529,1161.68 666.558,1161.24 668.588,1160.79 \n  670.617,1160.35 672.646,1159.9 674.675,1159.44 676.704,1158.99 678.734,1158.53 680.763,1158.08 682.792,1157.62 684.821,1157.15 686.85,1156.69 688.88,1156.22 \n  690.909,1155.75 692.938,1155.28 694.967,1154.8 696.996,1154.33 699.025,1153.85 701.055,1153.37 703.084,1152.88 705.113,1152.4 707.142,1151.91 709.171,1151.42 \n  711.201,1150.93 713.23,1150.43 715.259,1149.94 717.288,1149.44 719.317,1148.94 721.347,1148.43 723.376,1147.93 725.405,1147.42 727.434,1146.91 729.463,1146.4 \n  731.493,1145.88 733.522,1145.37 735.551,1144.85 737.58,1144.32 739.609,1143.8 741.639,1143.28 743.668,1142.75 745.697,1142.22 747.726,1141.68 749.755,1141.15 \n  751.784,1140.61 753.814,1140.07 755.843,1139.53 757.872,1138.99 759.901,1138.44 761.93,1137.89 763.96,1137.34 765.989,1136.79 768.018,1136.24 770.047,1135.68 \n  772.076,1135.12 774.106,1134.56 776.135,1133.99 778.164,1133.43 780.193,1132.86 782.222,1132.29 784.252,1131.71 786.281,1131.14 788.31,1130.56 790.339,1129.98 \n  792.368,1129.4 794.398,1128.82 796.427,1128.23 798.456,1127.64 800.485,1127.05 802.514,1126.46 804.543,1125.86 806.573,1125.26 808.602,1124.66 810.631,1124.06 \n  812.66,1123.46 814.689,1122.85 816.719,1122.24 818.748,1121.63 820.777,1121.02 822.806,1120.4 824.835,1119.78 826.865,1119.16 828.894,1118.54 830.923,1117.92 \n  832.952,1117.29 834.981,1116.66 837.011,1116.03 839.04,1115.4 841.069,1114.76 843.098,1114.12 845.127,1113.48 847.156,1112.84 849.186,1112.2 851.215,1111.55 \n  853.244,1110.9 855.273,1110.25 857.302,1109.59 859.332,1108.94 861.361,1108.28 863.39,1107.62 865.419,1106.96 867.448,1106.29 869.478,1105.62 871.507,1104.96 \n  873.536,1104.28 875.565,1103.61 877.594,1102.93 879.624,1102.26 881.653,1101.57 883.682,1100.89 885.711,1100.21 887.74,1099.52 889.77,1098.83 891.799,1098.14 \n  893.828,1097.44 895.857,1096.75 897.886,1096.05 899.915,1095.35 901.945,1094.65 903.974,1093.94 906.003,1093.23 908.032,1092.52 910.061,1091.81 912.091,1091.1 \n  914.12,1090.38 916.149,1089.66 918.178,1088.94 920.207,1088.22 922.237,1087.49 924.266,1086.76 926.295,1086.03 928.324,1085.3 930.353,1084.57 932.383,1083.83 \n  934.412,1083.09 936.441,1082.35 938.47,1081.61 940.499,1080.86 942.529,1080.11 944.558,1079.36 946.587,1078.61 948.616,1077.86 950.645,1077.1 952.674,1076.34 \n  954.704,1075.58 956.733,1074.82 958.762,1074.05 960.791,1073.28 962.82,1072.51 964.85,1071.74 966.879,1070.96 968.908,1070.19 970.937,1069.41 972.966,1068.63 \n  974.996,1067.84 977.025,1067.06 979.054,1066.27 981.083,1065.48 983.112,1064.69 985.142,1063.89 987.171,1063.09 989.2,1062.29 991.229,1061.49 993.258,1060.69 \n  995.287,1059.88 997.317,1059.07 999.346,1058.26 1001.38,1057.45 1003.4,1056.64 1005.43,1055.82 1007.46,1055 1009.49,1054.18 1011.52,1053.35 1013.55,1052.53 \n  1015.58,1051.7 1017.61,1050.87 1019.64,1050.03 1021.67,1049.2 1023.7,1048.36 1025.73,1047.52 1027.75,1046.68 1029.78,1045.83 1031.81,1044.99 1033.84,1044.14 \n  1035.87,1043.29 1037.9,1042.43 1039.93,1041.58 1041.96,1040.72 1043.99,1039.86 1046.02,1039 1048.05,1038.13 1050.08,1037.27 1052.1,1036.4 1054.13,1035.53 \n  1056.16,1034.65 1058.19,1033.78 1060.22,1032.9 1062.25,1032.02 1064.28,1031.14 1066.31,1030.25 1068.34,1029.37 1070.37,1028.48 1072.4,1027.59 1074.43,1026.69 \n  1076.46,1025.8 1078.48,1024.9 1080.51,1024 1082.54,1023.1 1084.57,1022.19 1086.6,1021.28 1088.63,1020.37 1090.66,1019.46 1092.69,1018.55 1094.72,1017.63 \n  1096.75,1016.71 1098.78,1015.79 1100.81,1014.87 1102.83,1013.95 1104.86,1013.02 1106.89,1012.09 1108.92,1011.16 1110.95,1010.22 1112.98,1009.29 1115.01,1008.35 \n  1117.04,1007.41 1119.07,1006.46 1121.1,1005.52 1123.13,1004.57 1125.16,1003.62 1127.18,1002.67 1129.21,1001.72 1131.24,1000.76 1133.27,999.801 1135.3,998.84 \n  1137.33,997.877 1139.36,996.912 1141.39,995.944 1143.42,994.974 1145.45,994.002 1147.48,993.028 1149.51,992.051 1151.54,991.072 1153.56,990.091 1155.59,989.108 \n  1157.62,988.122 1159.65,987.134 1161.68,986.144 1163.71,985.152 1165.74,984.157 1167.77,983.161 1169.8,982.162 1171.83,981.16 1173.86,980.157 1175.89,979.151 \n  1177.91,978.143 1179.94,977.133 1181.97,976.12 1184,975.105 1186.03,974.089 1188.06,973.069 1190.09,972.048 1192.12,971.024 1194.15,969.998 1196.18,968.97 \n  1198.21,967.94 1200.24,966.907 1202.27,965.872 1204.29,964.835 1206.32,963.795 1208.35,962.754 1210.38,961.71 1212.41,960.664 1214.44,959.615 1216.47,958.565 \n  1218.5,957.512 1220.53,956.457 1222.56,955.399 1224.59,954.34 1226.62,953.278 1228.64,952.214 1230.67,951.148 1232.7,950.079 1234.73,949.008 1236.76,947.935 \n  1238.79,946.86 1240.82,945.782 1242.85,944.703 1244.88,943.621 1246.91,942.536 1248.94,941.45 1250.97,940.361 1252.99,939.27 1255.02,938.177 1257.05,937.082 \n  1259.08,935.984 1261.11,934.884 1263.14,933.782 1265.17,932.677 1267.2,931.571 1269.23,930.462 1271.26,929.351 1273.29,928.237 1275.32,927.121 1277.35,926.004 \n  1279.37,924.883 1281.4,923.761 1283.43,922.636 1285.46,921.51 1287.49,920.381 1289.52,919.249 1291.55,918.116 1293.58,916.98 1295.61,915.842 1297.64,914.701 \n  1299.67,913.559 1301.7,912.414 1303.72,911.267 1305.75,910.118 1307.78,908.966 1309.81,907.812 1311.84,906.656 1313.87,905.498 1315.9,904.338 1317.93,903.175 \n  1319.96,902.01 1321.99,900.843 1324.02,899.673 1326.05,898.502 1328.07,897.328 1330.1,896.151 1332.13,894.973 1334.16,893.792 1336.19,892.609 1338.22,891.424 \n  1340.25,890.237 1342.28,889.047 1344.31,887.855 1346.34,886.661 1348.37,885.465 1350.4,884.266 1352.43,883.065 1354.45,881.862 1356.48,880.657 1358.51,879.449 \n  1360.54,878.239 1362.57,877.027 1364.6,875.813 1366.63,874.596 1368.66,873.378 1370.69,872.157 1372.72,870.933 1374.75,869.708 1376.78,868.48 1378.8,867.25 \n  1380.83,866.018 1382.86,864.783 1384.89,863.546 1386.92,862.308 1388.95,861.066 1390.98,859.823 1393.01,858.577 1395.04,857.329 1397.07,856.079 1399.1,854.827 \n  1401.13,853.572 1403.16,852.315 1405.18,851.056 1407.21,849.794 1409.24,848.531 1411.27,847.265 1413.3,845.997 1415.33,844.726 1417.36,843.454 1419.39,842.179 \n  1421.42,840.902 1423.45,839.622 1425.48,838.341 1427.51,837.057 1429.53,835.771 1431.56,834.483 1433.59,833.192 1435.62,831.899 1437.65,830.604 1439.68,829.307 \n  1441.71,828.007 1443.74,826.706 1445.77,825.401 1447.8,824.095 1449.83,822.787 1451.86,821.476 1453.88,820.163 1455.91,818.848 1457.94,817.53 1459.97,816.211 \n  1462,814.889 1464.03,813.564 1466.06,812.238 1468.09,810.909 1470.12,809.578 1472.15,808.245 1474.18,806.91 1476.21,805.572 1478.24,804.232 1480.26,802.89 \n  1482.29,801.546 1484.32,800.199 1486.35,798.85 1488.38,797.499 1490.41,796.146 1492.44,794.79 1494.47,793.432 1496.5,792.072 1498.53,790.71 1500.56,789.345 \n  1502.59,787.979 1504.61,786.61 1506.64,785.238 1508.67,783.865 1510.7,782.489 1512.73,781.111 1514.76,779.731 1516.79,778.348 1518.82,776.963 1520.85,775.576 \n  1522.88,774.187 1524.91,772.796 1526.94,771.402 1528.96,770.006 1530.99,768.608 1533.02,767.207 1535.05,765.805 1537.08,764.4 1539.11,762.993 1541.14,761.583 \n  1543.17,760.172 1545.2,758.758 1547.23,757.341 1549.26,755.923 1551.29,754.502 1553.32,753.08 1555.34,751.654 1557.37,750.227 1559.4,748.798 1561.43,747.366 \n  1563.46,745.932 1565.49,744.495 1567.52,743.057 1569.55,741.616 1571.58,740.173 1573.61,738.728 1575.64,737.28 1577.67,735.83 1579.69,734.378 1581.72,732.924 \n  1583.75,731.467 1585.78,730.009 1587.81,728.548 1589.84,727.084 1591.87,725.619 1593.9,724.151 1595.93,722.681 1597.96,721.209 1599.99,719.735 1602.02,718.258 \n  1604.05,716.779 1606.07,715.298 1608.1,713.814 1610.13,712.329 1612.16,710.841 1614.19,709.351 1616.22,707.858 1618.25,706.364 1620.28,704.867 1622.31,703.368 \n  1624.34,701.866 1626.37,700.363 1628.4,698.857 1630.42,697.349 1632.45,695.839 1634.48,694.326 1636.51,692.811 1638.54,691.294 1640.57,689.775 1642.6,688.253 \n  1644.63,686.729 1646.66,685.203 1648.69,683.675 1650.72,682.145 1652.75,680.612 1654.77,679.077 1656.8,677.54 1658.83,676 1660.86,674.459 1662.89,672.915 \n  1664.92,671.368 1666.95,669.82 1668.98,668.269 1671.01,666.716 1673.04,665.161 1675.07,663.604 1677.1,662.044 1679.13,660.482 1681.15,658.918 1683.18,657.352 \n  1685.21,655.783 1687.24,654.212 1689.27,652.639 1691.3,651.064 1693.33,649.486 1695.36,647.906 1697.39,646.324 1699.42,644.74 1701.45,643.153 1703.48,641.564 \n  1705.5,639.973 1707.53,638.38 1709.56,636.784 1711.59,635.187 1713.62,633.587 1715.65,631.984 1717.68,630.38 1719.71,628.773 1721.74,627.164 1723.77,625.553 \n  1725.8,623.939 1727.83,622.324 1729.85,620.706 1731.88,619.085 1733.91,617.463 1735.94,615.838 1737.97,614.211 1740,612.582 1742.03,610.951 1744.06,609.317 \n  1746.09,607.681 1748.12,606.043 1750.15,604.403 1752.18,602.76 1754.21,601.115 1756.23,599.468 1758.26,597.819 1760.29,596.167 1762.32,594.513 1764.35,592.857 \n  1766.38,591.199 1768.41,589.538 1770.44,587.875 1772.47,586.21 1774.5,584.543 1776.53,582.874 1778.56,581.202 1780.58,579.528 1782.61,577.851 1784.64,576.173 \n  1786.67,574.492 1788.7,572.809 1790.73,571.124 1792.76,569.436 1794.79,567.747 1796.82,566.055 1798.85,564.361 1800.88,562.664 1802.91,560.965 1804.94,559.264 \n  1806.96,557.561 1808.99,555.856 1811.02,554.148 1813.05,552.438 1815.08,550.726 1817.11,549.012 1819.14,547.295 1821.17,545.576 1823.2,543.855 1825.23,542.132 \n  1827.26,540.406 1829.29,538.678 1831.31,536.948 1833.34,535.216 1835.37,533.481 1837.4,531.744 1839.43,530.005 1841.46,528.264 1843.49,526.52 1845.52,524.775 \n  1847.55,523.027 1849.58,521.276 1851.61,519.524 1853.64,517.769 1855.66,516.012 1857.69,514.253 1859.72,512.491 1861.75,510.728 1863.78,508.962 1865.81,507.193 \n  1867.84,505.423 1869.87,503.65 1871.9,501.875 1873.93,500.098 1875.96,498.319 1877.99,496.537 1880.02,494.753 1882.04,492.967 1884.07,491.179 1886.1,489.388 \n  1888.13,487.595 1890.16,485.8 1892.19,484.003 1894.22,482.203 1896.25,480.401 1898.28,478.597 1900.31,476.791 1902.34,474.982 1904.37,473.171 1906.39,471.358 \n  1908.42,469.543 1910.45,467.725 1912.48,465.906 1914.51,464.084 1916.54,462.259 1918.57,460.433 1920.6,458.604 1922.63,456.773 1924.66,454.94 1926.69,453.104 \n  1928.72,451.267 1930.74,449.427 1932.77,447.584 1934.8,445.74 1936.83,443.893 1938.86,442.044 1940.89,440.193 1942.92,438.34 1944.95,436.484 1946.98,434.626 \n  1949.01,432.766 1951.04,430.903 1953.07,429.039 1955.1,427.172 1957.12,425.303 1959.15,423.431 1961.18,421.558 1963.21,419.682 1965.24,417.804 1967.27,415.924 \n  1969.3,414.041 1971.33,412.156 1973.36,410.269 1975.39,408.38 1977.42,406.488 1979.45,404.594 1981.47,402.698 1983.5,400.8 1985.53,398.9 1987.56,396.997 \n  1989.59,395.092 1991.62,393.185 1993.65,391.275 1995.68,389.363 1997.71,387.449 1999.74,385.533 2001.77,383.615 2003.8,381.694 2005.82,379.771 2007.85,377.846 \n  2009.88,375.918 2011.91,373.989 2013.94,372.057 2015.97,370.123 2018,368.186 2020.03,366.248 2022.06,364.307 2024.09,362.364 2026.12,360.418 2028.15,358.471 \n  2030.18,356.521 2032.2,354.569 2034.23,352.614 2036.26,350.658 2038.29,348.699 2040.32,346.738 2042.35,344.774 2044.38,342.809 2046.41,340.841 2048.44,338.871 \n  2050.47,336.899 2052.5,334.924 2054.53,332.948 2056.55,330.968 2058.58,328.987 2060.61,327.004 2062.64,325.018 2064.67,323.03 2066.7,321.04 2068.73,319.047 \n  2070.76,317.053 2072.79,315.056 2074.82,313.056 2076.85,311.055 2078.88,309.051 2080.91,307.045 2082.93,305.037 2084.96,303.027 2086.99,301.014 2089.02,298.999 \n  2091.05,296.982 2093.08,294.963 2095.11,292.941 2097.14,290.917 2099.17,288.891 2101.2,286.863 2103.23,284.832 2105.26,282.799 2107.28,280.764 2109.31,278.727 \n  2111.34,276.688 2113.37,274.646 2115.4,272.602 2117.43,270.555 2119.46,268.507 2121.49,266.456 2123.52,264.403 2125.55,262.348 2127.58,260.29 2129.61,258.231 \n  2131.63,256.169 2133.66,254.104 2135.69,252.038 2137.72,249.969 2139.75,247.898 2141.78,245.825 2143.81,243.75 2145.84,241.672 2147.87,239.592 2149.9,237.51 \n  2151.93,235.425 2153.96,233.339 2155.99,231.25 2158.01,229.159 2160.04,227.065 2162.07,224.97 2164.1,222.872 2166.13,220.772 2168.16,218.669 2170.19,216.565 \n  2172.22,214.458 2174.25,212.349 2176.28,210.238 2178.31,208.124 2180.34,206.008 2182.36,203.89 2184.39,201.77 2186.42,199.647 2188.45,197.523 2190.48,195.396 \n  2192.51,193.266 2194.54,191.135 2196.57,189.001 2198.6,186.865 2200.63,184.727 2202.66,182.586 2204.69,180.444 2206.71,178.299 2208.74,176.152 2210.77,174.002 \n  2212.8,171.85 2214.83,169.697 2216.86,167.54 2218.89,165.382 2220.92,163.221 2222.95,161.058 2224.98,158.893 2227.01,156.726 2229.04,154.556 2231.07,152.384 \n  2233.09,150.21 2235.12,148.034 2237.15,145.855 2239.18,143.675 2241.21,141.491 2243.24,139.306 2245.27,137.119 2247.3,134.929 2249.33,132.737 2251.36,130.542 \n  2253.39,128.346 2255.42,126.147 2257.44,123.946 2259.47,121.743 2261.5,119.537 2263.53,117.33 2265.56,115.12 2267.59,112.907 2269.62,110.693 2271.65,108.476 \n  2273.68,106.257 2275.71,104.036 2277.74,101.813 2279.77,99.5869 2281.8,97.359 2283.82,95.1288 2285.85,92.8964 2287.88,90.6617 2289.91,88.4248 2291.94,86.1857 \n  \n  \"/>\n<path clip-path=\"url(#clip630)\" d=\"\nM1989.94 248.629 L2281.13 248.629 L2281.13 93.1086 L1989.94 93.1086  Z\n  \" fill=\"#ffffff\" fill-rule=\"evenodd\" fill-opacity=\"1\"/>\n<polyline clip-path=\"url(#clip630)\" style=\"stroke:#000000; stroke-linecap:butt; stroke-linejoin:round; stroke-width:4; stroke-opacity:1; fill:none\" points=\"\n  1989.94,248.629 2281.13,248.629 2281.13,93.1086 1989.94,93.1086 1989.94,248.629 \n  \"/>\n<polyline clip-path=\"url(#clip630)\" style=\"stroke:#009af9; stroke-linecap:butt; stroke-linejoin:round; stroke-width:4; stroke-opacity:1; fill:none\" points=\"\n  2013.82,144.949 2157.07,144.949 \n  \"/>\n<path clip-path=\"url(#clip630)\" d=\"M2194.79 164.636 Q2192.99 169.266 2191.27 170.678 Q2189.56 172.09 2186.69 172.09 L2183.29 172.09 L2183.29 168.525 L2185.79 168.525 Q2187.55 168.525 2188.52 167.692 Q2189.49 166.858 2190.67 163.756 L2191.43 161.812 L2180.95 136.303 L2185.46 136.303 L2193.56 156.581 L2201.67 136.303 L2206.18 136.303 L2194.79 164.636 Z\" fill=\"#000000\" fill-rule=\"evenodd\" fill-opacity=\"1\" /><path clip-path=\"url(#clip630)\" d=\"M2213.47 158.293 L2221.11 158.293 L2221.11 131.928 L2212.8 133.595 L2212.8 129.335 L2221.06 127.669 L2225.74 127.669 L2225.74 158.293 L2233.38 158.293 L2233.38 162.229 L2213.47 162.229 L2213.47 158.293 Z\" fill=\"#000000\" fill-rule=\"evenodd\" fill-opacity=\"1\" /><polyline clip-path=\"url(#clip630)\" style=\"stroke:#e26f46; stroke-linecap:butt; stroke-linejoin:round; stroke-width:4; stroke-opacity:1; fill:none\" points=\"\n  2013.82,196.789 2157.07,196.789 \n  \"/>\n<path clip-path=\"url(#clip630)\" d=\"M2194.79 216.476 Q2192.99 221.106 2191.27 222.518 Q2189.56 223.93 2186.69 223.93 L2183.29 223.93 L2183.29 220.365 L2185.79 220.365 Q2187.55 220.365 2188.52 219.532 Q2189.49 218.698 2190.67 215.596 L2191.43 213.652 L2180.95 188.143 L2185.46 188.143 L2193.56 208.421 L2201.67 188.143 L2206.18 188.143 L2194.79 216.476 Z\" fill=\"#000000\" fill-rule=\"evenodd\" fill-opacity=\"1\" /><path clip-path=\"url(#clip630)\" d=\"M2216.69 210.133 L2233.01 210.133 L2233.01 214.069 L2211.06 214.069 L2211.06 210.133 Q2213.73 207.379 2218.31 202.749 Q2222.92 198.096 2224.1 196.754 Q2226.34 194.231 2227.22 192.495 Q2228.12 190.735 2228.12 189.046 Q2228.12 186.291 2226.18 184.555 Q2224.26 182.819 2221.16 182.819 Q2218.96 182.819 2216.5 183.583 Q2214.07 184.347 2211.3 185.897 L2211.3 181.175 Q2214.12 180.041 2216.57 179.462 Q2219.03 178.884 2221.06 178.884 Q2226.43 178.884 2229.63 181.569 Q2232.82 184.254 2232.82 188.745 Q2232.82 190.874 2232.01 192.796 Q2231.23 194.694 2229.12 197.286 Q2228.54 197.958 2225.44 201.175 Q2222.34 204.37 2216.69 210.133 Z\" fill=\"#000000\" fill-rule=\"evenodd\" fill-opacity=\"1\" /></svg>\n"
     },
     "metadata": {},
     "execution_count": 485
    }
   ],
   "metadata": {}
  },
  {
   "cell_type": "code",
   "execution_count": 430,
   "source": [
    "#F(lambda)とG(lambda)をプロットして，比較する\n",
    "using Plots\n",
    "using QuadGK\n",
    "\n",
    "include(\"../plot/plot.jl\")\n",
    "\n",
    "\n",
    "plot_overlap_integral(1,10,type=\"F\",re=\"false\",sample=1000)\n",
    "plot_overlap_integral(1,10,type=\"G\",re=\"true\",sample=1000)\n",
    "\n",
    "# G(λ)の定義域は λ>=0.25ぐらい\n",
    "\n"
   ],
   "outputs": [
    {
     "output_type": "execute_result",
     "data": {
      "image/svg+xml": "<?xml version=\"1.0\" encoding=\"utf-8\"?>\n<svg xmlns=\"http://www.w3.org/2000/svg\" xmlns:xlink=\"http://www.w3.org/1999/xlink\" width=\"600\" height=\"400\" viewBox=\"0 0 2400 1600\">\n<defs>\n  <clipPath id=\"clip190\">\n    <rect x=\"0\" y=\"0\" width=\"2400\" height=\"1600\"/>\n  </clipPath>\n</defs>\n<path clip-path=\"url(#clip190)\" d=\"\nM0 1600 L2400 1600 L2400 0 L0 0  Z\n  \" fill=\"#ffffff\" fill-rule=\"evenodd\" fill-opacity=\"1\"/>\n<defs>\n  <clipPath id=\"clip191\">\n    <rect x=\"480\" y=\"0\" width=\"1681\" height=\"1600\"/>\n  </clipPath>\n</defs>\n<path clip-path=\"url(#clip190)\" d=\"\nM249.542 1423.18 L2352.76 1423.18 L2352.76 123.472 L249.542 123.472  Z\n  \" fill=\"#ffffff\" fill-rule=\"evenodd\" fill-opacity=\"1\"/>\n<defs>\n  <clipPath id=\"clip192\">\n    <rect x=\"249\" y=\"123\" width=\"2104\" height=\"1301\"/>\n  </clipPath>\n</defs>\n<polyline clip-path=\"url(#clip192)\" style=\"stroke:#000000; stroke-linecap:butt; stroke-linejoin:round; stroke-width:2; stroke-opacity:0.1; fill:none\" points=\"\n  529.53,1423.18 529.53,123.472 \n  \"/>\n<polyline clip-path=\"url(#clip192)\" style=\"stroke:#000000; stroke-linecap:butt; stroke-linejoin:round; stroke-width:2; stroke-opacity:0.1; fill:none\" points=\"\n  970.455,1423.18 970.455,123.472 \n  \"/>\n<polyline clip-path=\"url(#clip192)\" style=\"stroke:#000000; stroke-linecap:butt; stroke-linejoin:round; stroke-width:2; stroke-opacity:0.1; fill:none\" points=\"\n  1411.38,1423.18 1411.38,123.472 \n  \"/>\n<polyline clip-path=\"url(#clip192)\" style=\"stroke:#000000; stroke-linecap:butt; stroke-linejoin:round; stroke-width:2; stroke-opacity:0.1; fill:none\" points=\"\n  1852.31,1423.18 1852.31,123.472 \n  \"/>\n<polyline clip-path=\"url(#clip192)\" style=\"stroke:#000000; stroke-linecap:butt; stroke-linejoin:round; stroke-width:2; stroke-opacity:0.1; fill:none\" points=\"\n  2293.23,1423.18 2293.23,123.472 \n  \"/>\n<polyline clip-path=\"url(#clip190)\" style=\"stroke:#000000; stroke-linecap:butt; stroke-linejoin:round; stroke-width:4; stroke-opacity:1; fill:none\" points=\"\n  249.542,1423.18 2352.76,1423.18 \n  \"/>\n<polyline clip-path=\"url(#clip190)\" style=\"stroke:#000000; stroke-linecap:butt; stroke-linejoin:round; stroke-width:4; stroke-opacity:1; fill:none\" points=\"\n  529.53,1423.18 529.53,1404.28 \n  \"/>\n<polyline clip-path=\"url(#clip190)\" style=\"stroke:#000000; stroke-linecap:butt; stroke-linejoin:round; stroke-width:4; stroke-opacity:1; fill:none\" points=\"\n  970.455,1423.18 970.455,1404.28 \n  \"/>\n<polyline clip-path=\"url(#clip190)\" style=\"stroke:#000000; stroke-linecap:butt; stroke-linejoin:round; stroke-width:4; stroke-opacity:1; fill:none\" points=\"\n  1411.38,1423.18 1411.38,1404.28 \n  \"/>\n<polyline clip-path=\"url(#clip190)\" style=\"stroke:#000000; stroke-linecap:butt; stroke-linejoin:round; stroke-width:4; stroke-opacity:1; fill:none\" points=\"\n  1852.31,1423.18 1852.31,1404.28 \n  \"/>\n<polyline clip-path=\"url(#clip190)\" style=\"stroke:#000000; stroke-linecap:butt; stroke-linejoin:round; stroke-width:4; stroke-opacity:1; fill:none\" points=\"\n  2293.23,1423.18 2293.23,1404.28 \n  \"/>\n<path clip-path=\"url(#clip190)\" d=\"M524.182 1479.92 L540.502 1479.92 L540.502 1483.85 L518.557 1483.85 L518.557 1479.92 Q521.219 1477.16 525.803 1472.53 Q530.409 1467.88 531.59 1466.54 Q533.835 1464.01 534.715 1462.28 Q535.618 1460.52 535.618 1458.83 Q535.618 1456.07 533.673 1454.34 Q531.752 1452.6 528.65 1452.6 Q526.451 1452.6 523.997 1453.37 Q521.567 1454.13 518.789 1455.68 L518.789 1450.96 Q521.613 1449.82 524.067 1449.25 Q526.52 1448.67 528.557 1448.67 Q533.928 1448.67 537.122 1451.35 Q540.317 1454.04 540.317 1458.53 Q540.317 1460.66 539.506 1462.58 Q538.719 1464.48 536.613 1467.07 Q536.034 1467.74 532.932 1470.96 Q529.831 1474.15 524.182 1479.92 Z\" fill=\"#000000\" fill-rule=\"evenodd\" fill-opacity=\"1\" /><path clip-path=\"url(#clip190)\" d=\"M973.464 1453.37 L961.659 1471.81 L973.464 1471.81 L973.464 1453.37 M972.237 1449.29 L978.117 1449.29 L978.117 1471.81 L983.047 1471.81 L983.047 1475.7 L978.117 1475.7 L978.117 1483.85 L973.464 1483.85 L973.464 1475.7 L957.862 1475.7 L957.862 1471.19 L972.237 1449.29 Z\" fill=\"#000000\" fill-rule=\"evenodd\" fill-opacity=\"1\" /><path clip-path=\"url(#clip190)\" d=\"M1411.79 1464.71 Q1408.64 1464.71 1406.79 1466.86 Q1404.96 1469.01 1404.96 1472.76 Q1404.96 1476.49 1406.79 1478.67 Q1408.64 1480.82 1411.79 1480.82 Q1414.93 1480.82 1416.76 1478.67 Q1418.61 1476.49 1418.61 1472.76 Q1418.61 1469.01 1416.76 1466.86 Q1414.93 1464.71 1411.79 1464.71 M1421.07 1450.06 L1421.07 1454.31 Q1419.31 1453.48 1417.5 1453.04 Q1415.72 1452.6 1413.96 1452.6 Q1409.33 1452.6 1406.88 1455.73 Q1404.45 1458.85 1404.1 1465.17 Q1405.47 1463.16 1407.53 1462.09 Q1409.59 1461 1412.06 1461 Q1417.27 1461 1420.28 1464.18 Q1423.31 1467.32 1423.31 1472.76 Q1423.31 1478.09 1420.16 1481.31 Q1417.02 1484.52 1411.79 1484.52 Q1405.79 1484.52 1402.62 1479.94 Q1399.45 1475.33 1399.45 1466.61 Q1399.45 1458.41 1403.34 1453.55 Q1407.23 1448.67 1413.78 1448.67 Q1415.54 1448.67 1417.32 1449.01 Q1419.12 1449.36 1421.07 1450.06 Z\" fill=\"#000000\" fill-rule=\"evenodd\" fill-opacity=\"1\" /><path clip-path=\"url(#clip190)\" d=\"M1852.31 1467.44 Q1848.97 1467.44 1847.05 1469.22 Q1845.15 1471 1845.15 1474.13 Q1845.15 1477.25 1847.05 1479.04 Q1848.97 1480.82 1852.31 1480.82 Q1855.64 1480.82 1857.56 1479.04 Q1859.48 1477.23 1859.48 1474.13 Q1859.48 1471 1857.56 1469.22 Q1855.66 1467.44 1852.31 1467.44 M1847.63 1465.45 Q1844.62 1464.71 1842.93 1462.65 Q1841.26 1460.59 1841.26 1457.63 Q1841.26 1453.48 1844.2 1451.07 Q1847.17 1448.67 1852.31 1448.67 Q1857.47 1448.67 1860.41 1451.07 Q1863.35 1453.48 1863.35 1457.63 Q1863.35 1460.59 1861.66 1462.65 Q1859.99 1464.71 1857 1465.45 Q1860.38 1466.24 1862.26 1468.53 Q1864.16 1470.82 1864.16 1474.13 Q1864.16 1479.15 1861.08 1481.84 Q1858.02 1484.52 1852.31 1484.52 Q1846.59 1484.52 1843.51 1481.84 Q1840.45 1479.15 1840.45 1474.13 Q1840.45 1470.82 1842.35 1468.53 Q1844.25 1466.24 1847.63 1465.45 M1845.92 1458.06 Q1845.92 1460.75 1847.58 1462.25 Q1849.27 1463.76 1852.31 1463.76 Q1855.31 1463.76 1857 1462.25 Q1858.72 1460.75 1858.72 1458.06 Q1858.72 1455.38 1857 1453.88 Q1855.31 1452.37 1852.31 1452.37 Q1849.27 1452.37 1847.58 1453.88 Q1845.92 1455.38 1845.92 1458.06 Z\" fill=\"#000000\" fill-rule=\"evenodd\" fill-opacity=\"1\" /><path clip-path=\"url(#clip190)\" d=\"M2267.92 1479.92 L2275.56 1479.92 L2275.56 1453.55 L2267.25 1455.22 L2267.25 1450.96 L2275.51 1449.29 L2280.19 1449.29 L2280.19 1479.92 L2287.83 1479.92 L2287.83 1483.85 L2267.92 1483.85 L2267.92 1479.92 Z\" fill=\"#000000\" fill-rule=\"evenodd\" fill-opacity=\"1\" /><path clip-path=\"url(#clip190)\" d=\"M2307.27 1452.37 Q2303.66 1452.37 2301.83 1455.94 Q2300.02 1459.48 2300.02 1466.61 Q2300.02 1473.71 2301.83 1477.28 Q2303.66 1480.82 2307.27 1480.82 Q2310.9 1480.82 2312.71 1477.28 Q2314.54 1473.71 2314.54 1466.61 Q2314.54 1459.48 2312.71 1455.94 Q2310.9 1452.37 2307.27 1452.37 M2307.27 1448.67 Q2313.08 1448.67 2316.14 1453.27 Q2319.21 1457.86 2319.21 1466.61 Q2319.21 1475.33 2316.14 1479.94 Q2313.08 1484.52 2307.27 1484.52 Q2301.46 1484.52 2298.38 1479.94 Q2295.33 1475.33 2295.33 1466.61 Q2295.33 1457.86 2298.38 1453.27 Q2301.46 1448.67 2307.27 1448.67 Z\" fill=\"#000000\" fill-rule=\"evenodd\" fill-opacity=\"1\" /><path clip-path=\"url(#clip190)\" d=\"M1302.04 1524.09 L1318.5 1568.04 L1312.29 1568.04 L1302.29 1541.69 L1290.01 1568.04 L1283.8 1568.04 L1299.43 1533.86 L1297.07 1527.56 Q1295.58 1523.55 1292.17 1523.55 L1289.12 1523.55 L1289.12 1518.52 L1292.84 1518.58 Q1300.03 1518.68 1302.04 1524.09 Z\" fill=\"#000000\" fill-rule=\"evenodd\" fill-opacity=\"1\" /><polyline clip-path=\"url(#clip192)\" style=\"stroke:#000000; stroke-linecap:butt; stroke-linejoin:round; stroke-width:2; stroke-opacity:0.1; fill:none\" points=\"\n  249.542,1233.2 2352.76,1233.2 \n  \"/>\n<polyline clip-path=\"url(#clip192)\" style=\"stroke:#000000; stroke-linecap:butt; stroke-linejoin:round; stroke-width:2; stroke-opacity:0.1; fill:none\" points=\"\n  249.542,944.183 2352.76,944.183 \n  \"/>\n<polyline clip-path=\"url(#clip192)\" style=\"stroke:#000000; stroke-linecap:butt; stroke-linejoin:round; stroke-width:2; stroke-opacity:0.1; fill:none\" points=\"\n  249.542,655.166 2352.76,655.166 \n  \"/>\n<polyline clip-path=\"url(#clip192)\" style=\"stroke:#000000; stroke-linecap:butt; stroke-linejoin:round; stroke-width:2; stroke-opacity:0.1; fill:none\" points=\"\n  249.542,366.149 2352.76,366.149 \n  \"/>\n<polyline clip-path=\"url(#clip190)\" style=\"stroke:#000000; stroke-linecap:butt; stroke-linejoin:round; stroke-width:4; stroke-opacity:1; fill:none\" points=\"\n  249.542,1423.18 249.542,123.472 \n  \"/>\n<polyline clip-path=\"url(#clip190)\" style=\"stroke:#000000; stroke-linecap:butt; stroke-linejoin:round; stroke-width:4; stroke-opacity:1; fill:none\" points=\"\n  249.542,1233.2 268.44,1233.2 \n  \"/>\n<polyline clip-path=\"url(#clip190)\" style=\"stroke:#000000; stroke-linecap:butt; stroke-linejoin:round; stroke-width:4; stroke-opacity:1; fill:none\" points=\"\n  249.542,944.183 268.44,944.183 \n  \"/>\n<polyline clip-path=\"url(#clip190)\" style=\"stroke:#000000; stroke-linecap:butt; stroke-linejoin:round; stroke-width:4; stroke-opacity:1; fill:none\" points=\"\n  249.542,655.166 268.44,655.166 \n  \"/>\n<polyline clip-path=\"url(#clip190)\" style=\"stroke:#000000; stroke-linecap:butt; stroke-linejoin:round; stroke-width:4; stroke-opacity:1; fill:none\" points=\"\n  249.542,366.149 268.44,366.149 \n  \"/>\n<path clip-path=\"url(#clip190)\" d=\"M127.2 1219 Q123.589 1219 121.76 1222.56 Q119.955 1226.11 119.955 1233.24 Q119.955 1240.34 121.76 1243.91 Q123.589 1247.45 127.2 1247.45 Q130.834 1247.45 132.64 1243.91 Q134.468 1240.34 134.468 1233.24 Q134.468 1226.11 132.64 1222.56 Q130.834 1219 127.2 1219 M127.2 1215.3 Q133.01 1215.3 136.066 1219.9 Q139.144 1224.49 139.144 1233.24 Q139.144 1241.96 136.066 1246.57 Q133.01 1251.15 127.2 1251.15 Q121.39 1251.15 118.311 1246.57 Q115.256 1241.96 115.256 1233.24 Q115.256 1224.49 118.311 1219.9 Q121.39 1215.3 127.2 1215.3 Z\" fill=\"#000000\" fill-rule=\"evenodd\" fill-opacity=\"1\" /><path clip-path=\"url(#clip190)\" d=\"M147.362 1244.6 L152.246 1244.6 L152.246 1250.48 L147.362 1250.48 L147.362 1244.6 Z\" fill=\"#000000\" fill-rule=\"evenodd\" fill-opacity=\"1\" /><path clip-path=\"url(#clip190)\" d=\"M166.459 1246.55 L182.778 1246.55 L182.778 1250.48 L160.834 1250.48 L160.834 1246.55 Q163.496 1243.79 168.079 1239.16 Q172.686 1234.51 173.866 1233.17 Q176.112 1230.64 176.991 1228.91 Q177.894 1227.15 177.894 1225.46 Q177.894 1222.7 175.95 1220.97 Q174.028 1219.23 170.927 1219.23 Q168.727 1219.23 166.274 1219.99 Q163.843 1220.76 161.065 1222.31 L161.065 1217.59 Q163.89 1216.45 166.343 1215.87 Q168.797 1215.3 170.834 1215.3 Q176.204 1215.3 179.399 1217.98 Q182.593 1220.67 182.593 1225.16 Q182.593 1227.29 181.783 1229.21 Q180.996 1231.11 178.889 1233.7 Q178.311 1234.37 175.209 1237.59 Q172.107 1240.78 166.459 1246.55 Z\" fill=\"#000000\" fill-rule=\"evenodd\" fill-opacity=\"1\" /><path clip-path=\"url(#clip190)\" d=\"M192.639 1215.92 L210.996 1215.92 L210.996 1219.86 L196.922 1219.86 L196.922 1228.33 Q197.94 1227.98 198.959 1227.82 Q199.977 1227.63 200.996 1227.63 Q206.783 1227.63 210.162 1230.8 Q213.542 1233.98 213.542 1239.39 Q213.542 1244.97 210.07 1248.07 Q206.598 1251.15 200.278 1251.15 Q198.102 1251.15 195.834 1250.78 Q193.588 1250.41 191.181 1249.67 L191.181 1244.97 Q193.264 1246.11 195.487 1246.66 Q197.709 1247.22 200.186 1247.22 Q204.19 1247.22 206.528 1245.11 Q208.866 1243 208.866 1239.39 Q208.866 1235.78 206.528 1233.68 Q204.19 1231.57 200.186 1231.57 Q198.311 1231.57 196.436 1231.99 Q194.584 1232.4 192.639 1233.28 L192.639 1215.92 Z\" fill=\"#000000\" fill-rule=\"evenodd\" fill-opacity=\"1\" /><path clip-path=\"url(#clip190)\" d=\"M126.205 929.982 Q122.593 929.982 120.765 933.547 Q118.959 937.088 118.959 944.218 Q118.959 951.324 120.765 954.889 Q122.593 958.431 126.205 958.431 Q129.839 958.431 131.644 954.889 Q133.473 951.324 133.473 944.218 Q133.473 937.088 131.644 933.547 Q129.839 929.982 126.205 929.982 M126.205 926.278 Q132.015 926.278 135.07 930.885 Q138.149 935.468 138.149 944.218 Q138.149 952.945 135.07 957.551 Q132.015 962.135 126.205 962.135 Q120.394 962.135 117.316 957.551 Q114.26 952.945 114.26 944.218 Q114.26 935.468 117.316 930.885 Q120.394 926.278 126.205 926.278 Z\" fill=\"#000000\" fill-rule=\"evenodd\" fill-opacity=\"1\" /><path clip-path=\"url(#clip190)\" d=\"M146.366 955.584 L151.251 955.584 L151.251 961.463 L146.366 961.463 L146.366 955.584 Z\" fill=\"#000000\" fill-rule=\"evenodd\" fill-opacity=\"1\" /><path clip-path=\"url(#clip190)\" d=\"M161.482 926.903 L179.839 926.903 L179.839 930.838 L165.765 930.838 L165.765 939.311 Q166.783 938.963 167.802 938.801 Q168.82 938.616 169.839 938.616 Q175.626 938.616 179.005 941.787 Q182.385 944.959 182.385 950.375 Q182.385 955.954 178.913 959.056 Q175.44 962.135 169.121 962.135 Q166.945 962.135 164.677 961.764 Q162.431 961.394 160.024 960.653 L160.024 955.954 Q162.107 957.088 164.329 957.644 Q166.552 958.199 169.028 958.199 Q173.033 958.199 175.371 956.093 Q177.709 953.986 177.709 950.375 Q177.709 946.764 175.371 944.658 Q173.033 942.551 169.028 942.551 Q167.153 942.551 165.278 942.968 Q163.427 943.385 161.482 944.264 L161.482 926.903 Z\" fill=\"#000000\" fill-rule=\"evenodd\" fill-opacity=\"1\" /><path clip-path=\"url(#clip190)\" d=\"M201.598 929.982 Q197.987 929.982 196.158 933.547 Q194.352 937.088 194.352 944.218 Q194.352 951.324 196.158 954.889 Q197.987 958.431 201.598 958.431 Q205.232 958.431 207.037 954.889 Q208.866 951.324 208.866 944.218 Q208.866 937.088 207.037 933.547 Q205.232 929.982 201.598 929.982 M201.598 926.278 Q207.408 926.278 210.463 930.885 Q213.542 935.468 213.542 944.218 Q213.542 952.945 210.463 957.551 Q207.408 962.135 201.598 962.135 Q195.787 962.135 192.709 957.551 Q189.653 952.945 189.653 944.218 Q189.653 935.468 192.709 930.885 Q195.787 926.278 201.598 926.278 Z\" fill=\"#000000\" fill-rule=\"evenodd\" fill-opacity=\"1\" /><path clip-path=\"url(#clip190)\" d=\"M127.2 640.965 Q123.589 640.965 121.76 644.53 Q119.955 648.071 119.955 655.201 Q119.955 662.307 121.76 665.872 Q123.589 669.414 127.2 669.414 Q130.834 669.414 132.64 665.872 Q134.468 662.307 134.468 655.201 Q134.468 648.071 132.64 644.53 Q130.834 640.965 127.2 640.965 M127.2 637.261 Q133.01 637.261 136.066 641.868 Q139.144 646.451 139.144 655.201 Q139.144 663.928 136.066 668.534 Q133.01 673.117 127.2 673.117 Q121.39 673.117 118.311 668.534 Q115.256 663.928 115.256 655.201 Q115.256 646.451 118.311 641.868 Q121.39 637.261 127.2 637.261 Z\" fill=\"#000000\" fill-rule=\"evenodd\" fill-opacity=\"1\" /><path clip-path=\"url(#clip190)\" d=\"M147.362 666.567 L152.246 666.567 L152.246 672.446 L147.362 672.446 L147.362 666.567 Z\" fill=\"#000000\" fill-rule=\"evenodd\" fill-opacity=\"1\" /><path clip-path=\"url(#clip190)\" d=\"M161.251 637.886 L183.473 637.886 L183.473 639.877 L170.927 672.446 L166.042 672.446 L177.848 641.821 L161.251 641.821 L161.251 637.886 Z\" fill=\"#000000\" fill-rule=\"evenodd\" fill-opacity=\"1\" /><path clip-path=\"url(#clip190)\" d=\"M192.639 637.886 L210.996 637.886 L210.996 641.821 L196.922 641.821 L196.922 650.293 Q197.94 649.946 198.959 649.784 Q199.977 649.599 200.996 649.599 Q206.783 649.599 210.162 652.77 Q213.542 655.942 213.542 661.358 Q213.542 666.937 210.07 670.039 Q206.598 673.117 200.278 673.117 Q198.102 673.117 195.834 672.747 Q193.588 672.377 191.181 671.636 L191.181 666.937 Q193.264 668.071 195.487 668.627 Q197.709 669.182 200.186 669.182 Q204.19 669.182 206.528 667.076 Q208.866 664.969 208.866 661.358 Q208.866 657.747 206.528 655.641 Q204.19 653.534 200.186 653.534 Q198.311 653.534 196.436 653.951 Q194.584 654.368 192.639 655.247 L192.639 637.886 Z\" fill=\"#000000\" fill-rule=\"evenodd\" fill-opacity=\"1\" /><path clip-path=\"url(#clip190)\" d=\"M117.015 379.494 L124.654 379.494 L124.654 353.128 L116.343 354.795 L116.343 350.536 L124.607 348.869 L129.283 348.869 L129.283 379.494 L136.922 379.494 L136.922 383.429 L117.015 383.429 L117.015 379.494 Z\" fill=\"#000000\" fill-rule=\"evenodd\" fill-opacity=\"1\" /><path clip-path=\"url(#clip190)\" d=\"M146.366 377.549 L151.251 377.549 L151.251 383.429 L146.366 383.429 L146.366 377.549 Z\" fill=\"#000000\" fill-rule=\"evenodd\" fill-opacity=\"1\" /><path clip-path=\"url(#clip190)\" d=\"M171.436 351.948 Q167.825 351.948 165.996 355.512 Q164.19 359.054 164.19 366.184 Q164.19 373.29 165.996 376.855 Q167.825 380.397 171.436 380.397 Q175.07 380.397 176.876 376.855 Q178.704 373.29 178.704 366.184 Q178.704 359.054 176.876 355.512 Q175.07 351.948 171.436 351.948 M171.436 348.244 Q177.246 348.244 180.301 352.85 Q183.38 357.434 183.38 366.184 Q183.38 374.91 180.301 379.517 Q177.246 384.1 171.436 384.1 Q165.626 384.1 162.547 379.517 Q159.491 374.91 159.491 366.184 Q159.491 357.434 162.547 352.85 Q165.626 348.244 171.436 348.244 Z\" fill=\"#000000\" fill-rule=\"evenodd\" fill-opacity=\"1\" /><path clip-path=\"url(#clip190)\" d=\"M201.598 351.948 Q197.987 351.948 196.158 355.512 Q194.352 359.054 194.352 366.184 Q194.352 373.29 196.158 376.855 Q197.987 380.397 201.598 380.397 Q205.232 380.397 207.037 376.855 Q208.866 373.29 208.866 366.184 Q208.866 359.054 207.037 355.512 Q205.232 351.948 201.598 351.948 M201.598 348.244 Q207.408 348.244 210.463 352.85 Q213.542 357.434 213.542 366.184 Q213.542 374.91 210.463 379.517 Q207.408 384.1 201.598 384.1 Q195.787 384.1 192.709 379.517 Q189.653 374.91 189.653 366.184 Q189.653 357.434 192.709 352.85 Q195.787 348.244 201.598 348.244 Z\" fill=\"#000000\" fill-rule=\"evenodd\" fill-opacity=\"1\" /><path clip-path=\"url(#clip190)\" d=\"M16.4842 830.792 L16.4842 803.484 L21.895 803.484 L21.895 824.363 L35.8996 824.363 L35.8996 805.521 L41.3104 805.521 L41.3104 824.363 L64.0042 824.363 L64.0042 830.792 L16.4842 830.792 Z\" fill=\"#000000\" fill-rule=\"evenodd\" fill-opacity=\"1\" /><path clip-path=\"url(#clip190)\" d=\"M14.5426 779.485 Q21.8632 783.75 29.0246 785.819 Q36.186 787.888 43.5384 787.888 Q50.8908 787.888 58.1159 785.819 Q65.3091 783.718 72.5979 779.485 L72.5979 784.577 Q65.1182 789.352 57.8931 791.739 Q50.668 794.094 43.5384 794.094 Q36.4406 794.094 29.2474 791.739 Q22.0542 789.383 14.5426 784.577 L14.5426 779.485 Z\" fill=\"#000000\" fill-rule=\"evenodd\" fill-opacity=\"1\" /><path clip-path=\"url(#clip190)\" d=\"M20.049 754.086 L64.0042 737.63 L64.0042 743.837 L37.6501 753.831 L64.0042 766.117 L64.0042 772.323 L29.8203 756.696 L23.5183 759.051 Q19.5079 760.547 19.5079 763.952 L19.5079 767.008 L14.479 767.008 L14.5426 763.284 Q14.6381 756.091 20.049 754.086 Z\" fill=\"#000000\" fill-rule=\"evenodd\" fill-opacity=\"1\" /><path clip-path=\"url(#clip190)\" d=\"M14.5426 730.469 L14.5426 725.376 Q22.0542 720.602 29.2474 718.247 Q36.4406 715.86 43.5384 715.86 Q50.668 715.86 57.8931 718.247 Q65.1182 720.602 72.5979 725.376 L72.5979 730.469 Q65.3091 726.236 58.1159 724.167 Q50.8908 722.066 43.5384 722.066 Q36.186 722.066 29.0246 724.167 Q21.8632 726.236 14.5426 730.469 Z\" fill=\"#000000\" fill-rule=\"evenodd\" fill-opacity=\"1\" /><path clip-path=\"url(#clip190)\" d=\"M999.235 17.6457 Q990.323 17.6457 985.057 24.2892 Q979.831 30.9327 979.831 42.3968 Q979.831 53.8203 985.057 60.4638 Q990.323 67.1073 999.235 67.1073 Q1008.15 67.1073 1013.33 60.4638 Q1018.56 53.8203 1018.56 42.3968 Q1018.56 30.9327 1013.33 24.2892 Q1008.15 17.6457 999.235 17.6457 M999.235 11.0023 Q1011.95 11.0023 1019.57 19.5497 Q1027.19 28.0566 1027.19 42.3968 Q1027.19 56.6965 1019.57 65.2439 Q1011.95 73.7508 999.235 73.7508 Q986.475 73.7508 978.819 65.2439 Q971.203 56.737 971.203 42.3968 Q971.203 28.0566 978.819 19.5497 Q986.475 11.0023 999.235 11.0023 Z\" fill=\"#000000\" fill-rule=\"evenodd\" fill-opacity=\"1\" /><path clip-path=\"url(#clip190)\" d=\"M1034.32 27.2059 L1042.22 27.2059 L1056.39 65.2844 L1070.57 27.2059 L1078.47 27.2059 L1061.46 72.576 L1051.33 72.576 L1034.32 27.2059 Z\" fill=\"#000000\" fill-rule=\"evenodd\" fill-opacity=\"1\" /><path clip-path=\"url(#clip190)\" d=\"M1127.57 48.0275 L1127.57 51.6733 L1093.3 51.6733 Q1093.78 59.3701 1097.92 63.421 Q1102.09 67.4314 1109.5 67.4314 Q1113.79 67.4314 1117.81 66.3781 Q1121.86 65.3249 1125.83 63.2184 L1125.83 70.267 Q1121.82 71.9684 1117.6 72.8596 Q1113.39 73.7508 1109.06 73.7508 Q1098.2 73.7508 1091.84 67.4314 Q1085.52 61.1119 1085.52 50.3365 Q1085.52 39.1965 1091.51 32.6746 Q1097.55 26.1121 1107.76 26.1121 Q1116.91 26.1121 1122.22 32.0264 Q1127.57 37.9003 1127.57 48.0275 M1120.11 45.84 Q1120.03 39.7232 1116.67 36.0774 Q1113.35 32.4315 1107.84 32.4315 Q1101.6 32.4315 1097.83 35.9558 Q1094.11 39.4801 1093.54 45.8805 L1120.11 45.84 Z\" fill=\"#000000\" fill-rule=\"evenodd\" fill-opacity=\"1\" /><path clip-path=\"url(#clip190)\" d=\"M1166.09 34.1734 Q1164.84 33.4443 1163.34 33.1202 Q1161.88 32.7556 1160.1 32.7556 Q1153.78 32.7556 1150.37 36.8875 Q1147.01 40.9789 1147.01 48.6757 L1147.01 72.576 L1139.52 72.576 L1139.52 27.2059 L1147.01 27.2059 L1147.01 34.2544 Q1149.36 30.1225 1153.13 28.1376 Q1156.9 26.1121 1162.28 26.1121 Q1163.05 26.1121 1163.99 26.2337 Q1164.92 26.3147 1166.05 26.5172 L1166.09 34.1734 Z\" fill=\"#000000\" fill-rule=\"evenodd\" fill-opacity=\"1\" /><path clip-path=\"url(#clip190)\" d=\"M1173.91 9.54393 L1181.36 9.54393 L1181.36 72.576 L1173.91 72.576 L1173.91 9.54393 Z\" fill=\"#000000\" fill-rule=\"evenodd\" fill-opacity=\"1\" /><path clip-path=\"url(#clip190)\" d=\"M1217.58 49.7694 Q1208.55 49.7694 1205.06 51.8354 Q1201.58 53.9013 1201.58 58.8839 Q1201.58 62.8538 1204.17 65.2034 Q1206.8 67.5124 1211.3 67.5124 Q1217.5 67.5124 1221.22 63.1374 Q1224.99 58.7219 1224.99 51.4303 L1224.99 49.7694 L1217.58 49.7694 M1232.45 46.6907 L1232.45 72.576 L1224.99 72.576 L1224.99 65.6895 Q1222.44 69.8214 1218.63 71.8063 Q1214.82 73.7508 1209.31 73.7508 Q1202.35 73.7508 1198.22 69.8619 Q1194.12 65.9325 1194.12 59.3701 Q1194.12 51.7138 1199.23 47.825 Q1204.37 43.9361 1214.54 43.9361 L1224.99 43.9361 L1224.99 43.2069 Q1224.99 38.0623 1221.59 35.2672 Q1218.23 32.4315 1212.11 32.4315 Q1208.22 32.4315 1204.53 33.3632 Q1200.85 34.295 1197.45 36.1584 L1197.45 29.2718 Q1201.54 27.692 1205.39 26.9223 Q1209.23 26.1121 1212.88 26.1121 Q1222.72 26.1121 1227.58 31.2163 Q1232.45 36.3204 1232.45 46.6907 Z\" fill=\"#000000\" fill-rule=\"evenodd\" fill-opacity=\"1\" /><path clip-path=\"url(#clip190)\" d=\"M1255.01 65.7705 L1255.01 89.8329 L1247.51 89.8329 L1247.51 27.2059 L1255.01 27.2059 L1255.01 34.0924 Q1257.36 30.0415 1260.92 28.0971 Q1264.53 26.1121 1269.51 26.1121 Q1277.78 26.1121 1282.92 32.6746 Q1288.11 39.2371 1288.11 49.9314 Q1288.11 60.6258 1282.92 67.1883 Q1277.78 73.7508 1269.51 73.7508 Q1264.53 73.7508 1260.92 71.8063 Q1257.36 69.8214 1255.01 65.7705 M1280.37 49.9314 Q1280.37 41.7081 1276.97 37.0496 Q1273.6 32.3505 1267.69 32.3505 Q1261.77 32.3505 1258.37 37.0496 Q1255.01 41.7081 1255.01 49.9314 Q1255.01 58.1548 1258.37 62.8538 Q1261.77 67.5124 1267.69 67.5124 Q1273.6 67.5124 1276.97 62.8538 Q1280.37 58.1548 1280.37 49.9314 Z\" fill=\"#000000\" fill-rule=\"evenodd\" fill-opacity=\"1\" /><path clip-path=\"url(#clip190)\" d=\"M1326.83 27.2059 L1334.29 27.2059 L1334.29 72.576 L1326.83 72.576 L1326.83 27.2059 M1326.83 9.54393 L1334.29 9.54393 L1334.29 18.9825 L1326.83 18.9825 L1326.83 9.54393 Z\" fill=\"#000000\" fill-rule=\"evenodd\" fill-opacity=\"1\" /><path clip-path=\"url(#clip190)\" d=\"M1387.6 45.1919 L1387.6 72.576 L1380.14 72.576 L1380.14 45.4349 Q1380.14 38.994 1377.63 35.7938 Q1375.12 32.5936 1370.1 32.5936 Q1364.06 32.5936 1360.58 36.4419 Q1357.09 40.2903 1357.09 46.9338 L1357.09 72.576 L1349.6 72.576 L1349.6 27.2059 L1357.09 27.2059 L1357.09 34.2544 Q1359.77 30.163 1363.37 28.1376 Q1367.02 26.1121 1371.76 26.1121 Q1379.57 26.1121 1383.58 30.9732 Q1387.6 35.7938 1387.6 45.1919 Z\" fill=\"#000000\" fill-rule=\"evenodd\" fill-opacity=\"1\" /><path clip-path=\"url(#clip190)\" d=\"M1409.83 14.324 L1409.83 27.2059 L1425.19 27.2059 L1425.19 32.9987 L1409.83 32.9987 L1409.83 57.6282 Q1409.83 63.1779 1411.33 64.7578 Q1412.87 66.3376 1417.53 66.3376 L1425.19 66.3376 L1425.19 72.576 L1417.53 72.576 Q1408.9 72.576 1405.62 69.3758 Q1402.34 66.1351 1402.34 57.6282 L1402.34 32.9987 L1396.87 32.9987 L1396.87 27.2059 L1402.34 27.2059 L1402.34 14.324 L1409.83 14.324 Z\" fill=\"#000000\" fill-rule=\"evenodd\" fill-opacity=\"1\" /><path clip-path=\"url(#clip190)\" d=\"M1473.8 48.0275 L1473.8 51.6733 L1439.53 51.6733 Q1440.01 59.3701 1444.15 63.421 Q1448.32 67.4314 1455.73 67.4314 Q1460.03 67.4314 1464.04 66.3781 Q1468.09 65.3249 1472.06 63.2184 L1472.06 70.267 Q1468.05 71.9684 1463.83 72.8596 Q1459.62 73.7508 1455.29 73.7508 Q1444.43 73.7508 1438.07 67.4314 Q1431.75 61.1119 1431.75 50.3365 Q1431.75 39.1965 1437.75 32.6746 Q1443.78 26.1121 1453.99 26.1121 Q1463.14 26.1121 1468.45 32.0264 Q1473.8 37.9003 1473.8 48.0275 M1466.34 45.84 Q1466.26 39.7232 1462.9 36.0774 Q1459.58 32.4315 1454.07 32.4315 Q1447.83 32.4315 1444.06 35.9558 Q1440.34 39.4801 1439.77 45.8805 L1466.34 45.84 Z\" fill=\"#000000\" fill-rule=\"evenodd\" fill-opacity=\"1\" /><path clip-path=\"url(#clip190)\" d=\"M1515.89 49.3643 Q1515.89 41.2625 1512.53 36.8065 Q1509.2 32.3505 1503.17 32.3505 Q1497.17 32.3505 1493.81 36.8065 Q1490.49 41.2625 1490.49 49.3643 Q1490.49 57.4256 1493.81 61.8816 Q1497.17 66.3376 1503.17 66.3376 Q1509.2 66.3376 1512.53 61.8816 Q1515.89 57.4256 1515.89 49.3643 M1523.34 66.9452 Q1523.34 78.5308 1518.2 84.1616 Q1513.05 89.8329 1502.44 89.8329 Q1498.51 89.8329 1495.03 89.2252 Q1491.54 88.6581 1488.26 87.4428 L1488.26 80.1917 Q1491.54 81.9741 1494.74 82.8248 Q1497.94 83.6755 1501.26 83.6755 Q1508.6 83.6755 1512.24 79.8271 Q1515.89 76.0193 1515.89 68.282 L1515.89 64.5957 Q1513.58 68.6061 1509.97 70.5911 Q1506.37 72.576 1501.34 72.576 Q1493 72.576 1487.9 66.2161 Q1482.79 59.8562 1482.79 49.3643 Q1482.79 38.832 1487.9 32.472 Q1493 26.1121 1501.34 26.1121 Q1506.37 26.1121 1509.97 28.0971 Q1513.58 30.082 1515.89 34.0924 L1515.89 27.2059 L1523.34 27.2059 L1523.34 66.9452 Z\" fill=\"#000000\" fill-rule=\"evenodd\" fill-opacity=\"1\" /><path clip-path=\"url(#clip190)\" d=\"M1564.98 34.1734 Q1563.73 33.4443 1562.23 33.1202 Q1560.77 32.7556 1558.99 32.7556 Q1552.67 32.7556 1549.27 36.8875 Q1545.9 40.9789 1545.9 48.6757 L1545.9 72.576 L1538.41 72.576 L1538.41 27.2059 L1545.9 27.2059 L1545.9 34.2544 Q1548.25 30.1225 1552.02 28.1376 Q1555.79 26.1121 1561.18 26.1121 Q1561.95 26.1121 1562.88 26.2337 Q1563.81 26.3147 1564.94 26.5172 L1564.98 34.1734 Z\" fill=\"#000000\" fill-rule=\"evenodd\" fill-opacity=\"1\" /><path clip-path=\"url(#clip190)\" d=\"M1593.42 49.7694 Q1584.39 49.7694 1580.9 51.8354 Q1577.42 53.9013 1577.42 58.8839 Q1577.42 62.8538 1580.01 65.2034 Q1582.65 67.5124 1587.14 67.5124 Q1593.34 67.5124 1597.07 63.1374 Q1600.83 58.7219 1600.83 51.4303 L1600.83 49.7694 L1593.42 49.7694 M1608.29 46.6907 L1608.29 72.576 L1600.83 72.576 L1600.83 65.6895 Q1598.28 69.8214 1594.47 71.8063 Q1590.67 73.7508 1585.16 73.7508 Q1578.19 73.7508 1574.06 69.8619 Q1569.97 65.9325 1569.97 59.3701 Q1569.97 51.7138 1575.07 47.825 Q1580.22 43.9361 1590.38 43.9361 L1600.83 43.9361 L1600.83 43.2069 Q1600.83 38.0623 1597.43 35.2672 Q1594.07 32.4315 1587.95 32.4315 Q1584.06 32.4315 1580.38 33.3632 Q1576.69 34.295 1573.29 36.1584 L1573.29 29.2718 Q1577.38 27.692 1581.23 26.9223 Q1585.08 26.1121 1588.72 26.1121 Q1598.57 26.1121 1603.43 31.2163 Q1608.29 36.3204 1608.29 46.6907 Z\" fill=\"#000000\" fill-rule=\"evenodd\" fill-opacity=\"1\" /><path clip-path=\"url(#clip190)\" d=\"M1623.64 9.54393 L1631.1 9.54393 L1631.1 72.576 L1623.64 72.576 L1623.64 9.54393 Z\" fill=\"#000000\" fill-rule=\"evenodd\" fill-opacity=\"1\" /><polyline clip-path=\"url(#clip192)\" style=\"stroke:#0000ff; stroke-linecap:butt; stroke-linejoin:round; stroke-width:8; stroke-opacity:1; fill:none\" points=\"\n  309.067,160.256 311.053,164.868 313.039,169.498 315.025,174.146 317.012,178.809 318.998,183.487 320.984,188.178 322.97,192.88 324.956,197.593 326.942,202.314 \n  328.928,207.043 330.915,211.779 332.901,216.519 334.887,221.264 336.873,226.012 338.859,230.762 340.845,235.514 342.832,240.266 344.818,245.016 346.804,249.766 \n  348.79,254.513 350.776,259.257 352.762,263.997 354.748,268.732 356.735,273.463 358.721,278.187 360.707,282.904 362.693,287.614 364.679,292.317 366.665,297.011 \n  368.651,301.696 370.638,306.371 372.624,311.037 374.61,315.692 376.596,320.336 378.582,324.969 380.568,329.59 382.555,334.199 384.541,338.795 386.527,343.379 \n  388.513,347.949 390.499,352.506 392.485,357.048 394.471,361.577 396.458,366.091 398.444,370.591 400.43,375.075 402.416,379.545 404.402,383.998 406.388,388.437 \n  408.374,392.859 410.361,397.265 412.347,401.655 414.333,406.029 416.319,410.386 418.305,414.726 420.291,419.049 422.278,423.356 424.264,427.645 426.25,431.917 \n  428.236,436.171 430.222,440.408 432.208,444.628 434.194,448.829 436.181,453.013 438.167,457.179 440.153,461.328 442.139,465.458 444.125,469.57 446.111,473.665 \n  448.097,477.741 450.084,481.799 452.07,485.839 454.056,489.86 456.042,493.864 458.028,497.849 460.014,501.816 462.001,505.764 463.987,509.694 465.973,513.607 \n  467.959,517.5 469.945,521.376 471.931,525.233 473.917,529.072 475.904,532.892 477.89,536.695 479.876,540.479 481.862,544.245 483.848,547.993 485.834,551.723 \n  487.82,555.435 489.807,559.128 491.793,562.804 493.779,566.462 495.765,570.101 497.751,573.723 499.737,577.327 501.724,580.913 503.71,584.481 505.696,588.032 \n  507.682,591.565 509.668,595.08 511.654,598.578 513.64,602.059 515.627,605.522 517.613,608.967 519.599,612.395 521.585,615.806 523.571,619.2 525.557,622.577 \n  527.543,625.937 529.53,629.279 531.516,632.605 533.502,635.914 535.488,639.206 537.474,642.481 539.46,645.74 541.447,648.982 543.433,652.208 545.419,655.417 \n  547.405,658.61 549.391,661.786 551.377,664.947 553.363,668.091 555.35,671.219 557.336,674.331 559.322,677.427 561.308,680.508 563.294,683.572 565.28,686.621 \n  567.266,689.655 569.253,692.672 571.239,695.675 573.225,698.662 575.211,701.633 577.197,704.59 579.183,707.531 581.17,710.457 583.156,713.369 585.142,716.265 \n  587.128,719.147 589.114,722.013 591.1,724.865 593.086,727.703 595.073,730.526 597.059,733.334 599.045,736.128 601.031,738.908 603.017,741.674 605.003,744.425 \n  606.989,747.163 608.976,749.886 610.962,752.596 612.948,755.292 614.934,757.974 616.92,760.642 618.906,763.297 620.893,765.938 622.879,768.566 624.865,771.18 \n  626.851,773.781 628.837,776.369 630.823,778.944 632.809,781.505 634.796,784.054 636.782,786.59 638.768,789.113 640.754,791.623 642.74,794.12 644.726,796.605 \n  646.712,799.078 648.699,801.537 650.685,803.985 652.671,806.42 654.657,808.843 656.643,811.253 658.629,813.652 660.616,816.038 662.602,818.413 664.588,820.775 \n  666.574,823.126 668.56,825.465 670.546,827.792 672.532,830.108 674.519,832.412 676.505,834.705 678.491,836.986 680.477,839.256 682.463,841.514 684.449,843.762 \n  686.435,845.998 688.422,848.223 690.408,850.437 692.394,852.64 694.38,854.832 696.366,857.014 698.352,859.184 700.339,861.344 702.325,863.494 704.311,865.633 \n  706.297,867.761 708.283,869.879 710.269,871.986 712.255,874.083 714.242,876.17 716.228,878.247 718.214,880.313 720.2,882.369 722.186,884.416 724.172,886.452 \n  726.158,888.479 728.145,890.496 730.131,892.503 732.117,894.5 734.103,896.487 736.089,898.465 738.075,900.434 740.062,902.393 742.048,904.342 744.034,906.282 \n  746.02,908.213 748.006,910.135 749.992,912.047 751.978,913.95 753.965,915.845 755.951,917.73 757.937,919.606 759.923,921.473 761.909,923.331 763.895,925.181 \n  765.881,927.021 767.868,928.853 769.854,930.676 771.84,932.491 773.826,934.297 775.812,936.095 777.798,937.884 779.785,939.664 781.771,941.437 783.757,943.201 \n  785.743,944.956 787.729,946.704 789.715,948.443 791.701,950.175 793.688,951.898 795.674,953.613 797.66,955.32 799.646,957.019 801.632,958.711 803.618,960.394 \n  805.604,962.07 807.591,963.738 809.577,965.398 811.563,967.051 813.549,968.696 815.535,970.333 817.521,971.963 819.508,973.585 821.494,975.2 823.48,976.808 \n  825.466,978.408 827.452,980.001 829.438,981.587 831.424,983.166 833.411,984.737 835.397,986.301 837.383,987.858 839.369,989.409 841.355,990.952 843.341,992.488 \n  845.328,994.017 847.314,995.539 849.3,997.055 851.286,998.564 853.272,1000.07 855.258,1001.56 857.244,1003.05 859.231,1004.53 861.217,1006.01 863.203,1007.47 \n  865.189,1008.94 867.175,1010.39 869.161,1011.84 871.147,1013.28 873.134,1014.72 875.12,1016.15 877.106,1017.57 879.092,1018.99 881.078,1020.4 883.064,1021.81 \n  885.051,1023.21 887.037,1024.6 889.023,1025.99 891.009,1027.37 892.995,1028.74 894.981,1030.11 896.967,1031.47 898.954,1032.83 900.94,1034.18 902.926,1035.53 \n  904.912,1036.86 906.898,1038.2 908.884,1039.53 910.87,1040.85 912.857,1042.16 914.843,1043.47 916.829,1044.78 918.815,1046.08 920.801,1047.37 922.787,1048.66 \n  924.774,1049.94 926.76,1051.22 928.746,1052.49 930.732,1053.76 932.718,1055.02 934.704,1056.27 936.69,1057.52 938.677,1058.77 940.663,1060.01 942.649,1061.24 \n  944.635,1062.47 946.621,1063.7 948.607,1064.92 950.593,1066.13 952.58,1067.34 954.566,1068.54 956.552,1069.74 958.538,1070.93 960.524,1072.12 962.51,1073.31 \n  964.497,1074.49 966.483,1075.66 968.469,1076.83 970.455,1077.99 972.441,1079.15 974.427,1080.31 976.413,1081.46 978.4,1082.6 980.386,1083.74 982.372,1084.88 \n  984.358,1086.01 986.344,1087.14 988.33,1088.26 990.316,1089.37 992.303,1090.49 994.289,1091.6 996.275,1092.7 998.261,1093.8 1000.25,1094.89 1002.23,1095.98 \n  1004.22,1097.07 1006.21,1098.15 1008.19,1099.23 1010.18,1100.3 1012.16,1101.37 1014.15,1102.43 1016.14,1103.49 1018.12,1104.55 1020.11,1105.6 1022.09,1106.65 \n  1024.08,1107.69 1026.07,1108.73 1028.05,1109.76 1030.04,1110.79 1032.03,1111.82 1034.01,1112.84 1036,1113.86 1037.98,1114.88 1039.97,1115.89 1041.96,1116.89 \n  1043.94,1117.89 1045.93,1118.89 1047.91,1119.89 1049.9,1120.88 1051.89,1121.87 1053.87,1122.85 1055.86,1123.83 1057.85,1124.8 1059.83,1125.77 1061.82,1126.74 \n  1063.8,1127.71 1065.79,1128.67 1067.78,1129.62 1069.76,1130.57 1071.75,1131.52 1073.73,1132.47 1075.72,1133.41 1077.71,1134.35 1079.69,1135.28 1081.68,1136.21 \n  1083.67,1137.14 1085.65,1138.06 1087.64,1138.98 1089.62,1139.9 1091.61,1140.81 1093.6,1141.72 1095.58,1142.63 1097.57,1143.53 1099.55,1144.43 1101.54,1145.33 \n  1103.53,1146.22 1105.51,1147.11 1107.5,1148 1109.49,1148.88 1111.47,1149.76 1113.46,1150.63 1115.44,1151.51 1117.43,1152.37 1119.42,1153.24 1121.4,1154.1 \n  1123.39,1154.96 1125.37,1155.82 1127.36,1156.67 1129.35,1157.52 1131.33,1158.37 1133.32,1159.21 1135.31,1160.05 1137.29,1160.89 1139.28,1161.72 1141.26,1162.56 \n  1143.25,1163.38 1145.24,1164.21 1147.22,1165.03 1149.21,1165.85 1151.19,1166.67 1153.18,1167.48 1155.17,1168.29 1157.15,1169.1 1159.14,1169.9 1161.13,1170.7 \n  1163.11,1171.5 1165.1,1172.3 1167.08,1173.09 1169.07,1173.88 1171.06,1174.66 1173.04,1175.45 1175.03,1176.23 1177.01,1177.01 1179,1177.78 1180.99,1178.56 \n  1182.97,1179.33 1184.96,1180.09 1186.95,1180.86 1188.93,1181.62 1190.92,1182.38 1192.9,1183.13 1194.89,1183.89 1196.88,1184.64 1198.86,1185.39 1200.85,1186.13 \n  1202.83,1186.87 1204.82,1187.61 1206.81,1188.35 1208.79,1189.09 1210.78,1189.82 1212.77,1190.55 1214.75,1191.28 1216.74,1192 1218.72,1192.72 1220.71,1193.44 \n  1222.7,1194.16 1224.68,1194.87 1226.67,1195.58 1228.65,1196.29 1230.64,1197 1232.63,1197.71 1234.61,1198.41 1236.6,1199.11 1238.59,1199.8 1240.57,1200.5 \n  1242.56,1201.19 1244.54,1201.88 1246.53,1202.57 1248.52,1203.25 1250.5,1203.94 1252.49,1204.62 1254.47,1205.3 1256.46,1205.97 1258.45,1206.64 1260.43,1207.32 \n  1262.42,1207.99 1264.41,1208.65 1266.39,1209.32 1268.38,1209.98 1270.36,1210.64 1272.35,1211.3 1274.34,1211.95 1276.32,1212.6 1278.31,1213.25 1280.29,1213.9 \n  1282.28,1214.55 1284.27,1215.19 1286.25,1215.84 1288.24,1216.48 1290.23,1217.11 1292.21,1217.75 1294.2,1218.38 1296.18,1219.01 1298.17,1219.64 1300.16,1220.27 \n  1302.14,1220.9 1304.13,1221.52 1306.11,1222.14 1308.1,1222.76 1310.09,1223.38 1312.07,1223.99 1314.06,1224.6 1316.05,1225.21 1318.03,1225.82 1320.02,1226.43 \n  1322,1227.03 1323.99,1227.64 1325.98,1228.24 1327.96,1228.84 1329.95,1229.43 1331.93,1230.03 1333.92,1230.62 1335.91,1231.21 1337.89,1231.8 1339.88,1232.39 \n  1341.87,1232.97 1343.85,1233.55 1345.84,1234.14 1347.82,1234.72 1349.81,1235.29 1351.8,1235.87 1353.78,1236.44 1355.77,1237.01 1357.75,1237.58 1359.74,1238.15 \n  1361.73,1238.72 1363.71,1239.28 1365.7,1239.85 1367.69,1240.41 1369.67,1240.97 1371.66,1241.52 1373.64,1242.08 1375.63,1242.63 1377.62,1243.18 1379.6,1243.74 \n  1381.59,1244.28 1383.57,1244.83 1385.56,1245.38 1387.55,1245.92 1389.53,1246.46 1391.52,1247 1393.5,1247.54 1395.49,1248.07 1397.48,1248.61 1399.46,1249.14 \n  1401.45,1249.67 1403.44,1250.2 1405.42,1250.73 1407.41,1251.26 1409.39,1251.78 1411.38,1252.31 1413.37,1252.83 1415.35,1253.35 1417.34,1253.86 1419.32,1254.38 \n  1421.31,1254.9 1423.3,1255.41 1425.28,1255.92 1427.27,1256.43 1429.26,1256.94 1431.24,1257.45 1433.23,1257.95 1435.21,1258.46 1437.2,1258.96 1439.19,1259.46 \n  1441.17,1259.96 1443.16,1260.46 1445.14,1260.95 1447.13,1261.45 1449.12,1261.94 1451.1,1262.43 1453.09,1262.92 1455.08,1263.41 1457.06,1263.9 1459.05,1264.38 \n  1461.03,1264.87 1463.02,1265.35 1465.01,1265.83 1466.99,1266.31 1468.98,1266.79 1470.96,1267.27 1472.95,1267.74 1474.94,1268.22 1476.92,1268.69 1478.91,1269.16 \n  1480.9,1269.63 1482.88,1270.1 1484.87,1270.56 1486.85,1271.03 1488.84,1271.49 1490.83,1271.96 1492.81,1272.42 1494.8,1272.88 1496.78,1273.34 1498.77,1273.79 \n  1500.76,1274.25 1502.74,1274.7 1504.73,1275.16 1506.72,1275.61 1508.7,1276.06 1510.69,1276.51 1512.67,1276.96 1514.66,1277.4 1516.65,1277.85 1518.63,1278.29 \n  1520.62,1278.73 1522.6,1279.17 1524.59,1279.61 1526.58,1280.05 1528.56,1280.49 1530.55,1280.93 1532.54,1281.36 1534.52,1281.79 1536.51,1282.23 1538.49,1282.66 \n  1540.48,1283.09 1542.47,1283.52 1544.45,1283.94 1546.44,1284.37 1548.42,1284.79 1550.41,1285.22 1552.4,1285.64 1554.38,1286.06 1556.37,1286.48 1558.36,1286.9 \n  1560.34,1287.32 1562.33,1287.73 1564.31,1288.15 1566.3,1288.56 1568.29,1288.97 1570.27,1289.39 1572.26,1289.8 1574.24,1290.2 1576.23,1290.61 1578.22,1291.02 \n  1580.2,1291.42 1582.19,1291.83 1584.18,1292.23 1586.16,1292.63 1588.15,1293.04 1590.13,1293.44 1592.12,1293.83 1594.11,1294.23 1596.09,1294.63 1598.08,1295.02 \n  1600.06,1295.42 1602.05,1295.81 1604.04,1296.2 1606.02,1296.59 1608.01,1296.98 1610,1297.37 1611.98,1297.76 1613.97,1298.15 1615.95,1298.53 1617.94,1298.92 \n  1619.93,1299.3 1621.91,1299.68 1623.9,1300.06 1625.88,1300.44 1627.87,1300.82 1629.86,1301.2 1631.84,1301.58 1633.83,1301.95 1635.82,1302.33 1637.8,1302.7 \n  1639.79,1303.07 1641.77,1303.45 1643.76,1303.82 1645.75,1304.19 1647.73,1304.56 1649.72,1304.92 1651.7,1305.29 1653.69,1305.66 1655.68,1306.02 1657.66,1306.38 \n  1659.65,1306.75 1661.64,1307.11 1663.62,1307.47 1665.61,1307.83 1667.59,1308.19 1669.58,1308.54 1671.57,1308.9 1673.55,1309.26 1675.54,1309.61 1677.52,1309.97 \n  1679.51,1310.32 1681.5,1310.67 1683.48,1311.02 1685.47,1311.37 1687.46,1311.72 1689.44,1312.07 1691.43,1312.42 1693.41,1312.76 1695.4,1313.11 1697.39,1313.45 \n  1699.37,1313.8 1701.36,1314.14 1703.34,1314.48 1705.33,1314.82 1707.32,1315.16 1709.3,1315.5 1711.29,1315.84 1713.28,1316.17 1715.26,1316.51 1717.25,1316.85 \n  1719.23,1317.18 1721.22,1317.51 1723.21,1317.85 1725.19,1318.18 1727.18,1318.51 1729.16,1318.84 1731.15,1319.17 1733.14,1319.5 1735.12,1319.82 1737.11,1320.15 \n  1739.1,1320.48 1741.08,1320.8 1743.07,1321.13 1745.05,1321.45 1747.04,1321.77 1749.03,1322.09 1751.01,1322.41 1753,1322.73 1754.98,1323.05 1756.97,1323.37 \n  1758.96,1323.69 1760.94,1324 1762.93,1324.32 1764.92,1324.63 1766.9,1324.95 1768.89,1325.26 1770.87,1325.57 1772.86,1325.88 1774.85,1326.2 1776.83,1326.51 \n  1778.82,1326.81 1780.8,1327.12 1782.79,1327.43 1784.78,1327.74 1786.76,1328.04 1788.75,1328.35 1790.73,1328.65 1792.72,1328.96 1794.71,1329.26 1796.69,1329.56 \n  1798.68,1329.86 1800.67,1330.16 1802.65,1330.46 1804.64,1330.76 1806.62,1331.06 1808.61,1331.36 1810.6,1331.65 1812.58,1331.95 1814.57,1332.25 1816.55,1332.54 \n  1818.54,1332.83 1820.53,1333.13 1822.51,1333.42 1824.5,1333.71 1826.49,1334 1828.47,1334.29 1830.46,1334.58 1832.44,1334.87 1834.43,1335.16 1836.42,1335.45 \n  1838.4,1335.73 1840.39,1336.02 1842.37,1336.3 1844.36,1336.59 1846.35,1336.87 1848.33,1337.15 1850.32,1337.44 1852.31,1337.72 1854.29,1338 1856.28,1338.28 \n  1858.26,1338.56 1860.25,1338.84 1862.24,1339.11 1864.22,1339.39 1866.21,1339.67 1868.19,1339.94 1870.18,1340.22 1872.17,1340.49 1874.15,1340.77 1876.14,1341.04 \n  1878.13,1341.31 1880.11,1341.58 1882.1,1341.86 1884.08,1342.13 1886.07,1342.4 1888.06,1342.67 1890.04,1342.93 1892.03,1343.2 1894.01,1343.47 1896,1343.74 \n  1897.99,1344 1899.97,1344.27 1901.96,1344.53 1903.95,1344.8 1905.93,1345.06 1907.92,1345.32 1909.9,1345.58 1911.89,1345.85 1913.88,1346.11 1915.86,1346.37 \n  1917.85,1346.63 1919.83,1346.89 1921.82,1347.14 1923.81,1347.4 1925.79,1347.66 1927.78,1347.91 1929.77,1348.17 1931.75,1348.43 1933.74,1348.68 1935.72,1348.93 \n  1937.71,1349.19 1939.7,1349.44 1941.68,1349.69 1943.67,1349.94 1945.65,1350.2 1947.64,1350.45 1949.63,1350.7 1951.61,1350.94 1953.6,1351.19 1955.59,1351.44 \n  1957.57,1351.69 1959.56,1351.94 1961.54,1352.18 1963.53,1352.43 1965.52,1352.67 1967.5,1352.92 1969.49,1353.16 1971.47,1353.4 1973.46,1353.65 1975.45,1353.89 \n  1977.43,1354.13 1979.42,1354.37 1981.41,1354.61 1983.39,1354.85 1985.38,1355.09 1987.36,1355.33 1989.35,1355.57 1991.34,1355.81 1993.32,1356.04 1995.31,1356.28 \n  1997.29,1356.52 1999.28,1356.75 2001.27,1356.99 2003.25,1357.22 2005.24,1357.46 2007.23,1357.69 2009.21,1357.92 2011.2,1358.15 2013.18,1358.39 2015.17,1358.62 \n  2017.16,1358.85 2019.14,1359.08 2021.13,1359.31 2023.11,1359.54 2025.1,1359.77 2027.09,1359.99 2029.07,1360.22 2031.06,1360.45 2033.05,1360.67 2035.03,1360.9 \n  2037.02,1361.13 2039,1361.35 2040.99,1361.57 2042.98,1361.8 2044.96,1362.02 2046.95,1362.24 2048.93,1362.47 2050.92,1362.69 2052.91,1362.91 2054.89,1363.13 \n  2056.88,1363.35 2058.87,1363.57 2060.85,1363.79 2062.84,1364.01 2064.82,1364.23 2066.81,1364.45 2068.8,1364.66 2070.78,1364.88 2072.77,1365.1 2074.75,1365.31 \n  2076.74,1365.53 2078.73,1365.74 2080.71,1365.96 2082.7,1366.17 2084.69,1366.38 2086.67,1366.6 2088.66,1366.81 2090.64,1367.02 2092.63,1367.23 2094.62,1367.44 \n  2096.6,1367.65 2098.59,1367.87 2100.57,1368.07 2102.56,1368.28 2104.55,1368.49 2106.53,1368.7 2108.52,1368.91 2110.51,1369.12 2112.49,1369.32 2114.48,1369.53 \n  2116.46,1369.74 2118.45,1369.94 2120.44,1370.15 2122.42,1370.35 2124.41,1370.55 2126.39,1370.76 2128.38,1370.96 2130.37,1371.16 2132.35,1371.37 2134.34,1371.57 \n  2136.33,1371.77 2138.31,1371.97 2140.3,1372.17 2142.28,1372.37 2144.27,1372.57 2146.26,1372.77 2148.24,1372.97 2150.23,1373.17 2152.21,1373.37 2154.2,1373.56 \n  2156.19,1373.76 2158.17,1373.96 2160.16,1374.15 2162.15,1374.35 2164.13,1374.55 2166.12,1374.74 2168.1,1374.94 2170.09,1375.13 2172.08,1375.32 2174.06,1375.52 \n  2176.05,1375.71 2178.03,1375.9 2180.02,1376.09 2182.01,1376.29 2183.99,1376.48 2185.98,1376.67 2187.97,1376.86 2189.95,1377.05 2191.94,1377.24 2193.92,1377.43 \n  2195.91,1377.62 2197.9,1377.8 2199.88,1377.99 2201.87,1378.18 2203.85,1378.37 2205.84,1378.55 2207.83,1378.74 2209.81,1378.93 2211.8,1379.11 2213.78,1379.3 \n  2215.77,1379.48 2217.76,1379.67 2219.74,1379.85 2221.73,1380.03 2223.72,1380.22 2225.7,1380.4 2227.69,1380.58 2229.67,1380.77 2231.66,1380.95 2233.65,1381.13 \n  2235.63,1381.31 2237.62,1381.49 2239.6,1381.67 2241.59,1381.85 2243.58,1382.03 2245.56,1382.21 2247.55,1382.39 2249.54,1382.57 2251.52,1382.74 2253.51,1382.92 \n  2255.49,1383.1 2257.48,1383.27 2259.47,1383.45 2261.45,1383.63 2263.44,1383.8 2265.42,1383.98 2267.41,1384.15 2269.4,1384.33 2271.38,1384.5 2273.37,1384.68 \n  2275.36,1384.85 2277.34,1385.02 2279.33,1385.2 2281.31,1385.37 2283.3,1385.54 2285.29,1385.71 2287.27,1385.88 2289.26,1386.05 2291.24,1386.23 2293.23,1386.4 \n  \n  \"/>\n<polyline clip-path=\"url(#clip192)\" style=\"stroke:#ff0000; stroke-linecap:butt; stroke-linejoin:round; stroke-width:8; stroke-opacity:1; fill:none\" points=\"\n  309.067,160.256 311.053,164.842 313.039,169.399 315.025,173.928 317.012,178.429 318.998,182.904 320.984,187.354 322.97,191.78 324.956,196.182 326.942,200.562 \n  328.928,204.921 330.915,209.258 332.901,213.575 334.887,217.872 336.873,222.15 338.859,226.409 340.845,230.651 342.832,234.875 344.818,239.081 346.804,243.272 \n  348.79,247.446 350.776,251.604 352.762,255.747 354.748,259.874 356.735,263.987 358.721,268.086 360.707,272.17 362.693,276.241 364.679,280.297 366.665,284.341 \n  368.651,288.371 370.638,292.388 372.624,296.392 374.61,300.384 376.596,304.363 378.582,308.329 380.568,312.284 382.555,316.227 384.541,320.157 386.527,324.076 \n  388.513,327.983 390.499,331.879 392.485,335.763 394.471,339.635 396.458,343.497 398.444,347.346 400.43,351.185 402.416,355.013 404.402,358.829 406.388,362.635 \n  408.374,366.429 410.361,370.212 412.347,373.985 414.333,377.747 416.319,381.497 418.305,385.237 420.291,388.966 422.278,392.684 424.264,396.392 426.25,400.089 \n  428.236,403.774 430.222,407.45 432.208,411.114 434.194,414.768 436.181,418.411 438.167,422.043 440.153,425.664 442.139,429.275 444.125,432.875 446.111,436.464 \n  448.097,440.043 450.084,443.61 452.07,447.167 454.056,450.714 456.042,454.249 458.028,457.774 460.014,461.287 462.001,464.791 463.987,468.283 465.973,471.764 \n  467.959,475.235 469.945,478.695 471.931,482.144 473.917,485.582 475.904,489.009 477.89,492.425 479.876,495.831 481.862,499.226 483.848,502.609 485.834,505.982 \n  487.82,509.344 489.807,512.695 491.793,516.035 493.779,519.364 495.765,522.682 497.751,525.989 499.737,529.286 501.724,532.571 503.71,535.845 505.696,539.108 \n  507.682,542.361 509.668,545.602 511.654,548.833 513.64,552.052 515.627,555.26 517.613,558.458 519.599,561.644 521.585,564.819 523.571,567.984 525.557,571.137 \n  527.543,574.279 529.53,577.411 531.516,580.531 533.502,583.64 535.488,586.738 537.474,589.826 539.46,592.902 541.447,595.967 543.433,599.022 545.419,602.065 \n  547.405,605.098 549.391,608.119 551.377,611.129 553.363,614.129 555.35,617.118 557.336,620.095 559.322,623.062 561.308,626.018 563.294,628.963 565.28,631.897 \n  567.266,634.82 569.253,637.732 571.239,640.633 573.225,643.524 575.211,646.404 577.197,649.272 579.183,652.131 581.17,654.978 583.156,657.814 585.142,660.64 \n  587.128,663.455 589.114,666.259 591.1,669.053 593.086,671.836 595.073,674.608 597.059,677.37 599.045,680.121 601.031,682.861 603.017,685.591 605.003,688.31 \n  606.989,691.019 608.976,693.717 610.962,696.404 612.948,699.082 614.934,701.748 616.92,704.404 618.906,707.05 620.893,709.686 622.879,712.311 624.865,714.925 \n  626.851,717.53 628.837,720.124 630.823,722.708 632.809,725.281 634.796,727.845 636.782,730.398 638.768,732.941 640.754,735.474 642.74,737.996 644.726,740.509 \n  646.712,743.012 648.699,745.504 650.685,747.987 652.671,750.46 654.657,752.922 656.643,755.375 658.629,757.818 660.616,760.251 662.602,762.674 664.588,765.087 \n  666.574,767.491 668.56,769.885 670.546,772.269 672.532,774.644 674.519,777.008 676.505,779.364 678.491,781.709 680.477,784.045 682.463,786.372 684.449,788.689 \n  686.435,790.997 688.422,793.295 690.408,795.584 692.394,797.863 694.38,800.133 696.366,802.394 698.352,804.646 700.339,806.888 702.325,809.121 704.311,811.345 \n  706.297,813.56 708.283,815.765 710.269,817.962 712.255,820.15 714.242,822.328 716.228,824.498 718.214,826.658 720.2,828.81 722.186,830.953 724.172,833.087 \n  726.158,835.212 728.145,837.329 730.131,839.437 732.117,841.536 734.103,843.626 736.089,845.708 738.075,847.781 740.062,849.845 742.048,851.901 744.034,853.949 \n  746.02,855.988 748.006,858.018 749.992,860.04 751.978,862.054 753.965,864.06 755.951,866.057 757.937,868.046 759.923,870.026 761.909,871.999 763.895,873.963 \n  765.881,875.919 767.868,877.867 769.854,879.807 771.84,881.739 773.826,883.663 775.812,885.579 777.798,887.487 779.785,889.387 781.771,891.279 783.757,893.164 \n  785.743,895.04 787.729,896.909 789.715,898.77 791.701,900.623 793.688,902.469 795.674,904.307 797.66,906.138 799.646,907.961 801.632,909.776 803.618,911.584 \n  805.604,913.384 807.591,915.177 809.577,916.963 811.563,918.741 813.549,920.511 815.535,922.275 817.521,924.031 819.508,925.78 821.494,927.522 823.48,929.256 \n  825.466,930.984 827.452,932.704 829.438,934.417 831.424,936.123 833.411,937.822 835.397,939.514 837.383,941.2 839.369,942.878 841.355,944.549 843.341,946.213 \n  845.328,947.871 847.314,949.522 849.3,951.166 851.286,952.803 853.272,954.434 855.258,956.057 857.244,957.675 859.231,959.285 861.217,960.889 863.203,962.487 \n  865.189,964.077 867.175,965.662 869.161,967.24 871.147,968.811 873.134,970.376 875.12,971.935 877.106,973.487 879.092,975.033 881.078,976.573 883.064,978.106 \n  885.051,979.633 887.037,981.154 889.023,982.669 891.009,984.177 892.995,985.68 894.981,987.176 896.967,988.666 898.954,990.151 900.94,991.629 902.926,993.101 \n  904.912,994.567 906.898,996.028 908.884,997.482 910.87,998.931 912.857,1000.37 914.843,1001.81 916.829,1003.24 918.815,1004.67 920.801,1006.09 922.787,1007.5 \n  924.774,1008.91 926.76,1010.31 928.746,1011.71 930.732,1013.1 932.718,1014.49 934.704,1015.87 936.69,1017.24 938.677,1018.61 940.663,1019.97 942.649,1021.33 \n  944.635,1022.68 946.621,1024.03 948.607,1025.37 950.593,1026.71 952.58,1028.04 954.566,1029.37 956.552,1030.69 958.538,1032 960.524,1033.31 962.51,1034.62 \n  964.497,1035.92 966.483,1037.21 968.469,1038.5 970.455,1039.79 972.441,1041.07 974.427,1042.34 976.413,1043.61 978.4,1044.88 980.386,1046.14 982.372,1047.39 \n  984.358,1048.64 986.344,1049.89 988.33,1051.13 990.316,1052.36 992.303,1053.59 994.289,1054.82 996.275,1056.04 998.261,1057.25 1000.25,1058.46 1002.23,1059.67 \n  1004.22,1060.87 1006.21,1062.07 1008.19,1063.26 1010.18,1064.45 1012.16,1065.63 1014.15,1066.81 1016.14,1067.98 1018.12,1069.15 1020.11,1070.32 1022.09,1071.48 \n  1024.08,1072.63 1026.07,1073.78 1028.05,1074.93 1030.04,1076.07 1032.03,1077.21 1034.01,1078.34 1036,1079.47 1037.98,1080.6 1039.97,1081.72 1041.96,1082.83 \n  1043.94,1083.95 1045.93,1085.05 1047.91,1086.16 1049.9,1087.26 1051.89,1088.35 1053.87,1089.44 1055.86,1090.53 1057.85,1091.61 1059.83,1092.69 1061.82,1093.77 \n  1063.8,1094.84 1065.79,1095.9 1067.78,1096.96 1069.76,1098.02 1071.75,1099.08 1073.73,1100.13 1075.72,1101.17 1077.71,1102.22 1079.69,1103.25 1081.68,1104.29 \n  1083.67,1105.32 1085.65,1106.35 1087.64,1107.37 1089.62,1108.39 1091.61,1109.4 1093.6,1110.41 1095.58,1111.42 1097.57,1112.43 1099.55,1113.43 1101.54,1114.42 \n  1103.53,1115.41 1105.51,1116.4 1107.5,1117.39 1109.49,1118.37 1111.47,1119.35 1113.46,1120.32 1115.44,1121.29 1117.43,1122.26 1119.42,1123.22 1121.4,1124.18 \n  1123.39,1125.14 1125.37,1126.09 1127.36,1127.04 1129.35,1127.99 1131.33,1128.93 1133.32,1129.87 1135.31,1130.81 1137.29,1131.74 1139.28,1132.67 1141.26,1133.59 \n  1143.25,1134.51 1145.24,1135.43 1147.22,1136.35 1149.21,1137.26 1151.19,1138.17 1153.18,1139.07 1155.17,1139.97 1157.15,1140.87 1159.14,1141.77 1161.13,1142.66 \n  1163.11,1143.55 1165.1,1144.43 1167.08,1145.32 1169.07,1146.2 1171.06,1147.07 1173.04,1147.95 1175.03,1148.82 1177.01,1149.68 1179,1150.55 1180.99,1151.41 \n  1182.97,1152.26 1184.96,1153.12 1186.95,1153.97 1188.93,1154.82 1190.92,1155.66 1192.9,1156.51 1194.89,1157.34 1196.88,1158.18 1198.86,1159.01 1200.85,1159.84 \n  1202.83,1160.67 1204.82,1161.5 1206.81,1162.32 1208.79,1163.14 1210.78,1163.95 1212.77,1164.76 1214.75,1165.57 1216.74,1166.38 1218.72,1167.19 1220.71,1167.99 \n  1222.7,1168.79 1224.68,1169.58 1226.67,1170.37 1228.65,1171.16 1230.64,1171.95 1232.63,1172.74 1234.61,1173.52 1236.6,1174.3 1238.59,1175.07 1240.57,1175.85 \n  1242.56,1176.62 1244.54,1177.39 1246.53,1178.15 1248.52,1178.92 1250.5,1179.68 1252.49,1180.44 1254.47,1181.19 1256.46,1181.94 1258.45,1182.69 1260.43,1183.44 \n  1262.42,1184.19 1264.41,1184.93 1266.39,1185.67 1268.38,1186.41 1270.36,1187.14 1272.35,1187.87 1274.34,1188.6 1276.32,1189.33 1278.31,1190.05 1280.29,1190.78 \n  1282.28,1191.5 1284.27,1192.21 1286.25,1192.93 1288.24,1193.64 1290.23,1194.35 1292.21,1195.06 1294.2,1195.76 1296.18,1196.47 1298.17,1197.17 1300.16,1197.87 \n  1302.14,1198.56 1304.13,1199.25 1306.11,1199.95 1308.1,1200.63 1310.09,1201.32 1312.07,1202.01 1314.06,1202.69 1316.05,1203.37 1318.03,1204.04 1320.02,1204.72 \n  1322,1205.39 1323.99,1206.06 1325.98,1206.73 1327.96,1207.4 1329.95,1208.06 1331.93,1208.72 1333.92,1209.38 1335.91,1210.04 1337.89,1210.7 1339.88,1211.35 \n  1341.87,1212 1343.85,1212.65 1345.84,1213.29 1347.82,1213.94 1349.81,1214.58 1351.8,1215.22 1353.78,1215.86 1355.77,1216.5 1357.75,1217.13 1359.74,1217.76 \n  1361.73,1218.39 1363.71,1219.02 1365.7,1219.64 1367.69,1220.27 1369.67,1220.89 1371.66,1221.51 1373.64,1222.13 1375.63,1222.74 1377.62,1223.36 1379.6,1223.97 \n  1381.59,1224.58 1383.57,1225.18 1385.56,1225.79 1387.55,1226.39 1389.53,1227 1391.52,1227.6 1393.5,1228.19 1395.49,1228.79 1397.48,1229.38 1399.46,1229.98 \n  1401.45,1230.57 1403.44,1231.15 1405.42,1231.74 1407.41,1232.33 1409.39,1232.91 1411.38,1233.49 1413.37,1234.07 1415.35,1234.65 1417.34,1235.22 1419.32,1235.79 \n  1421.31,1236.37 1423.3,1236.94 1425.28,1237.5 1427.27,1238.07 1429.26,1238.64 1431.24,1239.2 1433.23,1239.76 1435.21,1240.32 1437.2,1240.88 1439.19,1241.43 \n  1441.17,1241.99 1443.16,1242.54 1445.14,1243.09 1447.13,1243.64 1449.12,1244.18 1451.1,1244.73 1453.09,1245.27 1455.08,1245.82 1457.06,1246.36 1459.05,1246.89 \n  1461.03,1247.43 1463.02,1247.97 1465.01,1248.5 1466.99,1249.03 1468.98,1249.56 1470.96,1250.09 1472.95,1250.62 1474.94,1251.14 1476.92,1251.67 1478.91,1252.19 \n  1480.9,1252.71 1482.88,1253.23 1484.87,1253.75 1486.85,1254.26 1488.84,1254.78 1490.83,1255.29 1492.81,1255.8 1494.8,1256.31 1496.78,1256.82 1498.77,1257.32 \n  1500.76,1257.83 1502.74,1258.33 1504.73,1258.84 1506.72,1259.34 1508.7,1259.83 1510.69,1260.33 1512.67,1260.83 1514.66,1261.32 1516.65,1261.81 1518.63,1262.31 \n  1520.62,1262.8 1522.6,1263.28 1524.59,1263.77 1526.58,1264.26 1528.56,1264.74 1530.55,1265.22 1532.54,1265.7 1534.52,1266.18 1536.51,1266.66 1538.49,1267.14 \n  1540.48,1267.61 1542.47,1268.09 1544.45,1268.56 1546.44,1269.03 1548.42,1269.5 1550.41,1269.97 1552.4,1270.44 1554.38,1270.9 1556.37,1271.37 1558.36,1271.83 \n  1560.34,1272.29 1562.33,1272.75 1564.31,1273.21 1566.3,1273.67 1568.29,1274.12 1570.27,1274.58 1572.26,1275.03 1574.24,1275.48 1576.23,1275.93 1578.22,1276.38 \n  1580.2,1276.83 1582.19,1277.28 1584.18,1277.72 1586.16,1278.17 1588.15,1278.61 1590.13,1279.05 1592.12,1279.49 1594.11,1279.93 1596.09,1280.37 1598.08,1280.81 \n  1600.06,1281.24 1602.05,1281.68 1604.04,1282.11 1606.02,1282.54 1608.01,1282.97 1610,1283.4 1611.98,1283.83 1613.97,1284.25 1615.95,1284.68 1617.94,1285.1 \n  1619.93,1285.53 1621.91,1285.95 1623.9,1286.37 1625.88,1286.79 1627.87,1287.2 1629.86,1287.62 1631.84,1288.04 1633.83,1288.45 1635.82,1288.87 1637.8,1289.28 \n  1639.79,1289.69 1641.77,1290.1 1643.76,1290.51 1645.75,1290.91 1647.73,1291.32 1649.72,1291.73 1651.7,1292.13 1653.69,1292.53 1655.68,1292.93 1657.66,1293.34 \n  1659.65,1293.73 1661.64,1294.13 1663.62,1294.53 1665.61,1294.93 1667.59,1295.32 1669.58,1295.72 1671.57,1296.11 1673.55,1296.5 1675.54,1296.89 1677.52,1297.28 \n  1679.51,1297.67 1681.5,1298.06 1683.48,1298.44 1685.47,1298.83 1687.46,1299.21 1689.44,1299.6 1691.43,1299.98 1693.41,1300.36 1695.4,1300.74 1697.39,1301.12 \n  1699.37,1301.5 1701.36,1301.87 1703.34,1302.25 1705.33,1302.62 1707.32,1303 1709.3,1303.37 1711.29,1303.74 1713.28,1304.11 1715.26,1304.48 1717.25,1304.85 \n  1719.23,1305.22 1721.22,1305.58 1723.21,1305.95 1725.19,1306.31 1727.18,1306.68 1729.16,1307.04 1731.15,1307.4 1733.14,1307.76 1735.12,1308.12 1737.11,1308.48 \n  1739.1,1308.84 1741.08,1309.2 1743.07,1309.55 1745.05,1309.91 1747.04,1310.26 1749.03,1310.61 1751.01,1310.97 1753,1311.32 1754.98,1311.67 1756.97,1312.02 \n  1758.96,1312.36 1760.94,1312.71 1762.93,1313.06 1764.92,1313.4 1766.9,1313.75 1768.89,1314.09 1770.87,1314.44 1772.86,1314.78 1774.85,1315.12 1776.83,1315.46 \n  1778.82,1315.8 1780.8,1316.14 1782.79,1316.47 1784.78,1316.81 1786.76,1317.14 1788.75,1317.48 1790.73,1317.81 1792.72,1318.15 1794.71,1318.48 1796.69,1318.81 \n  1798.68,1319.14 1800.67,1319.47 1802.65,1319.8 1804.64,1320.12 1806.62,1320.45 1808.61,1320.78 1810.6,1321.1 1812.58,1321.43 1814.57,1321.75 1816.55,1322.07 \n  1818.54,1322.39 1820.53,1322.72 1822.51,1323.04 1824.5,1323.36 1826.49,1323.67 1828.47,1323.99 1830.46,1324.31 1832.44,1324.62 1834.43,1324.94 1836.42,1325.25 \n  1838.4,1325.57 1840.39,1325.88 1842.37,1326.19 1844.36,1326.5 1846.35,1326.81 1848.33,1327.12 1850.32,1327.43 1852.31,1327.74 1854.29,1328.05 1856.28,1328.35 \n  1858.26,1328.66 1860.25,1328.96 1862.24,1329.27 1864.22,1329.57 1866.21,1329.87 1868.19,1330.17 1870.18,1330.47 1872.17,1330.77 1874.15,1331.07 1876.14,1331.37 \n  1878.13,1331.67 1880.11,1331.97 1882.1,1332.26 1884.08,1332.56 1886.07,1332.85 1888.06,1333.15 1890.04,1333.44 1892.03,1333.73 1894.01,1334.03 1896,1334.32 \n  1897.99,1334.61 1899.97,1334.9 1901.96,1335.19 1903.95,1335.48 1905.93,1335.76 1907.92,1336.05 1909.9,1336.34 1911.89,1336.62 1913.88,1336.91 1915.86,1337.19 \n  1917.85,1337.47 1919.83,1337.76 1921.82,1338.04 1923.81,1338.32 1925.79,1338.6 1927.78,1338.88 1929.77,1339.16 1931.75,1339.44 1933.74,1339.71 1935.72,1339.99 \n  1937.71,1340.27 1939.7,1340.54 1941.68,1340.82 1943.67,1341.09 1945.65,1341.37 1947.64,1341.64 1949.63,1341.91 1951.61,1342.18 1953.6,1342.45 1955.59,1342.72 \n  1957.57,1342.99 1959.56,1343.26 1961.54,1343.53 1963.53,1343.8 1965.52,1344.07 1967.5,1344.33 1969.49,1344.6 1971.47,1344.86 1973.46,1345.13 1975.45,1345.39 \n  1977.43,1345.65 1979.42,1345.92 1981.41,1346.18 1983.39,1346.44 1985.38,1346.7 1987.36,1346.96 1989.35,1347.22 1991.34,1347.48 1993.32,1347.74 1995.31,1347.99 \n  1997.29,1348.25 1999.28,1348.51 2001.27,1348.76 2003.25,1349.02 2005.24,1349.27 2007.23,1349.53 2009.21,1349.78 2011.2,1350.03 2013.18,1350.28 2015.17,1350.54 \n  2017.16,1350.79 2019.14,1351.04 2021.13,1351.29 2023.11,1351.54 2025.1,1351.78 2027.09,1352.03 2029.07,1352.28 2031.06,1352.53 2033.05,1352.77 2035.03,1353.02 \n  2037.02,1353.26 2039,1353.51 2040.99,1353.75 2042.98,1353.99 2044.96,1354.24 2046.95,1354.48 2048.93,1354.72 2050.92,1354.96 2052.91,1355.2 2054.89,1355.44 \n  2056.88,1355.68 2058.87,1355.92 2060.85,1356.16 2062.84,1356.39 2064.82,1356.63 2066.81,1356.87 2068.8,1357.1 2070.78,1357.34 2072.77,1357.57 2074.75,1357.81 \n  2076.74,1358.04 2078.73,1358.28 2080.71,1358.51 2082.7,1358.74 2084.69,1358.97 2086.67,1359.2 2088.66,1359.43 2090.64,1359.66 2092.63,1359.89 2094.62,1360.12 \n  2096.6,1360.35 2098.59,1360.58 2100.57,1360.81 2102.56,1361.03 2104.55,1361.26 2106.53,1361.48 2108.52,1361.71 2110.51,1361.93 2112.49,1362.16 2114.48,1362.38 \n  2116.46,1362.61 2118.45,1362.83 2120.44,1363.05 2122.42,1363.27 2124.41,1363.49 2126.39,1363.71 2128.38,1363.93 2130.37,1364.15 2132.35,1364.37 2134.34,1364.59 \n  2136.33,1364.81 2138.31,1365.03 2140.3,1365.25 2142.28,1365.46 2144.27,1365.68 2146.26,1365.89 2148.24,1366.11 2150.23,1366.32 2152.21,1366.54 2154.2,1366.75 \n  2156.19,1366.97 2158.17,1367.18 2160.16,1367.39 2162.15,1367.6 2164.13,1367.81 2166.12,1368.03 2168.1,1368.24 2170.09,1368.45 2172.08,1368.66 2174.06,1368.86 \n  2176.05,1369.07 2178.03,1369.28 2180.02,1369.49 2182.01,1369.7 2183.99,1369.9 2185.98,1370.11 2187.97,1370.32 2189.95,1370.52 2191.94,1370.73 2193.92,1370.93 \n  2195.91,1371.13 2197.9,1371.34 2199.88,1371.54 2201.87,1371.74 2203.85,1371.95 2205.84,1372.15 2207.83,1372.35 2209.81,1372.55 2211.8,1372.75 2213.78,1372.95 \n  2215.77,1373.15 2217.76,1373.35 2219.74,1373.55 2221.73,1373.75 2223.72,1373.94 2225.7,1374.14 2227.69,1374.34 2229.67,1374.54 2231.66,1374.73 2233.65,1374.93 \n  2235.63,1375.12 2237.62,1375.32 2239.6,1375.51 2241.59,1375.71 2243.58,1375.9 2245.56,1376.09 2247.55,1376.29 2249.54,1376.48 2251.52,1376.67 2253.51,1376.86 \n  2255.49,1377.05 2257.48,1377.24 2259.47,1377.43 2261.45,1377.62 2263.44,1377.81 2265.42,1378 2267.41,1378.19 2269.4,1378.38 2271.38,1378.57 2273.37,1378.76 \n  2275.36,1378.94 2277.34,1379.13 2279.33,1379.32 2281.31,1379.5 2283.3,1379.69 2285.29,1379.87 2287.27,1380.06 2289.26,1380.24 2291.24,1380.42 2293.23,1380.61 \n  \n  \"/>\n<path clip-path=\"url(#clip190)\" d=\"\nM1953.91 322.316 L2282.65 322.316 L2282.65 166.796 L1953.91 166.796  Z\n  \" fill=\"#ffffff\" fill-rule=\"evenodd\" fill-opacity=\"1\"/>\n<polyline clip-path=\"url(#clip190)\" style=\"stroke:#000000; stroke-linecap:butt; stroke-linejoin:round; stroke-width:4; stroke-opacity:1; fill:none\" points=\"\n  1953.91,322.316 2282.65,322.316 2282.65,166.796 1953.91,166.796 1953.91,322.316 \n  \"/>\n<polyline clip-path=\"url(#clip190)\" style=\"stroke:#0000ff; stroke-linecap:butt; stroke-linejoin:round; stroke-width:4; stroke-opacity:1; fill:none\" points=\"\n  1977.28,218.636 2117.5,218.636 \n  \"/>\n<path clip-path=\"url(#clip190)\" d=\"M2140.86 201.356 L2160.73 201.356 L2160.73 205.291 L2145.54 205.291 L2145.54 215.476 L2159.24 215.476 L2159.24 219.411 L2145.54 219.411 L2145.54 235.916 L2140.86 235.916 L2140.86 201.356 Z\" fill=\"#000000\" fill-rule=\"evenodd\" fill-opacity=\"1\" /><path clip-path=\"url(#clip190)\" d=\"M2178.18 199.944 Q2175.08 205.268 2173.57 210.476 Q2172.07 215.684 2172.07 221.032 Q2172.07 226.379 2173.57 231.633 Q2175.1 236.865 2178.18 242.166 L2174.48 242.166 Q2171 236.726 2169.27 231.471 Q2167.55 226.217 2167.55 221.032 Q2167.55 215.87 2169.27 210.638 Q2170.98 205.407 2174.48 199.944 L2178.18 199.944 Z\" fill=\"#000000\" fill-rule=\"evenodd\" fill-opacity=\"1\" /><path clip-path=\"url(#clip190)\" d=\"M2196.65 203.948 L2208.62 235.916 L2204.11 235.916 L2196.84 216.749 L2187.9 235.916 L2183.39 235.916 L2194.75 211.055 L2193.04 206.471 Q2191.95 203.555 2189.48 203.555 L2187.25 203.555 L2187.25 199.897 L2189.96 199.944 Q2195.19 200.013 2196.65 203.948 Z\" fill=\"#000000\" fill-rule=\"evenodd\" fill-opacity=\"1\" /><path clip-path=\"url(#clip190)\" d=\"M2213.83 199.944 L2217.53 199.944 Q2221 205.407 2222.72 210.638 Q2224.45 215.87 2224.45 221.032 Q2224.45 226.217 2222.72 231.471 Q2221 236.726 2217.53 242.166 L2213.83 242.166 Q2216.91 236.865 2218.41 231.633 Q2219.94 226.379 2219.94 221.032 Q2219.94 215.684 2218.41 210.476 Q2216.91 205.268 2213.83 199.944 Z\" fill=\"#000000\" fill-rule=\"evenodd\" fill-opacity=\"1\" /><polyline clip-path=\"url(#clip190)\" style=\"stroke:#ff0000; stroke-linecap:butt; stroke-linejoin:round; stroke-width:4; stroke-opacity:1; fill:none\" points=\"\n  1977.28,270.476 2117.5,270.476 \n  \"/>\n<path clip-path=\"url(#clip190)\" d=\"M2166.42 282.825 L2166.42 273.543 L2158.78 273.543 L2158.78 269.7 L2171.05 269.7 L2171.05 284.538 Q2168.34 286.459 2165.08 287.455 Q2161.81 288.427 2158.11 288.427 Q2150.01 288.427 2145.43 283.705 Q2140.86 278.959 2140.86 270.51 Q2140.86 262.038 2145.43 257.316 Q2150.01 252.571 2158.11 252.571 Q2161.49 252.571 2164.52 253.404 Q2167.58 254.237 2170.15 255.858 L2170.15 260.835 Q2167.55 258.636 2164.64 257.524 Q2161.72 256.413 2158.5 256.413 Q2152.16 256.413 2148.97 259.955 Q2145.8 263.497 2145.8 270.51 Q2145.8 277.501 2148.97 281.043 Q2152.16 284.584 2158.5 284.584 Q2160.98 284.584 2162.92 284.168 Q2164.87 283.728 2166.42 282.825 Z\" fill=\"#000000\" fill-rule=\"evenodd\" fill-opacity=\"1\" /><path clip-path=\"url(#clip190)\" d=\"M2189.64 251.784 Q2186.54 257.108 2185.03 262.316 Q2183.53 267.524 2183.53 272.872 Q2183.53 278.219 2185.03 283.473 Q2186.56 288.705 2189.64 294.006 L2185.93 294.006 Q2182.46 288.566 2180.73 283.311 Q2179.01 278.057 2179.01 272.872 Q2179.01 267.71 2180.73 262.478 Q2182.44 257.247 2185.93 251.784 L2189.64 251.784 Z\" fill=\"#000000\" fill-rule=\"evenodd\" fill-opacity=\"1\" /><path clip-path=\"url(#clip190)\" d=\"M2208.11 255.788 L2220.08 287.756 L2215.56 287.756 L2208.3 268.589 L2199.36 287.756 L2194.85 287.756 L2206.21 262.895 L2204.5 258.311 Q2203.41 255.395 2200.93 255.395 L2198.71 255.395 L2198.71 251.737 L2201.42 251.784 Q2206.65 251.853 2208.11 255.788 Z\" fill=\"#000000\" fill-rule=\"evenodd\" fill-opacity=\"1\" /><path clip-path=\"url(#clip190)\" d=\"M2225.29 251.784 L2228.99 251.784 Q2232.46 257.247 2234.17 262.478 Q2235.91 267.71 2235.91 272.872 Q2235.91 278.057 2234.17 283.311 Q2232.46 288.566 2228.99 294.006 L2225.29 294.006 Q2228.36 288.705 2229.87 283.473 Q2231.4 278.219 2231.4 272.872 Q2231.4 267.524 2229.87 262.316 Q2228.36 257.108 2225.29 251.784 Z\" fill=\"#000000\" fill-rule=\"evenodd\" fill-opacity=\"1\" /></svg>\n"
     },
     "metadata": {},
     "execution_count": 430
    }
   ],
   "metadata": {}
  },
  {
   "cell_type": "code",
   "execution_count": 417,
   "source": [
    "\n",
    "c2  = (3pi/32)^(4/3)\n",
    "\n",
    "x1_square = ((2*c2-1.25) + sqrt( (2*c2-1.25)^2 - 4*c2*(c2-0.25) ))/(2*c2)\n",
    "@show x1_square\n",
    "xi = sqrt(x1_square)\n",
    "@show xi"
   ],
   "outputs": [
    {
     "output_type": "stream",
     "name": "stdout",
     "text": [
      "x1_square = 0.062099853969908546\n",
      "xi = 0.2491984228880844\n"
     ]
    },
    {
     "output_type": "execute_result",
     "data": {
      "text/plain": [
       "0.2491984228880844"
      ]
     },
     "metadata": {},
     "execution_count": 417
    }
   ],
   "metadata": {}
  },
  {
   "cell_type": "code",
   "execution_count": 618,
   "source": [
    "using Plots\n",
    "\n",
    "ratio_part(R,i,a)          = R^2/(i*a) + i/a + a/i\n",
    "conformal_parameter(R,i,a) = 0.5*ratio_part(R,i,a) + 0.5*sqrt(ratio_part(R,i,a)^2-4)\n",
    "\n",
    "#====================================================================#\n",
    "#conformal parameterに関して調べる\n",
    "\n",
    "#@show conformal_parameter(1,0.1,0.1) \n",
    "#=\n",
    "@show conformal_parameter(1,1,2.5)\n",
    "@show conformal_parameter(1,6,3)\n",
    "@show conformal_parameter(1,4,10)\n",
    "=#\n",
    "#3次元プロット\n",
    "#=\n",
    "mesh = 1000\n",
    "xr = range(1,5,length=mesh)\n",
    "yr = range(1,5,length=mesh)\n",
    "conformal_map = zeros(mesh,mesh)\n",
    "\n",
    "@. conformal_map = conformal_parameter(1, xr',yr)\n",
    "\n",
    "surface(conformal_map)\n",
    "=#\n",
    "\n",
    "\n",
    "test_P(R,i,a)   = ( R/(i*a) ) * (conformal_parameter(R,i,a)^2+1)^(-2)\n",
    "scaled_P(R,i,a) = ( R/(i*a) ) * (conformal_parameter(R,i,a)^2+1)^(-2)\n",
    "\n",
    "rho1 = 1.0\n",
    "rho2 = 3.0\n",
    "r1   = 1.0\n",
    "r2   = 3.0\n",
    "\n",
    "#=\n",
    "    #スケール前\n",
    "    test_P1 = test_P(r1, rho1, rho1)\n",
    "    test_P2 = test_P(r1, rho1, rho2)\n",
    "    test_P3 = test_P(r2, rho1, rho1)\n",
    "    test_P4 = test_P(r2, rho1, rho2)\n",
    "    println(\"P1 = $test_P1  P2 = $test_P2  P3 = $test_P3  P4 = $test_P4\")\n",
    "\n",
    "    #スケール後\n",
    "    scale1 = sqrt(rho1*rho1)\n",
    "    scale2 = sqrt(rho1*rho2)\n",
    "\n",
    "    test_Q1 = test_P(r1/scale1,rho1/scale1,rho1/scale1)\n",
    "    test_Q2 = test_P(r1/scale2,rho1/scale2,rho2/scale2)\n",
    "    test_Q3 = test_P(r2/scale1,rho1/scale1,rho1/scale1)\n",
    "    test_Q4 = test_P(r2/scale2,rho1/scale2,rho2/scale2)\n",
    "    println(\"Q1 = $test_Q1  Q2 = $test_Q2  Q3 = $test_Q3  Q4 = $test_Q4\")\n",
    "\n",
    "    #スケールを戻す\n",
    "\n",
    "    test_R1 = test_Q1/scale1\n",
    "    test_R2 = test_Q2/scale2\n",
    "    test_R3 = test_Q3/scale1\n",
    "    test_R4 = test_Q4/scale2\n",
    "    println(\"R1 = $test_R1  R2 = $test_R2  R3 = $test_R3  R4 = $test_R4\")\n",
    "\n",
    "\n",
    "    #lambdaの値を確認\n",
    "        #スケール前\n",
    "    println(\"lanbda:スケール前\")\n",
    "    l1 = conformal_parameter(r1,rho1,rho1)\n",
    "    l2 = conformal_parameter(r1,rho1,rho2)\n",
    "    l3 = conformal_parameter(r2,rho1,rho1)\n",
    "    l4 = conformal_parameter(r2,rho1,rho2)\n",
    "    println(\"l1 = $l1  l2 = $l2  l3 = $l3 l4 = $l4\")\n",
    "        #スケール後\n",
    "    println(\"lambda:スケール後\")\n",
    "    conformal_parameter(r1/scale1,rho1/scale1,rho1/scale1)\n",
    "    conformal_parameter(r1/scale2,rho1/scale2,rho2/scale2)\n",
    "    conformal_parameter(r2/scale1,rho1/scale1,rho1/scale1)\n",
    "    conformal_parameter(r2/scale2,rho1/scale2,rho2/scale2)\n",
    "    println(\"l1 = $l1  l2 = $l2  l3 = $l3 l4 = $l4\")\n",
    "\n",
    "=#\n",
    "\n",
    "#共通のスケールを用いた次元評価（これが本来行いたいもの）\n",
    "\n",
    "L = 2.0\n",
    "\n",
    "rho1 = 1.0\n",
    "rho2 = 3.0\n",
    "r1   = 1.0\n",
    "\n",
    "test_P1 = test_P(r1, rho1, rho2)\n",
    "\n",
    "s_rho1 = rho1/L\n",
    "s_rho2 = rho2/L\n",
    "s_r1   = r1/L\n",
    "\n",
    "test_P2 = test_P(s_r1, s_rho1, s_rho2)\n",
    "test_P3 = test_P2 / L\n",
    "\n",
    "\n",
    "@show test_P1\n",
    "@show test_P2\n",
    "@show test_P3\n",
    "\n",
    "\n",
    "@show conformal_parameter(1.0,2,3)\n",
    "@show conformal_parameter(2.0,4,6)\n"
   ],
   "outputs": [
    {
     "output_type": "stream",
     "name": "stdout",
     "text": [
      "test_P1 = 0.002183210702173884\n",
      "test_P2 = 0.004366421404347768\n",
      "test_P3 = 0.002183210702173884\n",
      "conformal_parameter(1.0, 2, 3) = 1.7675918792439977\n",
      "conformal_parameter(2.0, 4, 6) = 1.7675918792439977\n"
     ]
    },
    {
     "output_type": "execute_result",
     "data": {
      "text/plain": [
       "1.7675918792439977"
      ]
     },
     "metadata": {},
     "execution_count": 618
    }
   ],
   "metadata": {}
  },
  {
   "cell_type": "code",
   "execution_count": 595,
   "source": [
    "\n",
    "#=\n",
    "Minimalな例\n",
    "=#\n",
    "\n",
    "func_L(A,B,C)     = A*(1 + C/B )/(C*B)\n",
    "dum_func_L(A,B,C) = A*(1 + C/B + A )/(C*B)\n",
    "\n",
    "A = 1.0\n",
    "B = 2.0\n",
    "C = 3.0\n",
    "\n",
    "L = 0.04\n",
    "\n",
    "a = A/L\n",
    "b = B/L\n",
    "c = C/L\n",
    "\n",
    "@show func_L(A,B,C)\n",
    "@show dum_func_L(A,B,C)\n",
    "\n",
    "@show func_L(a,b,c) / L\n",
    "@show dum_func_L(a,b,c) / L\n"
   ],
   "outputs": [
    {
     "output_type": "stream",
     "name": "stdout",
     "text": [
      "func_L(A, B, C) = 0.4166666666666667\n",
      "dum_func_L(A, B, C) = 0.5833333333333334\n",
      "func_L(a, b, c) / L = 0.41666666666666663\n",
      "dum_func_L(a, b, c) / L = 4.583333333333333\n"
     ]
    },
    {
     "output_type": "execute_result",
     "data": {
      "text/plain": [
       "4.583333333333333"
      ]
     },
     "metadata": {},
     "execution_count": 595
    }
   ],
   "metadata": {}
  },
  {
   "cell_type": "code",
   "execution_count": 70,
   "source": [
    "using BenchmarkTools\n",
    "\n",
    "matrix  = zeros(7,7)\n",
    "matrix2 = similar(matrix)\n",
    "matrix3 = similar(matrix2)\n",
    "matrix4 = similar(matrix2)\n",
    "\n",
    "I = 4\n",
    "A = 3\n",
    "\n",
    "#速度比較用\n",
    "function burry1!(I,A,matrix)    \n",
    "    for m = I+1:I+A\n",
    "        for l = 1:I\n",
    "            matrix[l,m] = l+m\n",
    "        end\n",
    "    end\n",
    "end\n",
    "\n",
    "#速度比較用\n",
    "function burry2!(I,A,matrix)    \n",
    "    for l = 1:I\n",
    "        for m = I+1:I+A\n",
    "            matrix[l,m] = l+m\n",
    "        end\n",
    "    end\n",
    "end\n",
    "\n",
    "#=\n",
    "@time burry1!(I,A,matrix)\n",
    "@time burry2!(I,A,matrix2)\n",
    "\n",
    "@time copy!(matrix3,matrix2')\n",
    "\n",
    "display(matrix)\n",
    "display(matrix3)\n",
    "\n",
    "matrix4 = matrix2 + matrix3\n",
    "=#\n",
    "\n",
    "A = [1 2 ; 3 4]\n",
    "B = [5 6 ; 7 8]\n",
    "C = zeros(2,2)\n",
    "D = zeros(2,2)\n",
    "\n",
    "@time C = A + B\n",
    "@time det(A+B)\n",
    "@time det(C)\n",
    "\n",
    "\n"
   ],
   "outputs": [
    {
     "output_type": "stream",
     "name": "stdout",
     "text": [
      "  0.000018 seconds (1 allocation: 112 bytes)\n",
      "  0.000013 seconds (4 allocations: 336 bytes)\n",
      "  0.000013 seconds (3 allocations: 224 bytes)\n"
     ]
    },
    {
     "output_type": "execute_result",
     "data": {
      "text/plain": [
       "-7.999999999999989"
      ]
     },
     "metadata": {},
     "execution_count": 70
    }
   ],
   "metadata": {}
  },
  {
   "cell_type": "code",
   "execution_count": 77,
   "source": [],
   "outputs": [
    {
     "output_type": "error",
     "ename": "LoadError",
     "evalue": "UndefVarError: Sigma not defined",
     "traceback": [
      "UndefVarError: Sigma not defined",
      "",
      "Stacktrace:",
      " [1] top-level scope",
      "   @ In[77]:1",
      " [2] eval",
      "   @ ./boot.jl:360 [inlined]",
      " [3] include_string(mapexpr::typeof(REPL.softscope), mod::Module, code::String, filename::String)",
      "   @ Base ./loading.jl:1116"
     ]
    }
   ],
   "metadata": {}
  },
  {
   "cell_type": "code",
   "execution_count": null,
   "source": [],
   "outputs": [],
   "metadata": {}
  }
 ],
 "metadata": {
  "kernelspec": {
   "display_name": "Julia 1.6.3",
   "language": "julia",
   "name": "julia-1.6"
  },
  "language_info": {
   "file_extension": ".jl",
   "name": "julia",
   "mimetype": "application/julia",
   "version": "1.6.3"
  }
 },
 "nbformat": 4,
 "nbformat_minor": 5
}